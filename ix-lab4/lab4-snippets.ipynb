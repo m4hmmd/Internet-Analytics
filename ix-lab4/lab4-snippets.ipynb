{
 "cells": [
  {
   "cell_type": "markdown",
   "metadata": {},
   "source": [
    "# Snippets\n",
    "\n",
    "Some useful piece of code."
   ]
  },
  {
   "cell_type": "markdown",
   "metadata": {},
   "source": [
    "## Argsort\n",
    "\n",
    "Get the indices of the items in an array sorted in decreasing order (largest to smallest) _acording to the value of the items_."
   ]
  },
  {
   "cell_type": "code",
   "execution_count": 1,
   "metadata": {
    "collapsed": false
   },
   "outputs": [
    {
     "name": "stdout",
     "output_type": "stream",
     "text": [
      "[5 4 3 2 1]\n"
     ]
    }
   ],
   "source": [
    "import numpy as np\n",
    "\n",
    "# We create an array.\n",
    "x = np.array([4, 3, 5, 1, 2])\n",
    "# Argsort sort in increasing order, we use a trick: [::-1]\n",
    "decreasing_indices = np.argsort(x)[::-1]\n",
    "\n",
    "print(x[decreasing_indices])"
   ]
  },
  {
   "cell_type": "markdown",
   "metadata": {},
   "source": [
    "## Defaultdict\n",
    "\n",
    "Initialise a dictionary with a default type at each potential key."
   ]
  },
  {
   "cell_type": "code",
   "execution_count": 2,
   "metadata": {
    "collapsed": false
   },
   "outputs": [
    {
     "name": "stdout",
     "output_type": "stream",
     "text": [
      "defaultdict(<class 'int'>, {'b': 5, 'a': 1})\n",
      "0\n"
     ]
    }
   ],
   "source": [
    "from collections import defaultdict\n",
    "\n",
    "# We create a dict where each potential key is an int\n",
    "d = defaultdict(int)\n",
    "\n",
    "# We add one to the key 'a'\n",
    "d['a'] += 1\n",
    "# We add five to the key 'b'\n",
    "d['b'] += 5\n",
    "\n",
    "# The dict has indeed the correct values\n",
    "print(d)\n",
    "# It has 0 for another key that we have never set\n",
    "print(d['c'])"
   ]
  },
  {
   "cell_type": "markdown",
   "metadata": {},
   "source": [
    "## Sparse matrices"
   ]
  },
  {
   "cell_type": "code",
   "execution_count": 3,
   "metadata": {
    "collapsed": false
   },
   "outputs": [
    {
     "name": "stdout",
     "output_type": "stream",
     "text": [
      "  (0, 0)\t1.0\n",
      "  (5, 0)\t42.0\n",
      "  (100, 0)\t3.14156926536\n",
      "  (2673, 62)\t100.0\n",
      "  (9999, 99)\t1000.0\n"
     ]
    }
   ],
   "source": [
    "import numpy as np\n",
    "from scipy.sparse import csr_matrix\n",
    "\n",
    "# Define the size of the matrix\n",
    "m = 10000\n",
    "n = 100\n",
    "\n",
    "# Set some values\n",
    "values = [1,\n",
    "          42,\n",
    "          3.14156926536,\n",
    "          100,\n",
    "          1000]\n",
    "\n",
    "# Define their position in the matrix\n",
    "rows = [0,\n",
    "        5,\n",
    "        100,\n",
    "        2673,\n",
    "        9999]\n",
    "columns = [0,\n",
    "           0,\n",
    "           0,\n",
    "           62,\n",
    "           99]\n",
    "\n",
    "X = csr_matrix((values, (rows, columns)), shape=(m, n))\n",
    "print(X)"
   ]
  },
  {
   "cell_type": "markdown",
   "metadata": {},
   "source": [
    "## Get value with index from RDD"
   ]
  },
  {
   "cell_type": "code",
   "execution_count": null,
   "metadata": {
    "collapsed": true
   },
   "outputs": [],
   "source": [
    "# Create an RDD\n",
    "values = sc.parallelize(['a', 'b', 'c', 'd'])\n",
    "\n",
    "# Map each value with its index (a -> 0, b -> 1, ...)\n",
    "values_with_index = values.zipWithIndex()\n",
    "\n",
    "print(values_with_index.take(4))"
   ]
  },
  {
   "cell_type": "markdown",
   "metadata": {},
   "source": [
    "## Spark's sparse vectors "
   ]
  },
  {
   "cell_type": "code",
   "execution_count": null,
   "metadata": {
    "collapsed": true
   },
   "outputs": [],
   "source": [
    "from pyspark.mllib.linalg import Vectors \n",
    "\n",
    "# d-dimensional vector\n",
    "d = 1000\n",
    "\n",
    "# Set indices\n",
    "indices = [0, 10, 100, 999]\n",
    "values = [1, 3.14, 42, 11]\n",
    "\n",
    "# Create the sparse vector\n",
    "v = Vectors.sparse(d, indices, values)\n",
    "\n",
    "print(v)"
   ]
  },
  {
   "cell_type": "markdown",
   "metadata": {},
   "source": [
    "## Save JSON\n",
    "\n",
    "You could have a look at the `utils.py` file."
   ]
  },
  {
   "cell_type": "code",
   "execution_count": 1,
   "metadata": {
    "collapsed": false
   },
   "outputs": [],
   "source": [
    "from utils import save_json\n",
    "\n",
    "dictionaries = [\n",
    "    {'a': 0},\n",
    "    {'b': 1},\n",
    "    {'c': 2}\n",
    "]\n",
    "\n",
    "save_json(dictionaries, 'dictionaries.txt')"
   ]
  },
  {
   "cell_type": "markdown",
   "metadata": {},
   "source": [
    "## Load JSON"
   ]
  },
  {
   "cell_type": "code",
   "execution_count": 2,
   "metadata": {
    "collapsed": false
   },
   "outputs": [
    {
     "name": "stdout",
     "output_type": "stream",
     "text": [
      "[{'a': 0}, {'b': 1}, {'c': 2}]\n"
     ]
    }
   ],
   "source": [
    "from utils import load_json\n",
    "\n",
    "dictionaries = load_json('dictionaries.txt')\n",
    "print(dictionaries)"
   ]
  }
 ],
 "metadata": {
  "kernelspec": {
   "display_name": "Python 3",
   "language": "python",
   "name": "python3"
  },
  "language_info": {
   "codemirror_mode": {
    "name": "ipython",
    "version": 3
   },
   "file_extension": ".py",
   "mimetype": "text/x-python",
   "name": "python",
   "nbconvert_exporter": "python",
   "pygments_lexer": "ipython3",
   "version": "3.5.2"
  }
 },
 "nbformat": 4,
 "nbformat_minor": 2
}
