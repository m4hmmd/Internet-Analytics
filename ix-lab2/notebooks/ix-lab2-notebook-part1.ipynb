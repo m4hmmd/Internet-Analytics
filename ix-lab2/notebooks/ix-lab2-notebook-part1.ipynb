{
 "cells": [
  {
   "cell_type": "markdown",
   "metadata": {},
   "source": [
    "# Networks: structure, evolution & processes\n",
    "**Internet Analytics - Lab 2**\n",
    "\n",
    "---\n",
    "\n",
    "**Group:** *B*\n",
    "\n",
    "**Names:**\n",
    "\n",
    "* *Keijiro Tajima*\n",
    "* *Mahammad Shirinov*\n",
    "* *Stephen Zhao*\n",
    "\n",
    "---\n",
    "\n",
    "#### Instructions\n",
    "\n",
    "*This is a template for part 1 of the lab. Clearly write your answers, comments and interpretations in Markodown cells. Don't forget that you can add $\\LaTeX$ equations in these cells. Feel free to add or remove any cell.*\n",
    "\n",
    "*Please properly comment your code. Code readability will be considered for grading. To avoid long cells of codes in the notebook, you can also embed long python functions and classes in a separate module. Don’t forget to hand in your module if that is the case. In multiple exercises, you are required to come up with your own method to solve various problems. Be creative and clearly motivate and explain your methods. Creativity and clarity will be considered for grading.*"
   ]
  },
  {
   "cell_type": "markdown",
   "metadata": {},
   "source": [
    "---\n",
    "\n",
    "## 2.1 Exploration of real networks\n",
    "\n",
    "#### Exercise 2.1"
   ]
  },
  {
   "cell_type": "code",
   "execution_count": 4,
   "metadata": {},
   "outputs": [
    {
     "name": "stdout",
     "output_type": "stream",
     "text": [
      "In Network 1:\n",
      "Number of nodes: 13033\n",
      "Number of edges: 18584\n"
     ]
    }
   ],
   "source": [
    "import networkx as nx\n",
    "import csv\n",
    "\n",
    "G = nx.Graph()\n",
    "\n",
    "with open('../data/network1.csv') as csv_file:\n",
    "    csv_reader = csv.reader(csv_file, delimiter=',')\n",
    "    for row in csv_reader:\n",
    "        if (row[0][0] != '#'):\n",
    "            G.add_edge(int(row[0]), int(row[1]))\n",
    "\n",
    "n1_edge_count = len(G.edges)\n",
    "n1_node_count = len(G.nodes)\n",
    "print ('In Network 1:')\n",
    "print ('Number of nodes:', n1_node_count)\n",
    "print ('Number of edges:', n1_edge_count)"
   ]
  },
  {
   "cell_type": "markdown",
   "metadata": {},
   "source": [
    "#### Exercise 2.2:  Node degree distribution"
   ]
  },
  {
   "cell_type": "code",
   "execution_count": 5,
   "metadata": {},
   "outputs": [
    {
     "data": {
      "image/png": "[encoded data removed]",
      "text/plain": [
       "<matplotlib.figure.Figure at 0x7f7b43453780>"
      ]
     },
     "metadata": {},
     "output_type": "display_data"
    }
   ],
   "source": [
    "import matplotlib.pyplot as plt\n",
    "import math\n",
    "\n",
    "# Degrees\n",
    "n1_degrees = sorted([d for n, d in G.degree()])\n",
    "\n",
    "# Node degree distribution\n",
    "n1_largest_degree = max(n1_degrees)\n",
    "n1_degree_distribution = [n1_degrees.count(d) for d in range(0, n1_largest_degree+1)]\n",
    "\n",
    "# Cumulative node degree distribution\n",
    "n1_cumulative_degree_distribution = n1_degree_distribution\n",
    "for d in range(n1_largest_degree):\n",
    "    n1_cumulative_degree_distribution[d+1] += n1_cumulative_degree_distribution[d]\n",
    "    \n",
    "max_n = max(n1_cumulative_degree_distribution)\n",
    "n1_complementary_cumulative_degree_distribution = [max_n - n for n in n1_cumulative_degree_distribution]\n",
    "\n",
    "# Plotting using a log-log plot\n",
    "plt.title(\"Complementary Cumulative Node Degree Distribution\")\n",
    "plt.xlabel(\"d\")\n",
    "plt.ylabel(\"number of nodes with having degree > d\")\n",
    "plt.loglog(n1_complementary_cumulative_degree_distribution)\n",
    "plt.show()"
   ]
  },
  {
   "cell_type": "markdown",
   "metadata": {},
   "source": [
    "##### Properties of the degree distribution?\n",
    "1. has strong outliers\n",
    "2. compute the clustering coefficient?"
   ]
  },
  {
   "cell_type": "markdown",
   "metadata": {},
   "source": [
    "This resemles Pareto Distribution with \\gamma ~ -4/3"
   ]
  },
  {
   "cell_type": "markdown",
   "metadata": {},
   "source": [
    "#### Exercise 2.3: Giant component"
   ]
  },
  {
   "cell_type": "code",
   "execution_count": 6,
   "metadata": {},
   "outputs": [
    {
     "name": "stdout",
     "output_type": "stream",
     "text": [
      "Number of connected components: 192\n",
      "There is a giant component with 12576 nodes.\n"
     ]
    }
   ],
   "source": [
    "connected_components = [G.subgraph(c) for c in nx.connected_components(G)]\n",
    "\n",
    "largest_component_size = max([len(c) for c in connected_components])\n",
    "\n",
    "# print('Connected components:', sorted([len(c) for c in connected_components], reverse = True))\n",
    "\n",
    "print('Number of connected components:', nx.number_connected_components(G))\n",
    "\n",
    "if largest_component_size > n1_node_count/2 :\n",
    "    print('There is a giant component with', largest_component_size, 'nodes.')"
   ]
  },
  {
   "cell_type": "markdown",
   "metadata": {},
   "source": [
    "#### Exercise 2.4: Short paths & Small-worlds"
   ]
  },
  {
   "cell_type": "markdown",
   "metadata": {},
   "source": []
  },
  {
   "cell_type": "code",
   "execution_count": 7,
   "metadata": {},
   "outputs": [
    {
     "name": "stdout",
     "output_type": "stream",
     "text": [
      "79072064\n"
     ]
    }
   ],
   "source": [
    "# List of all length of paths between every pair of nodes (u, v)\n",
    "n1_path_lengths = [] \n",
    "for a in range(n1_node_count): \n",
    "    shortest_paths = nx.shortest_path_length(G,source=a) \n",
    "    n1_path_lengths.extend([shortest_paths[b] for b in shortest_paths if b > a])\n",
    "\n",
    "print(len(n1_path_lengths))\n"
   ]
  },
  {
   "cell_type": "code",
   "execution_count": null,
   "metadata": {
    "collapsed": true
   },
   "outputs": [],
   "source": [
    "# new code\n",
    "path_length = []\n",
    "\n",
    "for node in network1_nodes:\n",
    "        path_dic = nx.shortest_path_length(G, source = node)\n",
    "        for val in path_dic.values():\n",
    "            if val == 0:\n",
    "                continue\n",
    "            path_length.append(val)\n",
    "        \n",
    "plt.hist(path_length, normed=True)"
   ]
  },
  {
   "cell_type": "code",
   "execution_count": 9,
   "metadata": {},
   "outputs": [
    {
     "name": "stdout",
     "output_type": "stream",
     "text": [
      "Mean path length between any two nodes is 4.175471997290978\n",
      "Standard Deviation: 1.056650969522263\n"
     ]
    }
   ],
   "source": [
    "# Mean and Standard Deviation of path lengths\n",
    "n1_path_lengths_mean = sum(n1_path_lengths)/len(n1_path_lengths)\n",
    "print('Mean path length between any two nodes is', n1_path_lengths_mean)\n",
    "import statistics\n",
    "var = 0\n",
    "for x in n1_path_lengths:\n",
    "    var += (x - n1_path_lengths_mean)**2\n",
    "var /= len(n1_path_lengths)\n",
    "sd = math.sqrt(var)\n",
    "print ('Standard Deviation:', sd)"
   ]
  },
  {
   "cell_type": "markdown",
   "metadata": {},
   "source": [
    "So it does look like a small world"
   ]
  },
  {
   "cell_type": "code",
   "execution_count": 22,
   "metadata": {},
   "outputs": [
    {
     "data": {
      "image/png": "[encoded data removed]",
      "text/plain": [
       "<matplotlib.figure.Figure at 0x7f7b24eabe48>"
      ]
     },
     "metadata": {},
     "output_type": "display_data"
    }
   ],
   "source": [
    "n1_sorted_path_lengths = sorted(n1_path_lengths, reverse = True)\n",
    "\n",
    "plt.plot(n1_sorted_path_lengths, 'b-')\n",
    "plt.title(\"Shortest paths plot\")\n",
    "plt.ylabel(\"lenght of a shortest path\")\n",
    "plt.show()"
   ]
  },
  {
   "cell_type": "code",
   "execution_count": 23,
   "metadata": {},
   "outputs": [
    {
     "data": {
      "image/png": "[encoded data removed]",
      "text/plain": [
       "<matplotlib.figure.Figure at 0x7f7b434a1f28>"
      ]
     },
     "metadata": {},
     "output_type": "display_data"
    }
   ],
   "source": [
    "# 'Connectivity Growth'\n",
    "# for n, find number of paths with length n\n",
    "accessibiity_distr = [n1_sorted_path_lengths.count(n) for n in range(1, max(n1_sorted_path_lengths)+1)]\n",
    "for i in range(max(n1_sorted_path_lengths) - 1):\n",
    "    accessibiity_distr[i+1] += accessibiity_distr[i]\n",
    "\n",
    "# To get avg number of nodes within n hops, multiply it by 2 and divide by N\n",
    "accessibiity_distr = list(map(lambda x: x * 2 / n1_node_count, accessibiity_distr))\n",
    "plt.plot(accessibiity_distr, 'b-')\n",
    "plt.xlabel('length of path = n')\n",
    "plt.ylabel('average number of nodes reachable within n hops')\n",
    "plt.show()"
   ]
  },
  {
   "cell_type": "markdown",
   "metadata": {},
   "source": [
    "As we can see, the 'connectedness' doesn't imporve much after path length 6. So, indeed, it is a small world."
   ]
  },
  {
   "cell_type": "markdown",
   "metadata": {},
   "source": [
    "#### Exercise 2.5: Network comparison"
   ]
  },
  {
   "cell_type": "code",
   "execution_count": 24,
   "metadata": {},
   "outputs": [
    {
     "name": "stdout",
     "output_type": "stream",
     "text": [
      "Number of nodes in network 2: 26542\n",
      "Number of edges in network 2: 43516\n"
     ]
    }
   ],
   "source": [
    "# NUMBER OF NODES AND EDGES\n",
    "H = nx.Graph()\n",
    "with open('../data/network2.csv') as csv_file2:\n",
    "    csv_reader2 = csv.reader(csv_file2, delimiter=',')\n",
    "    for row in csv_reader2:\n",
    "        if (row[0][0] != '#'):\n",
    "            H.add_edge(int(row[0]), int(row[1]))\n",
    "\n",
    "n2_edge_count = H.edges.__len__()\n",
    "n2_node_count = H.no\n",
    "des.__len__()\n",
    "print ('In Network 2:')\n",
    "print ('Number of nodes:', n2_node_count)\n",
    "print ('Number of edges:', n2_edge_count)"
   ]
  },
  {
   "cell_type": "code",
   "execution_count": 27,
   "metadata": {},
   "outputs": [
    {
     "data": {
      "image/png": "[encoded data removed]",
      "text/plain": [
       "<matplotlib.figure.Figure at 0x7f7b231d6128>"
      ]
     },
     "metadata": {},
     "output_type": "display_data"
    }
   ],
   "source": [
    "# Degrees\n",
    "n2_degrees = sorted([d for n, d in H.degree()])\n",
    "\n",
    "# Node degree distribution\n",
    "n2_largest_degree = max(n2_degrees)\n",
    "n2_degree_distribution = [n2_degrees.count(d) for d in range(0, n2_largest_degree+1)]\n",
    "\n",
    "# Cumulative node degree distribution\n",
    "n2_cumulative_degree_distribution = n2_degree_distribution\n",
    "for d in range(n2_largest_degree):\n",
    "    n2_cumulative_degree_distribution[d+1] += n2_cumulative_degree_distribution[d]\n",
    "    \n",
    "n2_max_n = max(n2_cumulative_degree_distribution)\n",
    "n2_complementary_cumulative_degree_distribution = [n2_max_n - n for n in n2_cumulative_degree_distribution]\n",
    "\n",
    "# Plotting using a log-log plot\n",
    "plt.title(\"Complementary Cumulative Node Degree Distribution\")\n",
    "plt.xlabel(\"d\")\n",
    "plt.ylabel(\"number of nodes with having degree > d\")\n",
    "plt.loglog(n2_complementary_cumulative_degree_distribution)\n",
    "plt.show()"
   ]
  },
  {
   "cell_type": "code",
   "execution_count": 28,
   "metadata": {},
   "outputs": [
    {
     "name": "stdout",
     "output_type": "stream",
     "text": [
      "Number of connected components: 5\n",
      "There is a giant component with 26481 nodes.\n"
     ]
    }
   ],
   "source": [
    "# CONNECTED COMPONENTS\n",
    "n2_connected_components = [H.subgraph(c) for c in nx.connected_components(H)]\n",
    "\n",
    "n2_largest_component_size = max([len(c) for c in n2_connected_components])\n",
    "\n",
    "# print('Connected components:', sorted([len(c) for c in n2_connected_components], reverse = True))\n",
    "\n",
    "print('Number of connected components:', nx.number_connected_components(H))\n",
    "\n",
    "if n2_largest_component_size > n2_node_count/2 :\n",
    "    print('There is a giant component with', n2_largest_component_size, 'nodes.')\n",
    "    "
   ]
  },
  {
   "cell_type": "code",
   "execution_count": null,
   "metadata": {
    "collapsed": true
   },
   "outputs": [],
   "source": [
    "# Path Lengths\n",
    "# List of all length of paths between every pair of nodes (u, v)\n",
    "n2_path_lengths = [] \n",
    "for a in H.nodes: \n",
    "    shortest_paths = nx.shortest_path_length(H,source=a) \n",
    "    n2_path_lengths.extend([shortest_paths[b] for b in shortest_paths if b > a])\n",
    "\n",
    "print(len(n2_path_lengths))"
   ]
  },
  {
   "cell_type": "code",
   "execution_count": null,
   "metadata": {
    "collapsed": true
   },
   "outputs": [],
   "source": [
    "# Mean and Standard Deviation of path lengths\n",
    "n2_path_lengths_mean = sum(n2_path_lengths)/len(n2_path_lengths)\n",
    "print('Mean path length between any two nodes is', n2_path_lengths_mean)\n",
    "n2_var = 0\n",
    "for x in n2_path_lengths:\n",
    "    n2_var += (x - n2_path_lengths_mean)**2\n",
    "n2_var /= len(n2_path_lengths)\n",
    "n2_sd = math.sqrt(var)\n",
    "print ('Standard Deviation:', n2_sd)"
   ]
  },
  {
   "cell_type": "code",
   "execution_count": null,
   "metadata": {
    "collapsed": true
   },
   "outputs": [],
   "source": [
    "# 'Connectivity Growth'\n",
    "# for n, find number of paths with length n\n",
    "n2_accessibiity_distr = [n2_sorted_path_lengths.count(n) for n in range(1, max(n2_sorted_path_lengths)+1)]\n",
    "for i in range(max(n2_sorted_path_lengths) - 1):\n",
    "    accessibiity_distr[i+1] += accessibiity_distr[i]\n",
    "\n",
    "# To get avg number of nodes within n hops, multiply it by 2 and divide by N\n",
    "n2_accessibiity_distr = list(map(lambda x: x * 2 / n2_node_count, n2_accessibiity_distr))\n",
    "plt.plot(n2_accessibiity_distr)\n",
    "plt.xlabel('length of path = n')\n",
    "plt.ylabel('average number of nodes reachable within n hops')\n",
    "plt.show()"
   ]
  },
  {
   "cell_type": "markdown",
   "metadata": {},
   "source": [
    "#### Exercise 2.6: Network identification"
   ]
  },
  {
   "cell_type": "code",
   "execution_count": null,
   "metadata": {
    "collapsed": true
   },
   "outputs": [],
   "source": [
    "# network1 corresponds to a subgraph of routers comprising the Internet. The reason is that it's degree distribution follows power low.\n",
    "# network2 is the network of roads around the city of New-York. The reason is that the degrees of nodes are very small, at most 8, and almost all of the nodes are connected."
   ]
  }
 ],
 "metadata": {
  "kernelspec": {
   "display_name": "Python 3",
   "language": "python",
   "name": "python3"
  },
  "language_info": {
   "codemirror_mode": {
    "name": "ipython",
    "version": 3
   },
   "file_extension": ".py",
   "mimetype": "text/x-python",
   "name": "python",
   "nbconvert_exporter": "python",
   "pygments_lexer": "ipython3",
   "version": "3.6.3"
  }
 },
 "nbformat": 4,
 "nbformat_minor": 2
}
