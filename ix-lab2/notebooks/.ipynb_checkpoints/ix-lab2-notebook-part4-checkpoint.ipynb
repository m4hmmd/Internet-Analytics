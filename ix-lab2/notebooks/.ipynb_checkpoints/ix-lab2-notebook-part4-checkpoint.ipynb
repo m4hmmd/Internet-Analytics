{
 "cells": [
  {
   "cell_type": "markdown",
   "metadata": {},
   "source": [
    "# Networks: structure, evolution & processes\n",
    "**Internet Analytics - Lab 2**\n",
    "\n",
    "---\n",
    "\n",
    "**Group:** *Your group letter.*\n",
    "\n",
    "**Names:**\n",
    "\n",
    "* *Name 1*\n",
    "* *Name 2*\n",
    "* *Name 3*\n",
    "\n",
    "---\n",
    "\n",
    "#### Instructions\n",
    "\n",
    "*This is a template for part 4 of the lab. Clearly write your answers, comments and interpretations in Markodown cells. Don't forget that you can add $\\LaTeX$ equations in these cells. Feel free to add or remove any cell.*\n",
    "\n",
    "*Please properly comment your code. Code readability will be considered for grading. To avoid long cells of codes in the notebook, you can also embed long python functions and classes in a separate module. Don’t forget to hand in your module if that is the case. In multiple exercises, you are required to come up with your own method to solve various problems. Be creative and clearly motivate and explain your methods. Creativity and clarity will be considered for grading.*"
   ]
  },
  {
   "cell_type": "markdown",
   "metadata": {},
   "source": [
    "---\n",
    "\n",
    "## 2.4 PageRank\n",
    "\n",
    "### 2.4.1 Random Surfer Model\n",
    "\n",
    "#### Exercise 2.12"
   ]
  },
  {
   "cell_type": "code",
   "execution_count": 96,
   "metadata": {},
   "outputs": [
    {
     "name": "stdout",
     "output_type": "stream",
     "text": [
      "Edge List: [(0, 1), (1, 2), (1, 3), (2, 0), (3, 2), (4, 5), (4, 6), (5, 6), (6, 7), (7, 4)]\n",
      "[0.0, 0.0, 0.0, 0.0, 0.2837, 0.1489, 0.2837, 0.2837]\n",
      "Edge List: [(0, 1), (0, 4), (4, 1), (2, 3), (3, 0), (3, 1), (3, 2)]\n",
      "[0.001, 0.999, 0.0, 0.0, 0.0]\n"
     ]
    }
   ],
   "source": [
    "# ... WRITE YOUR CODE HERE...\n",
    "import networkx as nx\n",
    "import random\n",
    "C = nx.read_adjlist('../data/components.graph', create_using=nx.DiGraph(), nodetype=int)\n",
    "A = nx.read_adjlist('../data/absorbing.graph', create_using=nx.DiGraph(), nodetype=int)\n",
    "\n",
    "\n",
    "\n",
    "def random_surf(G, n_iter):\n",
    "    print('Edge List:', G.edges)\n",
    "    scores = [0 for i in G.nodes]\n",
    "    node = random.choice(list(G.nodes))\n",
    "\n",
    "    scores[node] += 1\n",
    "    for step in range (n_iter):\n",
    "        neighbors = list(G.neighbors(node))\n",
    "        if (len(neighbors) != 0):\n",
    "            next_node = random.choice(neighbors)\n",
    "            node = next_node\n",
    "        scores[node] += 1\n",
    "    score_sum = sum(scores)\n",
    "    scores_normalized = [round(x/score_sum, 4) for x in scores]\n",
    "    return scores_normalized\n",
    "\n",
    "print(random_surf(C, 1000))\n",
    "print(random_surf(A, 1000))\n",
    "\n",
    "# Note that tge subgraphs 0-3 and 4-7 are not connected\n"
   ]
  },
  {
   "cell_type": "markdown",
   "metadata": {},
   "source": [
    "#### Exercise 2.13"
   ]
  },
  {
   "cell_type": "code",
   "execution_count": null,
   "metadata": {
    "collapsed": true
   },
   "outputs": [],
   "source": []
  },
  {
   "cell_type": "markdown",
   "metadata": {},
   "source": [
    "---\n",
    "\n",
    "### 2.4.2 Power Iteration Method\n",
    "\n",
    "#### Exercise 2.14: Power Iteration method"
   ]
  },
  {
   "cell_type": "code",
   "execution_count": null,
   "metadata": {
    "collapsed": true
   },
   "outputs": [],
   "source": []
  },
  {
   "cell_type": "markdown",
   "metadata": {},
   "source": [
    "---\n",
    "\n",
    "### 2.4.3 Gaming the system\n",
    "\n",
    "#### Exercise 2.15"
   ]
  },
  {
   "cell_type": "code",
   "execution_count": null,
   "metadata": {
    "collapsed": true
   },
   "outputs": [],
   "source": []
  }
 ],
 "metadata": {
  "kernelspec": {
   "display_name": "Python 3",
   "language": "python",
   "name": "python3"
  },
  "language_info": {
   "codemirror_mode": {
    "name": "ipython",
    "version": 3
   },
   "file_extension": ".py",
   "mimetype": "text/x-python",
   "name": "python",
   "nbconvert_exporter": "python",
   "pygments_lexer": "ipython3",
   "version": "3.6.3"
  }
 },
 "nbformat": 4,
 "nbformat_minor": 2
}
