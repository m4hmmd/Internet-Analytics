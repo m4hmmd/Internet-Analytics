{
 "cells": [
  {
   "cell_type": "markdown",
   "metadata": {},
   "source": [
    "# Networks: structure, evolution & processes\n",
    "**Internet Analytics - Lab 2 helper**\n",
    "\n",
    "In this notebook, you can find snippets of Python code to help you solve the exercises of the lab.\n",
    "\n",
    "---\n",
    "\n",
    "### 2.2 Network Sampling\n",
    "\n",
    "You can use the library [`requests`](http://docs.python-requests.org/en/master/) to extract information about a node as follows:"
   ]
  },
  {
   "cell_type": "code",
   "execution_count": null,
   "metadata": {
    "collapsed": true
   },
   "outputs": [],
   "source": [
    "import requests"
   ]
  },
  {
   "cell_type": "code",
   "execution_count": null,
   "metadata": {
    "collapsed": true
   },
   "outputs": [],
   "source": [
    "# Base url of the API\n",
    "URL_TEMPLATE = 'http://iccluster040.iccluster.epfl.ch:5050/v1.0/facebook?user={user_id}'\n",
    "# Target user id\n",
    "user_id = 'f30ff3966f16ed62f5165a229a19b319'\n",
    "# The actual url to call \n",
    "url = URL_TEMPLATE.format(user_id=user_id)\n",
    "# Execute the HTTP Get request\n",
    "response = requests.get(url)\n",
    "# Format the json response as a Python dict\n",
    "data = response.json()\n",
    "print(data)"
   ]
  },
  {
   "cell_type": "markdown",
   "metadata": {},
   "source": [
    "---\n",
    "\n",
    "### 2.3 Epidemics\n",
    "\n",
    "#### Simulation\n",
    "\n",
    "We provide you with the module `epidemics_helper` including a Python class `SimulationSIR` to simulate epidemics. Read the documentation of the code if you have additional questions concerning its behavior."
   ]
  },
  {
   "cell_type": "code",
   "execution_count": 11,
   "metadata": {
    "collapsed": true
   },
   "outputs": [],
   "source": [
    "import epidemics_helper\n",
    "import networkx as nx\n",
    "import json"
   ]
  },
  {
   "cell_type": "markdown",
   "metadata": {},
   "source": [
    "The `SimulationSIR` object can simulate continuous-time [SIR] epidemics propagating over a network. To initialize it, you need to provide 3 parameters:\n",
    "\n",
    "* A graph `G` of type `networkx.Graph` over which the epidemic propagates,\n",
    "* The parameter $\\beta$ of type `float` corresponding to the rate of infection at which nodes infect their neighbors,\n",
    "* The parameter $\\gamma$ of type `float` corresponding to the rate at which nodes recover from the disease-\n",
    "\n",
    "The graph `G` is assumed to have nodes labelled using using consecutive integers starting at $0$. This is the case for the graph `nyc_augmented_network.json` that we are using.\n",
    "\n",
    " [SIR]: https://en.wikipedia.org/wiki/Epidemic_model#The_SIR_model\n",
    " "
   ]
  },
  {
   "cell_type": "code",
   "execution_count": 14,
   "metadata": {},
   "outputs": [],
   "source": [
    "G = nx.DiGraph()\n",
    "with open('../data/nyc_augmented_network.json') as nyc:\n",
    "    nyc = json.load(nyc)\n",
    "    nodes = nyc['nodes']\n",
    "    links = nyc['links']\n",
    "    for node in nodes:\n",
    "        G.add_node(node['id'])\n",
    "    for link in links:\n",
    "        G.add_edge(link['source'], link['target'])"
   ]
  },
  {
   "cell_type": "code",
   "execution_count": 96,
   "metadata": {
    "collapsed": true
   },
   "outputs": [],
   "source": [
    "sir = epidemics_helper.SimulationSIR(G, beta=1000.0, gamma=1.0)"
   ]
  },
  {
   "cell_type": "markdown",
   "metadata": {},
   "source": [
    "To start the simulation, use the function `launch_epidemic` which takes as input the source node `source`, and the maximum duration `max_time` the epidemic needs to run for."
   ]
  },
  {
   "cell_type": "code",
   "execution_count": 106,
   "metadata": {
    "scrolled": true
   },
   "outputs": [
    {
     "name": "stdout",
     "output_type": "stream",
     "text": [
      "Epidemic stopped after 3.79 days | 3.79 days elapsed | 99.9% susceptible, 0.0% infected, 0.1% recovered\n"
     ]
    }
   ],
   "source": [
    "sir.launch_epidemic(source=23456, max_time=100.0)"
   ]
  },
  {
   "cell_type": "markdown",
   "metadata": {},
   "source": [
    "You may want to extract the time of infection (resp. recovery) of each nodes, accessible by the `SimulationSIR` attribute `inf_time` (resp. `rec_time`). Both attribute are `Numpy` one-dimensional arrays of length $N$ (i.e. the number of nodes in the graph).\n",
    "\n",
    "To get the infection time of node `i`, type:\n",
    "```\n",
    "sir.inf_time[i]\n",
    "```\n",
    "Similarly, to get the recovery time of node `i`, type:\n",
    "```\n",
    "sir.rec_time[i]\n",
    "```\n",
    "As stated before, the nodes are supposed to be labelled using using consecutive integers starting at $0$.\n",
    "\n",
    "By default, if a node has not been infected (resp. recovered) then its infection (resp. recovery) time is set to `inf`."
   ]
  },
  {
   "cell_type": "code",
   "execution_count": 69,
   "metadata": {},
   "outputs": [
    {
     "name": "stdout",
     "output_type": "stream",
     "text": [
      "Node:  123\n",
      "Infection time:  inf\n",
      "Recovery time:  inf\n"
     ]
    }
   ],
   "source": [
    "node_id = 123\n",
    "print('Node: ', node_id)\n",
    "print('Infection time: ', sir.inf_time[node_id]) \n",
    "print('Recovery time: ', sir.rec_time[node_id])"
   ]
  }
 ],
 "metadata": {
  "anaconda-cloud": {},
  "kernelspec": {
   "display_name": "Python 3",
   "language": "python",
   "name": "python3"
  },
  "language_info": {
   "codemirror_mode": {
    "name": "ipython",
    "version": 3
   },
   "file_extension": ".py",
   "mimetype": "text/x-python",
   "name": "python",
   "nbconvert_exporter": "python",
   "pygments_lexer": "ipython3",
   "version": "3.6.3"
  }
 },
 "nbformat": 4,
 "nbformat_minor": 2
}
