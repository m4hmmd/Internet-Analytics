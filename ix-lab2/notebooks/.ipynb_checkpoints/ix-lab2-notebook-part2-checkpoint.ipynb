{
 "cells": [
  {
   "cell_type": "markdown",
   "metadata": {},
   "source": [
    "# Networks: structure, evolution & processes\n",
    "**Internet Analytics - Lab 2**\n",
    "\n",
    "---\n",
    "\n",
    "**Group:** *Your group letter.*\n",
    "\n",
    "**Names:**\n",
    "\n",
    "* *Name 1*\n",
    "* *Name 2*\n",
    "* *Name 3*\n",
    "\n",
    "---\n",
    "\n",
    "#### Instructions\n",
    "\n",
    "*This is a template for part 2 of the lab. Clearly write your answers, comments and interpretations in Markodown cells. Don't forget that you can add $\\LaTeX$ equations in these cells. Feel free to add or remove any cell.*\n",
    "\n",
    "*Please properly comment your code. Code readability will be considered for grading. To avoid long cells of codes in the notebook, you can also embed long python functions and classes in a separate module. Don’t forget to hand in your module if that is the case. In multiple exercises, you are required to come up with your own method to solve various problems. Be creative and clearly motivate and explain your methods. Creativity and clarity will be considered for grading.*"
   ]
  },
  {
   "cell_type": "markdown",
   "metadata": {},
   "source": [
    "---\n",
    "\n",
    "## 2.2 Network sampling\n",
    "\n",
    "#### Exercise 2.7: Random walk on the Facebook network"
   ]
  },
  {
   "cell_type": "code",
   "execution_count": 22,
   "metadata": {},
   "outputs": [
    {
     "name": "stdout",
     "output_type": "stream",
     "text": [
      "(23.2785, 42.764468808159)\n"
     ]
    }
   ],
   "source": [
    "# ... WRITE YOUR CODE HERE...\n",
    "import requests\n",
    "import random\n",
    "# Base url of the API\n",
    "URL_TEMPLATE = 'http://iccluster040.iccluster.epfl.ch:5050/v1.0/facebook?user={user_id}'\n",
    "node_0 = \"f30ff3966f16ed62f5165a229a19b319\"\n",
    "\n",
    "\n",
    "def sample_age (s, N):\n",
    "    age_sum = 0\n",
    "    age_sum_weighted = 0\n",
    "    d_sum = 0\n",
    "    node_id = s\n",
    "    for i in range(N):\n",
    "        # The actual url to call \n",
    "        url = URL_TEMPLATE.format(user_id=node_id)\n",
    "        # Execute the HTTP Get request\n",
    "        response = requests.get(url)\n",
    "        # Format the json response as a Python dict\n",
    "        data = response.json()\n",
    "        age_sum += data['age']\n",
    "        age_sum_weighted += data['age']/len(data['friends'])\n",
    "        d_sum += 1/len(data['friends'])\n",
    "        node_id = random.choice(data['friends'])\n",
    "    avg = age_sum/N\n",
    "    avg_weighted = age_sum_weighted/d_sum\n",
    "    return avg, avg_weighted\n",
    "\n",
    "avg_for_20 = sample_age(node_0, 2000)\n",
    "print(avg_for_20)"
   ]
  },
  {
   "cell_type": "markdown",
   "metadata": {},
   "source": [
    "Here we weighted the value (age) of each node by the inverse of degree of that node, so as to diminish the 'bias of popular teenagers'"
   ]
  },
  {
   "cell_type": "code",
   "execution_count": 31,
   "metadata": {
    "collapsed": true
   },
   "outputs": [],
   "source": [
    "import matplotlib.pyplot as plt"
   ]
  },
  {
   "cell_type": "code",
   "execution_count": null,
   "metadata": {
    "collapsed": true
   },
   "outputs": [],
   "source": [
    "# Compute averages over samples of size 5^1 - 5^8\n",
    "n = 1\n",
    "sample_age_sample = {}\n",
    "for i in range(8):\n",
    "    n *= 5\n",
    "    sample_age_sample[n] = sample_age(node_0, n)"
   ]
  },
  {
   "cell_type": "code",
   "execution_count": 43,
   "metadata": {
    "collapsed": true
   },
   "outputs": [],
   "source": [
    "import math"
   ]
  },
  {
   "cell_type": "code",
   "execution_count": 48,
   "metadata": {},
   "outputs": [
    {
     "data": {
      "image/png": "[encoded data removed]",
      "text/plain": [
       "<matplotlib.figure.Figure at 0x7f81c4c472b0>"
      ]
     },
     "metadata": {},
     "output_type": "display_data"
    }
   ],
   "source": [
    "x, y = zip(*sample_age_sample.items()) # unpack a list of pairs into two tuples\n",
    "plt.plot(y)\n",
    "plt.xlabel('sample size = 5^n')\n",
    "plt.ylabel('average age')\n",
    "plt.show()"
   ]
  },
  {
   "cell_type": "markdown",
   "metadata": {},
   "source": [
    "#### Exercise 2.8"
   ]
  },
  {
   "cell_type": "code",
   "execution_count": null,
   "metadata": {
    "collapsed": true
   },
   "outputs": [],
   "source": []
  }
 ],
 "metadata": {
  "kernelspec": {
   "display_name": "Python 3",
   "language": "python",
   "name": "python3"
  },
  "language_info": {
   "codemirror_mode": {
    "name": "ipython",
    "version": 3
   },
   "file_extension": ".py",
   "mimetype": "text/x-python",
   "name": "python",
   "nbconvert_exporter": "python",
   "pygments_lexer": "ipython3",
   "version": "3.6.3"
  }
 },
 "nbformat": 4,
 "nbformat_minor": 2
}
