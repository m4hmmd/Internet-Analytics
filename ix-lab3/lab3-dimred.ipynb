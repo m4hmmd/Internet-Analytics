{
 "cells": [
  {
   "cell_type": "markdown",
   "metadata": {},
   "source": [
    "# Lab 3 — dimensionality reduction"
   ]
  },
  {
   "cell_type": "code",
   "execution_count": 374,
   "metadata": {
    "collapsed": true
   },
   "outputs": [],
   "source": [
    "import json\n",
    "import matplotlib.pyplot as plt\n",
    "import numpy as np\n",
    "from pyspark.mllib.linalg.distributed import RowMatrix\n",
    "from operator import itemgetter\n",
    "import pickle\n",
    "\n",
    "%matplotlib inline\n",
    "plt.style.use(\"ggplot\")"
   ]
  },
  {
   "cell_type": "code",
   "execution_count": 3,
   "metadata": {},
   "outputs": [
    {
     "name": "stdout",
     "output_type": "stream",
     "text": [
      "{\"tagId\": 1127, \"tag\": \"zombie\"}\r\n",
      "{\"tagId\": 1128, \"tag\": \"zombies\"}\r\n"
     ]
    }
   ],
   "source": [
    "!hdfs dfs -cat /ix/ml-20m/genome-tags.txt | tail -n 2"
   ]
  },
  {
   "cell_type": "code",
   "execution_count": 37,
   "metadata": {},
   "outputs": [
    {
     "name": "stdout",
     "output_type": "stream",
     "text": [
      "{\"genres\": [\"(no genres listed)\"], \"movieId\": 131260, \"title\": \"Rentun Ruusu (2001)\"}\r\n",
      "{\"genres\": [\"Adventure\", \"Fantasy\", \"Horror\"], \"movieId\": 131262, \"title\": \"Innocence (2014)\"}\r\n"
     ]
    }
   ],
   "source": [
    "!hdfs dfs -cat /ix/ml-20m/movies.txt | tail -n 2"
   ]
  },
  {
   "cell_type": "code",
   "execution_count": 4,
   "metadata": {
    "collapsed": true
   },
   "outputs": [],
   "source": [
    "data = sc.textFile(\"/ix/ml-20m/genome-tags.txt\").map(json.loads)\n",
    "tag2name = dict(data.map(itemgetter(\"tagId\", \"tag\")).collect())"
   ]
  },
  {
   "cell_type": "markdown",
   "metadata": {},
   "source": [
    "### Playing with data"
   ]
  },
  {
   "cell_type": "code",
   "execution_count": 5,
   "metadata": {},
   "outputs": [
    {
     "data": {
      "text/plain": [
       "[{'tag': '007', 'tagId': 1},\n",
       " {'tag': '007 (series)', 'tagId': 2},\n",
       " {'tag': '18th century', 'tagId': 3},\n",
       " {'tag': '1920s', 'tagId': 4},\n",
       " {'tag': '1930s', 'tagId': 5},\n",
       " {'tag': '1950s', 'tagId': 6},\n",
       " {'tag': '1960s', 'tagId': 7},\n",
       " {'tag': '1970s', 'tagId': 8},\n",
       " {'tag': '1980s', 'tagId': 9},\n",
       " {'tag': '19th century', 'tagId': 10}]"
      ]
     },
     "execution_count": 5,
     "metadata": {},
     "output_type": "execute_result"
    }
   ],
   "source": [
    "data.take(10)"
   ]
  },
  {
   "cell_type": "code",
   "execution_count": 6,
   "metadata": {
    "collapsed": true
   },
   "outputs": [],
   "source": [
    "movies = sc.textFile(\"/ix/ml-20m/movies.txt\").map(json.loads)"
   ]
  },
  {
   "cell_type": "code",
   "execution_count": 7,
   "metadata": {},
   "outputs": [
    {
     "data": {
      "text/plain": [
       "[{'genres': ['Adventure', 'Animation', 'Children', 'Comedy', 'Fantasy'],\n",
       "  'movieId': 1,\n",
       "  'title': 'Toy Story (1995)'},\n",
       " {'genres': ['Adventure', 'Children', 'Fantasy'],\n",
       "  'movieId': 2,\n",
       "  'title': 'Jumanji (1995)'},\n",
       " {'genres': ['Comedy', 'Romance'],\n",
       "  'movieId': 3,\n",
       "  'title': 'Grumpier Old Men (1995)'},\n",
       " {'genres': ['Comedy', 'Drama', 'Romance'],\n",
       "  'movieId': 4,\n",
       "  'title': 'Waiting to Exhale (1995)'},\n",
       " {'genres': ['Comedy'],\n",
       "  'movieId': 5,\n",
       "  'title': 'Father of the Bride Part II (1995)'},\n",
       " {'genres': ['Action', 'Crime', 'Thriller'],\n",
       "  'movieId': 6,\n",
       "  'title': 'Heat (1995)'},\n",
       " {'genres': ['Comedy', 'Romance'], 'movieId': 7, 'title': 'Sabrina (1995)'},\n",
       " {'genres': ['Adventure', 'Children'],\n",
       "  'movieId': 8,\n",
       "  'title': 'Tom and Huck (1995)'},\n",
       " {'genres': ['Action'], 'movieId': 9, 'title': 'Sudden Death (1995)'},\n",
       " {'genres': ['Action', 'Adventure', 'Thriller'],\n",
       "  'movieId': 10,\n",
       "  'title': 'GoldenEye (1995)'}]"
      ]
     },
     "execution_count": 7,
     "metadata": {},
     "output_type": "execute_result"
    }
   ],
   "source": [
    "movies.take(10)"
   ]
  },
  {
   "cell_type": "code",
   "execution_count": 8,
   "metadata": {},
   "outputs": [
    {
     "data": {
      "text/plain": [
       "27278"
      ]
     },
     "execution_count": 8,
     "metadata": {},
     "output_type": "execute_result"
    }
   ],
   "source": [
    "movies.count()"
   ]
  },
  {
   "cell_type": "code",
   "execution_count": 9,
   "metadata": {
    "collapsed": true
   },
   "outputs": [],
   "source": [
    "genres_count = movies.flatMap(lambda x: x['genres'])"
   ]
  },
  {
   "cell_type": "code",
   "execution_count": 10,
   "metadata": {
    "collapsed": true
   },
   "outputs": [],
   "source": [
    "genres_count = genres_count.distinct()"
   ]
  },
  {
   "cell_type": "code",
   "execution_count": 11,
   "metadata": {},
   "outputs": [
    {
     "data": {
      "text/plain": [
       "['Children',\n",
       " 'Fantasy',\n",
       " 'Romance',\n",
       " 'Drama',\n",
       " 'Action',\n",
       " 'Thriller',\n",
       " 'Horror',\n",
       " 'Sci-Fi',\n",
       " 'IMAX',\n",
       " 'Documentary']"
      ]
     },
     "execution_count": 11,
     "metadata": {},
     "output_type": "execute_result"
    }
   ],
   "source": [
    "genres_count.take(10)"
   ]
  },
  {
   "cell_type": "code",
   "execution_count": 12,
   "metadata": {},
   "outputs": [
    {
     "data": {
      "text/plain": [
       "20"
      ]
     },
     "execution_count": 12,
     "metadata": {},
     "output_type": "execute_result"
    }
   ],
   "source": [
    "genres_count.count()"
   ]
  },
  {
   "cell_type": "code",
   "execution_count": 13,
   "metadata": {},
   "outputs": [
    {
     "name": "stdout",
     "output_type": "stream",
     "text": [
      "1128\n"
     ]
    }
   ],
   "source": [
    "number_of_tags = data.count()\n",
    "print(number_of_tags)"
   ]
  },
  {
   "cell_type": "code",
   "execution_count": 14,
   "metadata": {},
   "outputs": [
    {
     "data": {
      "text/plain": [
       "[{'tag': '007', 'tagId': 1},\n",
       " {'tag': '007 (series)', 'tagId': 2},\n",
       " {'tag': '18th century', 'tagId': 3},\n",
       " {'tag': '1920s', 'tagId': 4},\n",
       " {'tag': '1930s', 'tagId': 5},\n",
       " {'tag': '1950s', 'tagId': 6},\n",
       " {'tag': '1960s', 'tagId': 7},\n",
       " {'tag': '1970s', 'tagId': 8},\n",
       " {'tag': '1980s', 'tagId': 9},\n",
       " {'tag': '19th century', 'tagId': 10},\n",
       " {'tag': '3d', 'tagId': 11},\n",
       " {'tag': '70mm', 'tagId': 12},\n",
       " {'tag': '80s', 'tagId': 13},\n",
       " {'tag': '9/11', 'tagId': 14},\n",
       " {'tag': 'aardman', 'tagId': 15},\n",
       " {'tag': 'aardman studios', 'tagId': 16},\n",
       " {'tag': 'abortion', 'tagId': 17},\n",
       " {'tag': 'absurd', 'tagId': 18},\n",
       " {'tag': 'action', 'tagId': 19},\n",
       " {'tag': 'action packed', 'tagId': 20}]"
      ]
     },
     "execution_count": 14,
     "metadata": {},
     "output_type": "execute_result"
    }
   ],
   "source": [
    "data.take(20)"
   ]
  },
  {
   "cell_type": "code",
   "execution_count": 312,
   "metadata": {},
   "outputs": [
    {
     "data": {
      "text/plain": [
       "'007'"
      ]
     },
     "execution_count": 312,
     "metadata": {},
     "output_type": "execute_result"
    }
   ],
   "source": [
    "tag2name[1]"
   ]
  },
  {
   "cell_type": "code",
   "execution_count": 16,
   "metadata": {
    "collapsed": true
   },
   "outputs": [],
   "source": [
    "tag_scores = sc.textFile(\"/ix/ml-20m/genome-scores.txt\").map(json.loads)"
   ]
  },
  {
   "cell_type": "code",
   "execution_count": 17,
   "metadata": {},
   "outputs": [
    {
     "data": {
      "text/plain": [
       "[{'movieId': 1, 'relevance': 0.025000000000000022, 'tagId': 1},\n",
       " {'movieId': 1, 'relevance': 0.025000000000000022, 'tagId': 2},\n",
       " {'movieId': 1, 'relevance': 0.057750000000000024, 'tagId': 3},\n",
       " {'movieId': 1, 'relevance': 0.09675, 'tagId': 4},\n",
       " {'movieId': 1, 'relevance': 0.14675, 'tagId': 5},\n",
       " {'movieId': 1, 'relevance': 0.21700000000000003, 'tagId': 6},\n",
       " {'movieId': 1, 'relevance': 0.067, 'tagId': 7},\n",
       " {'movieId': 1, 'relevance': 0.26275000000000004, 'tagId': 8},\n",
       " {'movieId': 1, 'relevance': 0.262, 'tagId': 9},\n",
       " {'movieId': 1, 'relevance': 0.03199999999999997, 'tagId': 10}]"
      ]
     },
     "execution_count": 17,
     "metadata": {},
     "output_type": "execute_result"
    }
   ],
   "source": [
    "tag_scores.take(10)"
   ]
  },
  {
   "cell_type": "code",
   "execution_count": 18,
   "metadata": {},
   "outputs": [
    {
     "data": {
      "text/plain": [
       "11709768"
      ]
     },
     "execution_count": 18,
     "metadata": {},
     "output_type": "execute_result"
    }
   ],
   "source": [
    "tag_scores.count()"
   ]
  },
  {
   "cell_type": "code",
   "execution_count": 19,
   "metadata": {
    "collapsed": true
   },
   "outputs": [],
   "source": [
    "tag_counts = tag_scores.map(lambda a: (a['movieId'], 1))"
   ]
  },
  {
   "cell_type": "code",
   "execution_count": 20,
   "metadata": {
    "collapsed": true
   },
   "outputs": [],
   "source": [
    "tag_counts = tag_counts.reduceByKey(lambda x,y: x+y)"
   ]
  },
  {
   "cell_type": "code",
   "execution_count": 21,
   "metadata": {},
   "outputs": [
    {
     "data": {
      "text/plain": [
       "[(6, 1128),\n",
       " (12, 1128),\n",
       " (18, 1128),\n",
       " (24, 1128),\n",
       " (30, 1128),\n",
       " (36, 1128),\n",
       " (42, 1128),\n",
       " (48, 1128),\n",
       " (54, 1128),\n",
       " (60, 1128)]"
      ]
     },
     "execution_count": 21,
     "metadata": {},
     "output_type": "execute_result"
    }
   ],
   "source": [
    "tag_counts.take(10)"
   ]
  },
  {
   "cell_type": "code",
   "execution_count": 22,
   "metadata": {},
   "outputs": [
    {
     "data": {
      "text/plain": [
       "10381"
      ]
     },
     "execution_count": 22,
     "metadata": {},
     "output_type": "execute_result"
    }
   ],
   "source": [
    "tag_counts.count()"
   ]
  },
  {
   "cell_type": "markdown",
   "metadata": {},
   "source": [
    "only 10381 out of 27278 movies have tags o_0"
   ]
  },
  {
   "cell_type": "code",
   "execution_count": 23,
   "metadata": {
    "collapsed": true
   },
   "outputs": [],
   "source": [
    "ratings = sc.textFile(\"/ix/ml-20m/ratings.txt\").map(json.loads)"
   ]
  },
  {
   "cell_type": "code",
   "execution_count": 24,
   "metadata": {},
   "outputs": [
    {
     "data": {
      "text/plain": [
       "[{'movieId': 2, 'rating': 3.5, 'timestamp': 1112486027, 'userId': 1},\n",
       " {'movieId': 29, 'rating': 3.5, 'timestamp': 1112484676, 'userId': 1},\n",
       " {'movieId': 32, 'rating': 3.5, 'timestamp': 1112484819, 'userId': 1},\n",
       " {'movieId': 47, 'rating': 3.5, 'timestamp': 1112484727, 'userId': 1},\n",
       " {'movieId': 50, 'rating': 3.5, 'timestamp': 1112484580, 'userId': 1},\n",
       " {'movieId': 112, 'rating': 3.5, 'timestamp': 1094785740, 'userId': 1},\n",
       " {'movieId': 151, 'rating': 4.0, 'timestamp': 1094785734, 'userId': 1},\n",
       " {'movieId': 223, 'rating': 4.0, 'timestamp': 1112485573, 'userId': 1},\n",
       " {'movieId': 253, 'rating': 4.0, 'timestamp': 1112484940, 'userId': 1},\n",
       " {'movieId': 260, 'rating': 4.0, 'timestamp': 1112484826, 'userId': 1}]"
      ]
     },
     "execution_count": 24,
     "metadata": {},
     "output_type": "execute_result"
    }
   ],
   "source": [
    "ratings.take(10)"
   ]
  },
  {
   "cell_type": "code",
   "execution_count": 25,
   "metadata": {},
   "outputs": [
    {
     "data": {
      "text/plain": [
       "20000263"
      ]
     },
     "execution_count": 25,
     "metadata": {},
     "output_type": "execute_result"
    }
   ],
   "source": [
    "ratings.count()"
   ]
  },
  {
   "cell_type": "code",
   "execution_count": 26,
   "metadata": {
    "collapsed": true
   },
   "outputs": [],
   "source": [
    "movie_name_lengths = movies.map(lambda x: x['title'])"
   ]
  },
  {
   "cell_type": "code",
   "execution_count": 412,
   "metadata": {
    "scrolled": true
   },
   "outputs": [
    {
     "data": {
      "text/plain": [
       "['Godzilla, Mothra, and King Ghidorah: Giant Monsters All-Out Attack (Gojira, Mosura, Kingu Gidorâ: Daikaijû sôkôgeki) (Godzilla, Mothra and King Ghidorah: Giant Monsters All-Out Attack) (2001)',\n",
       " \"Dragon Ball Z the Movie: The World's Strongest (a.k.a. Dragon Ball Z: The Strongest Guy in The World) (Doragon bôru Z: Kono yo de ichiban tsuyoi yatsu) (1990)\",\n",
       " 'Strange Behaviour of Sexually Mature City Slickers at Mating Season, The (Das merkwürdige Verhalten geschlechtsreifer Großstädter zur Paarungszeit) (1998)',\n",
       " 'Dragon Ball Z: Bardock - The Father of Goku (Doragon bôru Z: Tatta hitori no saishuu kessen - Furiiza ni itonda Z senshi Kakarotto no chichi) (1990)',\n",
       " 'Revolutionary Girl Utena: Adolescence of Utena (a.k.a. Revolutionary Girl Utena the Movie) (Shoujo kakumei Utena: Adolescence mokushiroku) (1999)']"
      ]
     },
     "execution_count": 412,
     "metadata": {},
     "output_type": "execute_result"
    }
   ],
   "source": [
    "movie_name_lengths.takeOrdered(5, lambda x: -len(x))"
   ]
  },
  {
   "cell_type": "markdown",
   "metadata": {},
   "source": [
    "so there are 'holes' in movieIds"
   ]
  },
  {
   "cell_type": "markdown",
   "metadata": {},
   "source": [
    "### Excercise 3.1"
   ]
  },
  {
   "cell_type": "code",
   "execution_count": 34,
   "metadata": {
    "collapsed": true
   },
   "outputs": [],
   "source": [
    "tagged_movies = tag_scores.map(lambda x: x['movieId']).distinct()"
   ]
  },
  {
   "cell_type": "code",
   "execution_count": 43,
   "metadata": {},
   "outputs": [
    {
     "data": {
      "text/plain": [
       "[6672, 6678, 6684, 6690, 6696, 6702, 6708, 6714, 6720, 6732]"
      ]
     },
     "execution_count": 43,
     "metadata": {},
     "output_type": "execute_result"
    }
   ],
   "source": [
    "tagged_movies.take(10)"
   ]
  },
  {
   "cell_type": "code",
   "execution_count": 35,
   "metadata": {
    "collapsed": true
   },
   "outputs": [],
   "source": [
    "M = len(tag2name)\n",
    "N = tagged_movies.count()"
   ]
  },
  {
   "cell_type": "code",
   "execution_count": 42,
   "metadata": {},
   "outputs": [
    {
     "name": "stdout",
     "output_type": "stream",
     "text": [
      "1128 10381\n"
     ]
    }
   ],
   "source": [
    "print(M, N)"
   ]
  },
  {
   "cell_type": "code",
   "execution_count": 43,
   "metadata": {
    "collapsed": true
   },
   "outputs": [],
   "source": [
    "mat = np.zeros((M, N))"
   ]
  },
  {
   "cell_type": "code",
   "execution_count": null,
   "metadata": {
    "collapsed": true
   },
   "outputs": [],
   "source": [
    "with open(\".pickle\", \"rb\") as f:\n",
    "    matt = pickle.load(f, encoding=\"utf-8\")"
   ]
  },
  {
   "cell_type": "code",
   "execution_count": 61,
   "metadata": {
    "collapsed": true
   },
   "outputs": [],
   "source": [
    "# construct a way to convert movieId to its matrix column number\n",
    "tagged_movies_list = sorted(tagged_movies.collect())"
   ]
  },
  {
   "cell_type": "code",
   "execution_count": 62,
   "metadata": {},
   "outputs": [
    {
     "data": {
      "text/plain": [
       "10381"
      ]
     },
     "execution_count": 62,
     "metadata": {},
     "output_type": "execute_result"
    }
   ],
   "source": [
    "len(tagged_movies_list)"
   ]
  },
  {
   "cell_type": "code",
   "execution_count": 79,
   "metadata": {
    "collapsed": true
   },
   "outputs": [],
   "source": [
    "tag_scores_table = tag_scores.map(lambda x: (x['movieId'], {'tagId': x['tagId'], 'relevance': x['relevance']})).groupByKey().collect()"
   ]
  },
  {
   "cell_type": "code",
   "execution_count": 83,
   "metadata": {
    "collapsed": true
   },
   "outputs": [],
   "source": [
    "for movie_scores in tag_scores_table:\n",
    "    movieId = movie_scores[0]\n",
    "    for tag in movie_scores[1]:\n",
    "        tagId = tag['tagId']\n",
    "        relevance = tag['relevance']\n",
    "        mat[tagId-1][tagged_movies_list.index(movieId)] = relevance\n",
    "    "
   ]
  },
  {
   "cell_type": "code",
   "execution_count": 84,
   "metadata": {},
   "outputs": [
    {
     "data": {
      "text/plain": [
       "array([[ 0.025  ,  0.03975,  0.0435 , ...,  0.042  ,  0.05975,  0.05325],\n",
       "       [ 0.025  ,  0.04375,  0.05475, ...,  0.03175,  0.10375,  0.08625],\n",
       "       [ 0.05775,  0.03775,  0.028  , ...,  0.017  ,  0.1785 ,  0.017  ],\n",
       "       ..., \n",
       "       [ 0.03625,  0.01475,  0.0195 , ...,  0.0095 ,  0.51925,  0.01575],\n",
       "       [ 0.07775,  0.09025,  0.097  , ...,  0.0755 ,  0.067  ,  0.1145 ],\n",
       "       [ 0.023  ,  0.01875,  0.0185 , ...,  0.01625,  0.01725,  0.02175]])"
      ]
     },
     "execution_count": 84,
     "metadata": {},
     "output_type": "execute_result"
    }
   ],
   "source": [
    "mat"
   ]
  },
  {
   "cell_type": "code",
   "execution_count": 109,
   "metadata": {
    "collapsed": true
   },
   "outputs": [],
   "source": [
    "# variance in each dimension\n",
    "variance_in_dimensions = np.var(mat, axis=1)"
   ]
  },
  {
   "cell_type": "code",
   "execution_count": 105,
   "metadata": {},
   "outputs": [
    {
     "name": "stdout",
     "output_type": "stream",
     "text": [
      "[ 0.00489995  0.00374062  0.01184875 ...,  0.01882639  0.01105271\n",
      "  0.00657968]\n"
     ]
    }
   ],
   "source": [
    "print (variance_in_dimensions)"
   ]
  },
  {
   "cell_type": "code",
   "execution_count": 110,
   "metadata": {},
   "outputs": [
    {
     "data": {
      "image/png": "[encoded data removed]",
      "text/plain": [
       "<matplotlib.figure.Figure at 0x7f3bf477bef0>"
      ]
     },
     "metadata": {},
     "output_type": "display_data"
    }
   ],
   "source": [
    "plt.figure(figsize=(8, 6))\n",
    "plt.scatter(variance_in_dimensions, list(tag2name))\n",
    "plt.title(\"Variance in different dimensions (tags)\")\n",
    "plt.xlabel(\"variance\")\n",
    "plt.ylabel(\"tagId\")\n",
    "plt.show()"
   ]
  },
  {
   "cell_type": "code",
   "execution_count": 111,
   "metadata": {
    "collapsed": true
   },
   "outputs": [],
   "source": [
    "cov_mat = np.cov(mat)"
   ]
  },
  {
   "cell_type": "code",
   "execution_count": 116,
   "metadata": {},
   "outputs": [
    {
     "data": {
      "text/plain": [
       "(1128, 1128)"
      ]
     },
     "execution_count": 116,
     "metadata": {},
     "output_type": "execute_result"
    }
   ],
   "source": [
    "cov_mat.shape"
   ]
  },
  {
   "cell_type": "code",
   "execution_count": 131,
   "metadata": {},
   "outputs": [
    {
     "data": {
      "text/plain": [
       "array([[ 0.00490042,  0.00327346, -0.00030115, ...,  0.00016838,\n",
       "        -0.00016172, -0.00014599],\n",
       "       [ 0.00327346,  0.00374098, -0.00023234, ...,  0.00011866,\n",
       "        -0.00015645, -0.00014514],\n",
       "       [-0.00030115, -0.00023234,  0.01184989, ...,  0.00130349,\n",
       "        -0.00112118, -0.00035662],\n",
       "       ..., \n",
       "       [ 0.00016838,  0.00011866,  0.00130349, ...,  0.0188282 ,\n",
       "        -0.00114338, -0.00032847],\n",
       "       [-0.00016172, -0.00015645, -0.00112118, ..., -0.00114338,\n",
       "         0.01105378,  0.00659333],\n",
       "       [-0.00014599, -0.00014514, -0.00035662, ..., -0.00032847,\n",
       "         0.00659333,  0.00658031]])"
      ]
     },
     "execution_count": 131,
     "metadata": {},
     "output_type": "execute_result"
    }
   ],
   "source": [
    "cov_mat"
   ]
  },
  {
   "cell_type": "code",
   "execution_count": 294,
   "metadata": {
    "collapsed": true
   },
   "outputs": [],
   "source": [
    "eig_values, eig_vectors = np.linalg.eigh(cov_mat)\n",
    "eig_values = np.flip(eig_values, axis=0) # to have them in descending order\n",
    "eig_vectors = np.flip(eig_vectors, axis=1)"
   ]
  },
  {
   "cell_type": "code",
   "execution_count": 145,
   "metadata": {},
   "outputs": [
    {
     "name": "stdout",
     "output_type": "stream",
     "text": [
      "[ 2.75337748  1.22147104  0.99605152  0.6621755   0.58572979  0.47432794\n",
      "  0.46142463  0.39720884  0.34151865  0.28889341]\n"
     ]
    }
   ],
   "source": [
    "print(eig_values[:10])"
   ]
  },
  {
   "cell_type": "code",
   "execution_count": 295,
   "metadata": {},
   "outputs": [
    {
     "data": {
      "text/plain": [
       "array([[-0.00572728, -0.01383799,  0.00124553, ...,  0.0062789 ,\n",
       "        -0.0053407 ,  0.00205699],\n",
       "       [-0.00478882, -0.01048045,  0.00206112, ...,  0.00347284,\n",
       "        -0.00303118, -0.00078554],\n",
       "       [ 0.01246704,  0.00278201,  0.02393293, ...,  0.00037798,\n",
       "        -0.00104207,  0.00044356],\n",
       "       ..., \n",
       "       [ 0.01719115, -0.00551248,  0.03252862, ...,  0.00263286,\n",
       "        -0.00050236,  0.00093566],\n",
       "       [-0.01026643, -0.01417361, -0.0399581 , ...,  0.00429738,\n",
       "         0.01518848, -0.00228662],\n",
       "       [-0.00137267, -0.00551606, -0.01634403, ..., -0.00067457,\n",
       "        -0.01100711,  0.00059397]])"
      ]
     },
     "execution_count": 295,
     "metadata": {},
     "output_type": "execute_result"
    }
   ],
   "source": [
    "eig_vectors"
   ]
  },
  {
   "cell_type": "code",
   "execution_count": 255,
   "metadata": {},
   "outputs": [
    {
     "data": {
      "image/png": "[encoded data removed]",
      "text/plain": [
       "<matplotlib.figure.Figure at 0x7f3be32166d8>"
      ]
     },
     "metadata": {},
     "output_type": "display_data"
    }
   ],
   "source": [
    "plt.figure(figsize=(12, 6))\n",
    "plt.loglog(eig_values)\n",
    "plt.title(\"Eigenvalues of the covariance matrix, sorted\")\n",
    "plt.ylabel(\"Eigenvalue\")\n",
    "plt.show()"
   ]
  },
  {
   "cell_type": "code",
   "execution_count": 256,
   "metadata": {
    "collapsed": true
   },
   "outputs": [],
   "source": [
    "total = sum(eig_values)\n",
    "captured_variability = [eigv/total*100 for eigv in eig_values]\n",
    "cum_captured_variability = np.cumsum(captured_variability).tolist()"
   ]
  },
  {
   "cell_type": "code",
   "execution_count": 258,
   "metadata": {},
   "outputs": [
    {
     "name": "stdout",
     "output_type": "stream",
     "text": [
      "[16.09984018236562, 23.242154927609604, 29.066372780783365, 32.938315441861505, 36.363256627599206, 39.13679716269937, 41.83488808944758, 44.15748964614456, 46.15445365987529, 47.84370176444964, 49.36874596327928, 50.735851701850905, 52.0359409396258, 53.25084172910521, 54.37777277609013, 55.41492257023864, 56.40872215355756, 57.30108086542617, 58.10408638274457, 58.87277009833421, 59.57852338467013, 60.236618920890365, 60.8766154687838, 61.46232196927872, 62.01345142280321, 62.52886198499363, 63.016720518374534, 63.48996457292495, 63.94634794989435, 64.38422008458683, 64.8015603953651, 65.19958207236014, 65.58932990126416, 65.95269353174798, 66.3108379971456, 66.65145090563249, 66.98488598691523, 67.31049352864947, 67.6242129171575, 67.9338933748402, 68.2276505818317, 68.51789165664485, 68.79842435039133, 69.0732890799885, 69.33381118898085, 69.59054653343307, 69.84284646445137, 70.08436219864724, 70.32328442853435, 70.55417177386325, 70.78227682300043, 71.00037766985092, 71.21091897766988, 71.41931859210386, 71.62388354819349, 71.82408048069972, 72.02186326897892, 72.2122796022113, 72.4006903421988, 72.5849398331622, 72.76418082513874, 72.9406470515748, 73.11492038423066, 73.28499801054873, 73.45232748482407, 73.61817275387136, 73.7803046266228, 73.94207005748459, 74.10003622973647, 74.2540929686238, 74.4065433104878, 74.55331049459383, 74.69965877881467, 74.84397729563004, 74.98650351616003, 75.12776247794365, 75.26553528705632, 75.40229781937103, 75.53823313842145, 75.66928068398283, 75.79720476524078, 75.92252784614453, 76.04640952161397, 76.1687635942642, 76.29056126804478, 76.41021336693204, 76.52812911804153, 76.64532585910362, 76.76194371334127, 76.87793821529816, 76.99129593995659, 77.10316871347892, 77.21465649684966, 77.32377242110678, 77.43165081321077, 77.53708789200405, 77.64171411703389, 77.74566470607823, 77.848146159216, 77.9496599948334, 78.0490888507638, 78.1466982134628, 78.2438728390817, 78.3406005070076, 78.43633363364418, 78.53190375919012, 78.62607127470336, 78.71898686808416, 78.81092034517239, 78.90199962283376, 78.99223577532779, 79.08187972239577, 79.17015556964022, 79.25830813017916, 79.34610413662023, 79.43246661262388, 79.51795442580635, 79.6029591270854, 79.68755924647137, 79.7711259195263, 79.85429643006383, 79.93625490402476, 80.01790257278392, 80.09860864633919, 80.17879042673508, 80.25883604406683, 80.3381363474049, 80.41729593270726, 80.49491078110044, 80.5719911845765, 80.64874605979327, 80.72425289410228, 80.79945355867426, 80.8742224488009, 80.94842046593314, 81.02193024608388, 81.09491755507892, 81.16725006768468, 81.23926567821856, 81.31092029421158, 81.38213025582534, 81.452300685839, 81.52236513760167, 81.59221299242213, 81.66117336050439, 81.72983648764644, 81.79821252149476, 81.86630058890766, 81.9339341435219, 82.00083120326457, 82.06719670460856, 82.1330459297143, 82.19878736604097, 82.26411321572313, 82.32889318179795, 82.39338003232912, 82.45727139511452, 82.52099473859455, 82.58358263134392, 82.64591142564316, 82.70787878964174, 82.76959276621275, 82.83123897605437, 82.8922328035248, 82.95296226182194, 83.01342417332306, 83.0733558763028, 83.13281235551965, 83.19174587220628, 83.25052486458827, 83.30887288476589, 83.36695029657085, 83.42458174161823, 83.4817823137446, 83.53873507589844, 83.59559785239637, 83.65217879859783, 83.70823291745047, 83.7641759071472, 83.81942493103124, 83.8744527989409, 83.92933634369943, 83.98391673747251, 84.03810173899588, 84.09219285736724, 84.14608486402612, 84.19964838392973, 84.25308652180266, 84.30619169535535, 84.35917503074926, 84.41200102455139, 84.4643553654956, 84.51639669383529, 84.56812895289802, 84.6196938037643, 84.67113561756612, 84.72216395203702, 84.77301065937539, 84.82368484389661, 84.87395346382628, 84.92420206853028, 84.97418334911141, 85.02390469060295, 85.07349064708481, 85.12268820988746, 85.17165493358154, 85.22041721712662, 85.2690475680463, 85.31752447705097, 85.36574306087408, 85.41359259759368, 85.46135610808486, 85.5089115810476, 85.55629686473165, 85.60342124676067, 85.65023339014817, 85.6969564184107, 85.74361794690073, 85.78984009954466, 85.83588238104925, 85.88175912951952, 85.92752713571352, 85.97307964862352, 86.01846958301847, 86.06374285726935, 86.10884913341683, 86.15373981165517, 86.19838476981322, 86.24291131287725, 86.28707768397751, 86.3311776471462, 86.37514514955912, 86.41882132405189, 86.4622798227766, 86.50551926902648, 86.5486453145616, 86.59167188223105, 86.63454244118779, 86.67734781521534, 86.71989746961967, 86.7622063114196, 86.80441778764936, 86.84649106658958, 86.88830180951675, 86.93002161986584, 86.97151583198163, 87.01280578871273, 87.05396371212322, 87.09500936340386, 87.13597229590654, 87.17684485515848, 87.2174655132843, 87.25795249110446, 87.29818749051327, 87.33821440122922, 87.37811485434057, 87.41784376889325, 87.45744363122242, 87.49700820542549, 87.53643161675541, 87.57554558846313, 87.61455549043632, 87.65347388821178, 87.69214210381824, 87.73069431017485, 87.76917003191467, 87.80752590783986, 87.84580480991603, 87.88394907638767, 87.9219061035059, 87.95976263200346, 87.9974131772169, 88.03501968275391, 88.07242552052932, 88.10974159611223, 88.14688905783093, 88.18383272149312, 88.22074614050113, 88.2574820113828, 88.29407482758526, 88.33041924789974, 88.36673905474157, 88.40294888400359, 88.43899122113983, 88.47485934074733, 88.51069670163658, 88.54650922505418, 88.58220066333284, 88.6176700353915, 88.6530451799911, 88.68832219860715, 88.72345710320013, 88.75847023592101, 88.79336023248345, 88.82812514777879, 88.86286103704187, 88.89742235691314, 88.9319665368277, 88.9663915936425, 89.00066798154867, 89.0348626242016, 89.06892003618101, 89.10295016021672, 89.13678375049446, 89.1704769518951, 89.20395440069863, 89.23730374422978, 89.27063792328, 89.30381357597047, 89.33689302698588, 89.36981006124462, 89.40271472833663, 89.43544802743588, 89.46813792150502, 89.50069973292082, 89.53320165722536, 89.56553508161447, 89.59783964106705, 89.63000925720556, 89.66209225750056, 89.69403251589502, 89.72587409588994, 89.75763106817851, 89.78927327054393, 89.82080280957364, 89.85231179508126, 89.8837093735979, 89.91500295994497, 89.94620552248192, 89.97733497772344, 90.00832339447186, 90.03921089406538, 90.07001382208855, 90.10065139584701, 90.13125771805004, 90.1618344634825, 90.19225036018665, 90.22265068413309, 90.25292500287617, 90.28303951182568, 90.31312511192736, 90.34313381846283, 90.37313576418993, 90.40307836328776, 90.43283851167402, 90.46250312336926, 90.49209319690847, 90.52161825634239, 90.55109241995855, 90.58051547292159, 90.60981560584764, 90.63899781167994, 90.66815653734409, 90.69723572122513, 90.7262130445055, 90.75506370799394, 90.78382511500011, 90.81254836925586, 90.84119872974934, 90.86976397020821, 90.89819428737452, 90.92653193509028, 90.95486129548125, 90.9831192704138, 91.01129881175946, 91.03942661905324, 91.0674263196148, 91.0953470340175, 91.1232113263073, 91.15098532941269, 91.17866691585574, 91.20627263318788, 91.23379718547372, 91.26127637162126, 91.288710849353, 91.31605474780609, 91.34328691553539, 91.37047450877027, 91.39761091495436, 91.42463227686467, 91.451565029714, 91.47842069354739, 91.50520819029731, 91.5318704240104, 91.55842574005784, 91.58493660751074, 91.61136061921644, 91.63769149601298, 91.66396561159027, 91.69008863255601, 91.71616639808119, 91.74217913759452, 91.76816012750791, 91.7941056090826, 91.82000996301231, 91.8458167487887, 91.87151753528931, 91.89721091058965, 91.92278762044276, 91.94830337121184, 91.97376462283766, 91.99915437553761, 92.02445762805841, 92.04970420136493, 92.074855734189, 92.09993764787981, 92.12494968866388, 92.14993524677148, 92.17481423793505, 92.19959556868244, 92.22436411091654, 92.24902740575736, 92.27364779377008, 92.29821172158636, 92.32274903175468, 92.34714886218464, 92.3714865524583, 92.39579626784202, 92.42003838087062, 92.44424277195111, 92.46843895535173, 92.49258199711419, 92.51654478360946, 92.54043471791456, 92.56427843342178, 92.58808604584233, 92.61184968117864, 92.63549352960175, 92.65910311730822, 92.68266450967656, 92.70614485570837, 92.72962321070618, 92.75297857008145, 92.77630463315337, 92.79960774963024, 92.82284714036787, 92.8459448298931, 92.86902972940088, 92.89207656367174, 92.91506341131269, 92.93802959158386, 92.96091534394142, 92.98372338550341, 93.006461352556, 93.02917966452956, 93.05183705212225, 93.07444622424421, 93.09696164421412, 93.11945554686211, 93.14191880760102, 93.16431680417531, 93.18666704031759, 93.20889562607488, 93.23107317432643, 93.25324035777105, 93.27532990357858, 93.29735221381613, 93.31929890504661, 93.34120269545762, 93.36307529956736, 93.3848758189643, 93.40663999428365, 93.42835519632541, 93.44995104385586, 93.47150141175844, 93.49301240523923, 93.51446574257223, 93.53585904722325, 93.55722882607786, 93.57854795866282, 93.59983595669073, 93.6210662437539, 93.64225919219926, 93.66336896714617, 93.68445519063332, 93.70545157829004, 93.7264278270981, 93.74733988198938, 93.76813159606746, 93.78888266554972, 93.80959659367942, 93.83027898921023, 93.85090951980152, 93.87152609067682, 93.8920979660903, 93.91257938682976, 93.93299102647217, 93.95337149886606, 93.97369999205466, 93.99400140136709, 94.01423226639035, 94.0343778101901, 94.05449063330973, 94.07453790338829, 94.0945079155257, 94.11444679295258, 94.13428666960094, 94.15411228961449, 94.17385762736517, 94.193590473546, 94.213290910265, 94.23293085715352, 94.25250681542437, 94.27207198131222, 94.29154271747406, 94.31098527476314, 94.33042448230142, 94.34981613934961, 94.36918583997266, 94.38848212655681, 94.40775825548178, 94.42699500274256, 94.44618265184226, 94.46535419429064, 94.48444474507708, 94.50344955952049, 94.52238752931895, 94.54131808638121, 94.56016410244692, 94.57898374378074, 94.59778547098837, 94.6164985603579, 94.63519464000262, 94.6538485076938, 94.67248217891847, 94.69106628474577, 94.70958868703038, 94.72802738161336, 94.74645027085433, 94.764846812496, 94.78317793148724, 94.80150347659651, 94.81974062820662, 94.83795163719974, 94.85613303835648, 94.87421271121246, 94.89227807182577, 94.91029856725913, 94.92828903987127, 94.94626064346821, 94.96417957607697, 94.98203977114608, 94.99984976401572, 95.01765451094066, 95.03534789204828, 95.0530268305288, 95.07060441236919, 95.08815028166971, 95.10563831072575, 95.12307365147959, 95.14049765938653, 95.15788993650749, 95.17522806974499, 95.19254160611848, 95.2098278124994, 95.22705742594643, 95.24423664170422, 95.26136381794211, 95.27844913804844, 95.29551897667614, 95.31253591338461, 95.32948836496354, 95.3464089865842, 95.36328486069253, 95.3801370829945, 95.39694235099272, 95.41373259943867, 95.43047661149015, 95.44717977742876, 95.46383802778799, 95.48041773820133, 95.49698103923758, 95.51351641161602, 95.53001739783019, 95.54649852975052, 95.5629383380303, 95.57930181899374, 95.59560471678297, 95.6118644263037, 95.62809814795067, 95.6443102278902, 95.66046774982533, 95.67659982503802, 95.69266394388093, 95.70871120931692, 95.72472967427248, 95.74069071887145, 95.75660471269894, 95.7724580490579, 95.7882983381641, 95.80409710003369, 95.81982002062314, 95.8355381248976, 95.85122210291416, 95.86683452804853, 95.88242182671047, 95.89797923155028, 95.91349819270665, 95.92899886721263, 95.94443527191166, 95.95983100829959, 95.97520898207891, 95.99053869579366, 96.00578184562252, 96.02100949573565, 96.0361833061109, 96.05130518993359, 96.06640859935348, 96.08147896807593, 96.096501169482, 96.11148508528358, 96.12644103164558, 96.14136946597705, 96.15629473435136, 96.17114113044235, 96.18597226687531, 96.20075585009671, 96.2155143663491, 96.23023189011495, 96.24488220732574, 96.25949372951044, 96.27408651060004, 96.2886304387755, 96.30310635431584, 96.31755194176432, 96.33196778726659, 96.34634749721316, 96.36070921536756, 96.37505281000938, 96.38935387971982, 96.40363182416282, 96.41786581018015, 96.43207774570328, 96.44625101319409, 96.46038031896897, 96.47445187895123, 96.48848876013835, 96.50248725610449, 96.51645576734622, 96.53038291211821, 96.54428456548335, 96.55816835801525, 96.57203438739953, 96.58581615024626, 96.59957791737543, 96.61327253682671, 96.62696013878495, 96.64060777567191, 96.65423356336149, 96.66781844358266, 96.68137783902463, 96.69489081659506, 96.70834906156831, 96.72179082796156, 96.73521399968386, 96.74861026738776, 96.76197976294883, 96.77528152904463, 96.78851489382893, 96.8017156809611, 96.81490370411203, 96.82808457453686, 96.8412508173088, 96.8543571362471, 96.86739762907509, 96.8804197996651, 96.89342148722358, 96.90637792999166, 96.91929500914488, 96.93218024316833, 96.94500310166408, 96.95780447275959, 96.97058347694633, 96.9833239482585, 96.9960613802618, 97.00873870024117, 97.02140621224656, 97.03400050036348, 97.04657839248489, 97.05914859350537, 97.07166429235761, 97.0841686988227, 97.09665120453776, 97.10906693501848, 97.12143563278086, 97.13377632570032, 97.14608498225486, 97.15835645233895, 97.17059884403646, 97.18281430572219, 97.19500520311186, 97.20717126750293, 97.21929090806782, 97.23139355581569, 97.24346463880305, 97.25549643185583, 97.2675083519513, 97.27947825925898, 97.29142378881244, 97.30332047726601, 97.31518708035794, 97.327021454927, 97.33879613037223, 97.35054849266992, 97.36227317647216, 97.373955861132, 97.38557766127366, 97.39719609055149, 97.40880313123513, 97.42035222066494, 97.43188777001005, 97.44340888403909, 97.45489859978274, 97.46635965014944, 97.4777642936677, 97.48913089014424, 97.50048983274833, 97.51182779842158, 97.52314230044188, 97.53444804473187, 97.54569992041868, 97.55693655630955, 97.56814177081357, 97.57932848373653, 97.59044917671875, 97.60154108952294, 97.61260186110567, 97.62364715250078, 97.63465052354336, 97.64564495948936, 97.65660701463413, 97.66754407372291, 97.67845001567753, 97.6892917706415, 97.7001149457522, 97.7108791838235, 97.72163831900164, 97.73237738845003, 97.74310097698614, 97.75379463877874, 97.76446518303156, 97.77509784772647, 97.7857102011886, 97.79629698088081, 97.80686125888215, 97.81739352302245, 97.82790082589666, 97.83835560379286, 97.84879561456776, 97.8591676779475, 97.86953399489292, 97.87986387700981, 97.89015849847907, 97.90042553343748, 97.91068490213867, 97.9209061266831, 97.9311071433418, 97.941277624452, 97.95141892090973, 97.9615305581278, 97.97162433917421, 97.9816868551488, 97.99168725852262, 98.0016755546828, 98.01164544710649, 98.02158971854656, 98.03148401788575, 98.04136708899418, 98.05120166194743, 98.06102534047153, 98.07081894400959, 98.08059708217822, 98.09035109742761, 98.10008747517438, 98.10977843720791, 98.1194453703043, 98.1290796761817, 98.13869465673105, 98.14828518670758, 98.15782124817257, 98.16732523096353, 98.17681585188667, 98.18626664707408, 98.1956752806998, 98.2050568638874, 98.21442044319883, 98.2237535557872, 98.23306033424878, 98.24234421991486, 98.25161240517346, 98.26085032863277, 98.27005283434103, 98.27921186618532, 98.28836017092387, 98.29748984500002, 98.30658125712216, 98.31565620871437, 98.32469070216126, 98.33371274455708, 98.342725603717, 98.35171222244833, 98.36064285509114, 98.36956694397448, 98.37841824389912, 98.38724263332021, 98.3960584032751, 98.40486626964345, 98.4136133545983, 98.42235556628968, 98.4310649857523, 98.43974829522942, 98.44840494117412, 98.45704649430176, 98.46566565155864, 98.47427204935846, 98.48283477843925, 98.49139194292064, 98.49992926069766, 98.5084295226272, 98.5168973041693, 98.52535477754715, 98.5337870562463, 98.54216483109373, 98.55053237057135, 98.55886277267156, 98.56717520424213, 98.57547618848643, 98.5837431470015, 98.59199126600357, 98.60020378078727, 98.60840026822596, 98.6165501582193, 98.62468432955791, 98.63279525557901, 98.64089216792215, 98.64894228519522, 98.65697343805302, 98.664976637846, 98.67295654642245, 98.68093277983422, 98.68888363026464, 98.69681458172799, 98.70469622311025, 98.7125757402789, 98.72042510758513, 98.72825222177474, 98.736053584676, 98.74383609334869, 98.75157446276476, 98.75929773257317, 98.76701376995199, 98.77470341316817, 98.78235456810889, 98.78998878486044, 98.79758674951455, 98.80516925614889, 98.81271165448777, 98.82024684526291, 98.82776502633875, 98.83524860608065, 98.8427009971595, 98.85013441759851, 98.85754267838027, 98.8649337187262, 98.87229966843084, 98.87965802408657, 98.88696241812258, 98.89422864200333, 98.90148279972625, 98.90869473813424, 98.9159033930823, 98.92308666065792, 98.9302470874819, 98.9373971973824, 98.94453079075465, 98.95161897279542, 98.95869558959286, 98.96575073398817, 98.97278433171206, 98.97978550158973, 98.98676615633336, 98.9937248768952, 99.00063607626504, 99.00751129513245, 99.01437921315711, 99.02122425722592, 99.02805926683206, 99.03486507704463, 99.04164152823188, 99.0483961530328, 99.05513872996792, 99.06185934599146, 99.06855126223037, 99.07522683995002, 99.08188406506785, 99.08851177859191, 99.09511378535719, 99.10167247169694, 99.10822046467337, 99.11475388133623, 99.12125010110897, 99.12772880550041, 99.13419183625456, 99.14063508808373, 99.14704337429758, 99.1534427185377, 99.15983217718838, 99.16616568715769, 99.17248032805293, 99.17877938814033, 99.18505855722965, 99.19131083971982, 99.19755201566785, 99.20375425665142, 99.20992622456164, 99.21608504549687, 99.22220234674161, 99.22830563508052, 99.23439887509596, 99.24047894584832, 99.2465466041787, 99.25256387372214, 99.25854681496895, 99.26451380601374, 99.27044471515502, 99.27634218421845, 99.28223361547052, 99.28810365145364, 99.2939491830917, 99.29977191255529, 99.30556944351392, 99.31135209878948, 99.31711161706359, 99.32284548884101, 99.32856644220291, 99.33427479487982, 99.33996251665097, 99.34561795182978, 99.3512516788521, 99.35685313276461, 99.36244413258494, 99.36802168999584, 99.3735823564812, 99.37910301154939, 99.38460558372078, 99.39008201539245, 99.39553603378597, 99.40097506473475, 99.40639660591826, 99.41178857350243, 99.41715895952032, 99.42249860751832, 99.42782812882709, 99.43313420042293, 99.43841062212846, 99.44367104471945, 99.44889435788672, 99.45409840900993, 99.45928988687484, 99.46445835447085, 99.46960153578708, 99.47471429291565, 99.47980222271427, 99.48488289049433, 99.48995438542153, 99.49499948573748, 99.50003812939636, 99.50504751897323, 99.51003532635114, 99.51499575566818, 99.51994423451194, 99.5248550941325, 99.52974292667267, 99.53461336197563, 99.53946291126807, 99.54426451823583, 99.54905596874637, 99.55382916663478, 99.55858968772277, 99.56332338208453, 99.56803269742326, 99.57270760677898, 99.57737499595434, 99.58200863400263, 99.58663269138609, 99.5912417528608, 99.5957991292356, 99.60034776552472, 99.60487711691475, 99.6093781449873, 99.61387159667528, 99.61834499275699, 99.62278152604506, 99.62719128948603, 99.63157843265243, 99.63593896449936, 99.64029320419338, 99.64462958878632, 99.64890531982171, 99.65316744683751, 99.65739744757718, 99.66161403231928, 99.66580135771319, 99.66996409976963, 99.67411377374162, 99.67824375208855, 99.68235015012593, 99.68643901790223, 99.69051687465964, 99.69458180968549, 99.69860943268154, 99.7026299261829, 99.70661266171955, 99.71058918258846, 99.71453813443605, 99.71846219953439, 99.72236342071254, 99.72622811067876, 99.7300785376574, 99.73387491256706, 99.73766720610836, 99.74145451117501, 99.74519231244973, 99.74890354502612, 99.75260115680257, 99.75627054961308, 99.75992130337258, 99.76355311052309, 99.76717300525854, 99.7707633660553, 99.77434061562391, 99.7778827841634, 99.7814011321141, 99.78491127132781, 99.78840307076874, 99.79185956614225, 99.79530094122089, 99.79869286151826, 99.80206375719114, 99.8054266138002, 99.8087612734285, 99.81207093241657, 99.81535872422944, 99.81862120932144, 99.82185437484138, 99.82506515987674, 99.82825895588624, 99.83141264244354, 99.83455697469711, 99.83769392361118, 99.84081924469368, 99.84390925596018, 99.84698504838725, 99.85005000179243, 99.85308931899624, 99.85611035289833, 99.85907970901343, 99.86203299812276, 99.86496665922166, 99.86785904061912, 99.87073714591348, 99.87358793737465, 99.87642279267176, 99.87923898460512, 99.88202187432009, 99.88475799121942, 99.88746355851384, 99.89015415596128, 99.89283678467483, 99.89548295719187, 99.89810360607449, 99.90071924555501, 99.90330352787457, 99.90586892447968, 99.90840508183337, 99.91090969067155, 99.91339468837687, 99.91584600404308, 99.91827204282102, 99.92067541126899, 99.92306671003578, 99.92540627301842, 99.92773414399107, 99.9300051995194, 99.93226824829587, 99.93452053315104, 99.93673705330285, 99.9389366346977, 99.94112471798748, 99.94327695089603, 99.94541800635706, 99.94754472508613, 99.94964567041436, 99.95170715263666, 99.95376293978455, 99.95581371820187, 99.95785630484721, 99.9598845298549, 99.96186589621821, 99.9637935979292, 99.96568211155888, 99.96751630280619, 99.96927993337924, 99.9710133611907, 99.97270218514197, 99.97438192623451, 99.97596884972045, 99.97751444975628, 99.9790290759706, 99.9805205730734, 99.98198888628443, 99.98340985522752, 99.98479247355345, 99.98615071320572, 99.9874779075526, 99.98877972819928, 99.9900503677282, 99.99130149661151, 99.99253766034197, 99.99363819811134, 99.99469167447717, 99.99568557212777, 99.99664651478358, 99.9975894046231, 99.99851002087534, 99.99921940308853, 99.99967896441309, 99.9999999999997]\n"
     ]
    }
   ],
   "source": [
    "print(cum_captured_variability)"
   ]
  },
  {
   "cell_type": "code",
   "execution_count": 261,
   "metadata": {},
   "outputs": [
    {
     "name": "stdout",
     "output_type": "stream",
     "text": [
      "36\n"
     ]
    }
   ],
   "source": [
    "twothirds = [i for i in range(1,len(cum_captured_variability)) if cum_captured_variability[i] > 200/3 and cum_captured_variability[i-1] < 200/3][0]\n",
    "print(twothirds)"
   ]
  },
  {
   "cell_type": "code",
   "execution_count": 224,
   "metadata": {},
   "outputs": [
    {
     "data": {
      "image/png": "[encoded data removed]",
      "text/plain": [
       "<matplotlib.figure.Figure at 0x7f3be37b5c18>"
      ]
     },
     "metadata": {},
     "output_type": "display_data"
    }
   ],
   "source": [
    "plt.figure(figsize=(10,6))\n",
    "plt.plot(range(len(cum_captured_variability)), cum_captured_variability)\n",
    "plt.title(\"PCA Stats\")\n",
    "plt.xticks(np.arange(0, 1200, step=100))\n",
    "plt.xlabel(\"Number of Principal components\")\n",
    "plt.ylabel(\"Captured Variability (%)\")\n",
    "plt.show()"
   ]
  },
  {
   "cell_type": "code",
   "execution_count": 235,
   "metadata": {
    "collapsed": true
   },
   "outputs": [],
   "source": [
    "sample_points = [5, 15, 35, 60, 80, 100, 200]\n",
    "sample_captured_variability = [cum_captured_variability[x-1] for x in sample_points]"
   ]
  },
  {
   "cell_type": "code",
   "execution_count": 236,
   "metadata": {},
   "outputs": [
    {
     "data": {
      "image/png": "[encoded data removed]",
      "text/plain": [
       "<matplotlib.figure.Figure at 0x7f3be38d7c18>"
      ]
     },
     "metadata": {},
     "output_type": "display_data"
    }
   ],
   "source": [
    "plt.figure(figsize=(15,6))\n",
    "plt.title(\"PCA Stats\")\n",
    "plt.bar(sample_points, sample_captured_variability, width=4)\n",
    "plt.xticks(sample_points)\n",
    "plt.yticks(sample_captured_variability)\n",
    "plt.xlabel(\"Number of Principal components\")\n",
    "plt.ylabel(\"Captured Variability (%)\")\n",
    "plt.show()"
   ]
  },
  {
   "cell_type": "markdown",
   "metadata": {},
   "source": [
    "We need 36 components to capture 2/3 of the variability in our data."
   ]
  },
  {
   "cell_type": "markdown",
   "metadata": {},
   "source": [
    "### Excercise 3.2"
   ]
  },
  {
   "cell_type": "code",
   "execution_count": 361,
   "metadata": {},
   "outputs": [
    {
     "name": "stdout",
     "output_type": "stream",
     "text": [
      "Principal Direction 1\n",
      "               Highest                                          Lowest\n",
      "talky                                0.104587     predictable               -0.083331\n",
      "social commentary                    0.101853     so bad it's funny         -0.068450\n",
      "criterion                            0.101389     bad plot                  -0.065058\n",
      "imdb top 250                         0.099906     silly                     -0.061452\n",
      "great acting                         0.098764     silly fun                 -0.060956\n",
      "drama                                0.098425     horrible                  -0.054783\n",
      "oscar (best directing)               0.097419     franchise                 -0.053759\n",
      "bleak                                0.096656     lame                      -0.046250\n",
      "dramatic                             0.096186     big budget                -0.045794\n",
      "cinematography                       0.095898     comedy                    -0.045540\n",
      "----------------------------\n",
      "Principal Direction 2\n",
      "               Highest                                          Lowest\n",
      "intimate                             0.105640     action                    -0.165869\n",
      "relationships                        0.087637     special effects           -0.123227\n",
      "criterion                            0.073061     big budget                -0.122260\n",
      "melancholic                          0.067270     chase                     -0.120449\n",
      "loneliness                           0.066820     fast paced                -0.118282\n",
      "golden palm                          0.065693     suspense                  -0.118274\n",
      "meditative                           0.057899     good action               -0.111628\n",
      "art house                            0.052799     plot                      -0.108356\n",
      "melancholy                           0.050488     pg-13                     -0.107317\n",
      "sexual                               0.048188     action packed             -0.106653\n",
      "----------------------------\n",
      "Principal Direction 3\n",
      "               Highest                                          Lowest\n",
      "feel-good                            0.109304     horror                    -0.116760\n",
      "sentimental                          0.107691     weird                     -0.116052\n",
      "love story                           0.105752     creepy                    -0.108169\n",
      "heartwarming                         0.104573     splatter                  -0.107639\n",
      "touching                             0.101823     stylish                   -0.098411\n",
      "romantic                             0.098457     cult classic              -0.096496\n",
      "sweet                                0.094701     disturbing                -0.096220\n",
      "courage                              0.092427     violence                  -0.094341\n",
      "girlie movie                         0.092092     cult film                 -0.093566\n",
      "feel good movie                      0.090080     dark                      -0.092990\n",
      "----------------------------\n",
      "Principal Direction 4\n",
      "               Highest                                          Lowest\n",
      "visual                               0.140783     corruption                -0.115534\n",
      "visually stunning                    0.135280     crime                     -0.111708\n",
      "imagination                          0.117299     murder                    -0.103648\n",
      "sci-fi                               0.115642     police investigation      -0.078892\n",
      "scifi                                0.114379     thriller                  -0.075740\n",
      "visually appealing                   0.113219     suspense                  -0.074581\n",
      "science fiction                      0.105389     violence                  -0.070704\n",
      "sci fi                               0.103665     police corruption         -0.068487\n",
      "special effects                      0.103361     gangsters                 -0.067389\n",
      "beautifully filmed                   0.099971     manipulation              -0.066855\n",
      "----------------------------\n",
      "Principal Direction 5\n",
      "               Highest                                          Lowest\n",
      "thriller                             0.088307     comedy                    -0.219641\n",
      "conspiracy                           0.077809     funny                     -0.188340\n",
      "secrets                              0.077050     hilarious                 -0.157748\n",
      "suspenseful                          0.071277     goofy                     -0.156777\n",
      "tense                                0.070646     humorous                  -0.156534\n",
      "mystery                              0.069755     humor                     -0.131104\n",
      "suspense                             0.066642     very funny                -0.125578\n",
      "investigation                        0.064039     cult classic              -0.116184\n",
      "murder mystery                       0.063398     quotable                  -0.107744\n",
      "betrayal                             0.062186     funny as hell             -0.103001\n",
      "----------------------------\n"
     ]
    }
   ],
   "source": [
    "first_five_eig_vectors = eig_vectors.T[:5]\n",
    "for i, princ_dir in enumerate(first_five_eig_vectors):\n",
    "    sorted_coordinates = princ_dir.argsort()\n",
    "    highest10 = sorted_coordinates[-10:][::-1]\n",
    "    lowest10 = sorted_coordinates[:10]\n",
    "    print(\"Principal Direction\", i+1)\n",
    "    print(\"               Highest {:40s} Lowest\".format(\"\"))\n",
    "    for i in range(10):\n",
    "        [tag2name[tag+1] for tag in np.where(princ_dir == max(princ_dir))[0]]\n",
    "        print(\"{:25s}{:20f}{:5}{:20s}{:15f}\".format(tag2name[highest10[i]+1], princ_dir[highest10[i]], \"\", tag2name[lowest10[i]+1], princ_dir[lowest10[i]]))\n",
    "    print(\"----------------------------\")"
   ]
  },
  {
   "cell_type": "markdown",
   "metadata": {},
   "source": [
    "#### Concepts"
   ]
  },
  {
   "cell_type": "markdown",
   "metadata": {},
   "source": [
    "These look like ..."
   ]
  },
  {
   "cell_type": "code",
   "execution_count": 371,
   "metadata": {},
   "outputs": [],
   "source": [
    "tags_in_5_dimensions = {}\n",
    "for tag in tag2name:\n",
    "    coords = [princ_dir[tag-1] for princ_dir in first_five_eig_vectors]\n",
    "    tags_in_5_dimensions[tag2name[tag]] = coords"
   ]
  },
  {
   "cell_type": "code",
   "execution_count": 376,
   "metadata": {},
   "outputs": [],
   "source": [
    "pickle_out = open(\"tags_in_5_dimensions.pickle\",\"wb\")\n",
    "pickle.dump(tags_in_5_dimensions, pickle_out)\n",
    "pickle_out.close()"
   ]
  },
  {
   "cell_type": "code",
   "execution_count": 377,
   "metadata": {
    "collapsed": true
   },
   "outputs": [],
   "source": [
    "pickle_out = open(\"mat.pickle\",\"wb\")\n",
    "pickle.dump(mat, pickle_out)\n",
    "pickle_out.close()"
   ]
  },
  {
   "cell_type": "markdown",
   "metadata": {},
   "source": [
    "### Excercise 3.3"
   ]
  },
  {
   "cell_type": "code",
   "execution_count": 378,
   "metadata": {
    "collapsed": true
   },
   "outputs": [],
   "source": [
    "with open(\"selected-movies.pickle\", \"rb\") as f:\n",
    "    selected_movies = pickle.load(f, encoding=\"utf-8\")"
   ]
  },
  {
   "cell_type": "code",
   "execution_count": 382,
   "metadata": {},
   "outputs": [],
   "source": [
    "selected_movies = list(selected_movies)"
   ]
  },
  {
   "cell_type": "code",
   "execution_count": 383,
   "metadata": {},
   "outputs": [
    {
     "data": {
      "text/plain": [
       "[(780, 'Independence Day (a.k.a. ID4) (1996)', 0.6),\n",
       " (5349, 'Spider-Man (2002)', 0.89),\n",
       " (2571, 'Matrix, The (1999)', 0.87),\n",
       " (318, 'Shawshank Redemption, The (1994)', 0.91),\n",
       " (2329, 'American History X (1998)', 0.83),\n",
       " (5147, 'Wild Strawberries (Smultronstället) (1957)', 0.95),\n",
       " (55444, 'Control (2007)', 0.87),\n",
       " (32296, 'Miss Congeniality 2: Armed and Fabulous (2005)', 0.15),\n",
       " (43930, 'Just My Luck (2006)', 0.13),\n",
       " (4658, 'Santa Sangre (1989)', 0.85),\n",
       " (6774, 'Videodrome (1983)', 0.78),\n",
       " (3967, 'Billy Elliot (2000)', 0.85),\n",
       " (114028, 'Pride (2014)', 0.92),\n",
       " (480, 'Jurassic Park (1993)', 0.93),\n",
       " (260, 'Star Wars: Episode IV - A New Hope (1977)', 0.93),\n",
       " (4700, 'Princess Diaries, The (2001)', 0.47),\n",
       " (527, \"Schindler's List (1993)\", 0.96),\n",
       " (2959, 'Fight Club (1999)', 0.79),\n",
       " (6132, 'New York Ripper, The (Squartatore di New York, Lo) (1982)', 0.17),\n",
       " (2858, 'American Beauty (1999)', 0.88),\n",
       " (6016, 'City of God (Cidade de Deus) (2002)', 0.9),\n",
       " (94018, 'Battleship (2012)', 0.34),\n",
       " (5687, 'Take Care of My Cat (Goyangileul butaghae) (2001)', 0.81),\n",
       " (1240, 'Terminator, The (1984)', 1.0),\n",
       " (111759, 'Edge of Tomorrow (2014)', 0.91),\n",
       " (356, 'Forrest Gump (1994)', 0.72),\n",
       " (81845, \"King's Speech, The (2010)\", 0.95),\n",
       " (2324, 'Life Is Beautiful (La Vita è bella) (1997)', 0.8),\n",
       " (5163, 'Stage Fright (Deliria) (1987)', 0.68),\n",
       " (7235, 'Ichi the Killer (Koroshiya 1) (2001)', 0.64),\n",
       " (1199, 'Brazil (1985)', 0.98),\n",
       " (48043, 'Fountain, The (2006)', 0.51),\n",
       " (4465, 'Accused, The (1988)', 0.95),\n",
       " (805, 'Time to Kill, A (1996)', 0.67),\n",
       " (74545, 'Ghost Writer, The (2010)', 0.83),\n",
       " (54503, 'Superbad (2007)', 0.88),\n",
       " (2706, 'American Pie (1999)', 0.6)]"
      ]
     },
     "execution_count": 383,
     "metadata": {},
     "output_type": "execute_result"
    }
   ],
   "source": [
    "selected_movies"
   ]
  },
  {
   "cell_type": "code",
   "execution_count": 407,
   "metadata": {
    "collapsed": true
   },
   "outputs": [],
   "source": [
    "projections = [[np.dot(mat[:, tagged_movies_list.index(movie[0])], first_five_eig_vectors[i]) for movie in selected_movies] for i in range(5)]"
   ]
  },
  {
   "cell_type": "code",
   "execution_count": 392,
   "metadata": {},
   "outputs": [
    {
     "data": {
      "text/html": [
       "\n",
       "    <div class=\"bk-root\">\n",
       "        <a href=\"https://bokeh.pydata.org\" target=\"_blank\" class=\"bk-logo bk-logo-small bk-logo-notebook\"></a>\n",
       "        <span id=\"f237b517-6050-4c59-acbe-cc9d5b25b6c1\">Loading BokehJS ...</span>\n",
       "    </div>"
      ]
     },
     "metadata": {},
     "output_type": "display_data"
    },
    {
     "data": {
      "application/javascript": [
       "\n",
       "(function(root) {\n",
       "  function now() {\n",
       "    return new Date();\n",
       "  }\n",
       "\n",
       "  var force = true;\n",
       "\n",
       "  if (typeof (root._bokeh_onload_callbacks) === \"undefined\" || force === true) {\n",
       "    root._bokeh_onload_callbacks = [];\n",
       "    root._bokeh_is_loading = undefined;\n",
       "  }\n",
       "\n",
       "  var JS_MIME_TYPE = 'application/javascript';\n",
       "  var HTML_MIME_TYPE = 'text/html';\n",
       "  var EXEC_MIME_TYPE = 'application/vnd.bokehjs_exec.v0+json';\n",
       "  var CLASS_NAME = 'output_bokeh rendered_html';\n",
       "\n",
       "  /**\n",
       "   * Render data to the DOM node\n",
       "   */\n",
       "  function render(props, node) {\n",
       "    var script = document.createElement(\"script\");\n",
       "    node.appendChild(script);\n",
       "  }\n",
       "\n",
       "  /**\n",
       "   * Handle when an output is cleared or removed\n",
       "   */\n",
       "  function handleClearOutput(event, handle) {\n",
       "    var cell = handle.cell;\n",
       "\n",
       "    var id = cell.output_area._bokeh_element_id;\n",
       "    var server_id = cell.output_area._bokeh_server_id;\n",
       "    // Clean up Bokeh references\n",
       "    if (id !== undefined) {\n",
       "      Bokeh.index[id].model.document.clear();\n",
       "      delete Bokeh.index[id];\n",
       "    }\n",
       "\n",
       "    if (server_id !== undefined) {\n",
       "      // Clean up Bokeh references\n",
       "      var cmd = \"from bokeh.io.state import curstate; print(curstate().uuid_to_server['\" + server_id + \"'].get_sessions()[0].document.roots[0]._id)\";\n",
       "      cell.notebook.kernel.execute(cmd, {\n",
       "        iopub: {\n",
       "          output: function(msg) {\n",
       "            var element_id = msg.content.text.trim();\n",
       "            Bokeh.index[element_id].model.document.clear();\n",
       "            delete Bokeh.index[element_id];\n",
       "          }\n",
       "        }\n",
       "      });\n",
       "      // Destroy server and session\n",
       "      var cmd = \"import bokeh.io.notebook as ion; ion.destroy_server('\" + server_id + \"')\";\n",
       "      cell.notebook.kernel.execute(cmd);\n",
       "    }\n",
       "  }\n",
       "\n",
       "  /**\n",
       "   * Handle when a new output is added\n",
       "   */\n",
       "  function handleAddOutput(event, handle) {\n",
       "    var output_area = handle.output_area;\n",
       "    var output = handle.output;\n",
       "\n",
       "    // limit handleAddOutput to display_data with EXEC_MIME_TYPE content only\n",
       "    if ((output.output_type != \"display_data\") || (!output.data.hasOwnProperty(EXEC_MIME_TYPE))) {\n",
       "      return\n",
       "    }\n",
       "\n",
       "    var toinsert = output_area.element.find(`.${CLASS_NAME.split(' ')[0]}`);\n",
       "\n",
       "    if (output.metadata[EXEC_MIME_TYPE][\"id\"] !== undefined) {\n",
       "      toinsert[0].firstChild.textContent = output.data[JS_MIME_TYPE];\n",
       "      // store reference to embed id on output_area\n",
       "      output_area._bokeh_element_id = output.metadata[EXEC_MIME_TYPE][\"id\"];\n",
       "    }\n",
       "    if (output.metadata[EXEC_MIME_TYPE][\"server_id\"] !== undefined) {\n",
       "      var bk_div = document.createElement(\"div\");\n",
       "      bk_div.innerHTML = output.data[HTML_MIME_TYPE];\n",
       "      var script_attrs = bk_div.children[0].attributes;\n",
       "      for (var i = 0; i < script_attrs.length; i++) {\n",
       "        toinsert[0].firstChild.setAttribute(script_attrs[i].name, script_attrs[i].value);\n",
       "      }\n",
       "      // store reference to server id on output_area\n",
       "      output_area._bokeh_server_id = output.metadata[EXEC_MIME_TYPE][\"server_id\"];\n",
       "    }\n",
       "  }\n",
       "\n",
       "  function register_renderer(events, OutputArea) {\n",
       "\n",
       "    function append_mime(data, metadata, element) {\n",
       "      // create a DOM node to render to\n",
       "      var toinsert = this.create_output_subarea(\n",
       "        metadata,\n",
       "        CLASS_NAME,\n",
       "        EXEC_MIME_TYPE\n",
       "      );\n",
       "      this.keyboard_manager.register_events(toinsert);\n",
       "      // Render to node\n",
       "      var props = {data: data, metadata: metadata[EXEC_MIME_TYPE]};\n",
       "      render(props, toinsert[0]);\n",
       "      element.append(toinsert);\n",
       "      return toinsert\n",
       "    }\n",
       "\n",
       "    /* Handle when an output is cleared or removed */\n",
       "    events.on('clear_output.CodeCell', handleClearOutput);\n",
       "    events.on('delete.Cell', handleClearOutput);\n",
       "\n",
       "    /* Handle when a new output is added */\n",
       "    events.on('output_added.OutputArea', handleAddOutput);\n",
       "\n",
       "    /**\n",
       "     * Register the mime type and append_mime function with output_area\n",
       "     */\n",
       "    OutputArea.prototype.register_mime_type(EXEC_MIME_TYPE, append_mime, {\n",
       "      /* Is output safe? */\n",
       "      safe: true,\n",
       "      /* Index of renderer in `output_area.display_order` */\n",
       "      index: 0\n",
       "    });\n",
       "  }\n",
       "\n",
       "  // register the mime type if in Jupyter Notebook environment and previously unregistered\n",
       "  if (root.Jupyter !== undefined) {\n",
       "    var events = require('base/js/events');\n",
       "    var OutputArea = require('notebook/js/outputarea').OutputArea;\n",
       "\n",
       "    if (OutputArea.prototype.mime_types().indexOf(EXEC_MIME_TYPE) == -1) {\n",
       "      register_renderer(events, OutputArea);\n",
       "    }\n",
       "  }\n",
       "\n",
       "  \n",
       "  if (typeof (root._bokeh_timeout) === \"undefined\" || force === true) {\n",
       "    root._bokeh_timeout = Date.now() + 5000;\n",
       "    root._bokeh_failed_load = false;\n",
       "  }\n",
       "\n",
       "  var NB_LOAD_WARNING = {'data': {'text/html':\n",
       "     \"<div style='background-color: #fdd'>\\n\"+\n",
       "     \"<p>\\n\"+\n",
       "     \"BokehJS does not appear to have successfully loaded. If loading BokehJS from CDN, this \\n\"+\n",
       "     \"may be due to a slow or bad network connection. Possible fixes:\\n\"+\n",
       "     \"</p>\\n\"+\n",
       "     \"<ul>\\n\"+\n",
       "     \"<li>re-rerun `output_notebook()` to attempt to load from CDN again, or</li>\\n\"+\n",
       "     \"<li>use INLINE resources instead, as so:</li>\\n\"+\n",
       "     \"</ul>\\n\"+\n",
       "     \"<code>\\n\"+\n",
       "     \"from bokeh.resources import INLINE\\n\"+\n",
       "     \"output_notebook(resources=INLINE)\\n\"+\n",
       "     \"</code>\\n\"+\n",
       "     \"</div>\"}};\n",
       "\n",
       "  function display_loaded() {\n",
       "    var el = document.getElementById(\"f237b517-6050-4c59-acbe-cc9d5b25b6c1\");\n",
       "    if (el != null) {\n",
       "      el.textContent = \"BokehJS is loading...\";\n",
       "    }\n",
       "    if (root.Bokeh !== undefined) {\n",
       "      if (el != null) {\n",
       "        el.textContent = \"BokehJS \" + root.Bokeh.version + \" successfully loaded.\";\n",
       "      }\n",
       "    } else if (Date.now() < root._bokeh_timeout) {\n",
       "      setTimeout(display_loaded, 100)\n",
       "    }\n",
       "  }\n",
       "\n",
       "\n",
       "  function run_callbacks() {\n",
       "    try {\n",
       "      root._bokeh_onload_callbacks.forEach(function(callback) { callback() });\n",
       "    }\n",
       "    finally {\n",
       "      delete root._bokeh_onload_callbacks\n",
       "    }\n",
       "    console.info(\"Bokeh: all callbacks have finished\");\n",
       "  }\n",
       "\n",
       "  function load_libs(js_urls, callback) {\n",
       "    root._bokeh_onload_callbacks.push(callback);\n",
       "    if (root._bokeh_is_loading > 0) {\n",
       "      console.log(\"Bokeh: BokehJS is being loaded, scheduling callback at\", now());\n",
       "      return null;\n",
       "    }\n",
       "    if (js_urls == null || js_urls.length === 0) {\n",
       "      run_callbacks();\n",
       "      return null;\n",
       "    }\n",
       "    console.log(\"Bokeh: BokehJS not loaded, scheduling load and callback at\", now());\n",
       "    root._bokeh_is_loading = js_urls.length;\n",
       "    for (var i = 0; i < js_urls.length; i++) {\n",
       "      var url = js_urls[i];\n",
       "      var s = document.createElement('script');\n",
       "      s.src = url;\n",
       "      s.async = false;\n",
       "      s.onreadystatechange = s.onload = function() {\n",
       "        root._bokeh_is_loading--;\n",
       "        if (root._bokeh_is_loading === 0) {\n",
       "          console.log(\"Bokeh: all BokehJS libraries loaded\");\n",
       "          run_callbacks()\n",
       "        }\n",
       "      };\n",
       "      s.onerror = function() {\n",
       "        console.warn(\"failed to load library \" + url);\n",
       "      };\n",
       "      console.log(\"Bokeh: injecting script tag for BokehJS library: \", url);\n",
       "      document.getElementsByTagName(\"head\")[0].appendChild(s);\n",
       "    }\n",
       "  };var element = document.getElementById(\"f237b517-6050-4c59-acbe-cc9d5b25b6c1\");\n",
       "  if (element == null) {\n",
       "    console.log(\"Bokeh: ERROR: autoload.js configured with elementid 'f237b517-6050-4c59-acbe-cc9d5b25b6c1' but no matching script tag was found. \")\n",
       "    return false;\n",
       "  }\n",
       "\n",
       "  var js_urls = [\"https://cdn.pydata.org/bokeh/release/bokeh-0.12.10.min.js\", \"https://cdn.pydata.org/bokeh/release/bokeh-widgets-0.12.10.min.js\", \"https://cdn.pydata.org/bokeh/release/bokeh-tables-0.12.10.min.js\", \"https://cdn.pydata.org/bokeh/release/bokeh-gl-0.12.10.min.js\"];\n",
       "\n",
       "  var inline_js = [\n",
       "    function(Bokeh) {\n",
       "      Bokeh.set_log_level(\"info\");\n",
       "    },\n",
       "    \n",
       "    function(Bokeh) {\n",
       "      \n",
       "    },\n",
       "    function(Bokeh) {\n",
       "      console.log(\"Bokeh: injecting CSS: https://cdn.pydata.org/bokeh/release/bokeh-0.12.10.min.css\");\n",
       "      Bokeh.embed.inject_css(\"https://cdn.pydata.org/bokeh/release/bokeh-0.12.10.min.css\");\n",
       "      console.log(\"Bokeh: injecting CSS: https://cdn.pydata.org/bokeh/release/bokeh-widgets-0.12.10.min.css\");\n",
       "      Bokeh.embed.inject_css(\"https://cdn.pydata.org/bokeh/release/bokeh-widgets-0.12.10.min.css\");\n",
       "      console.log(\"Bokeh: injecting CSS: https://cdn.pydata.org/bokeh/release/bokeh-tables-0.12.10.min.css\");\n",
       "      Bokeh.embed.inject_css(\"https://cdn.pydata.org/bokeh/release/bokeh-tables-0.12.10.min.css\");\n",
       "    }\n",
       "  ];\n",
       "\n",
       "  function run_inline_js() {\n",
       "    \n",
       "    if ((root.Bokeh !== undefined) || (force === true)) {\n",
       "      for (var i = 0; i < inline_js.length; i++) {\n",
       "        inline_js[i].call(root, root.Bokeh);\n",
       "      }if (force === true) {\n",
       "        display_loaded();\n",
       "      }} else if (Date.now() < root._bokeh_timeout) {\n",
       "      setTimeout(run_inline_js, 100);\n",
       "    } else if (!root._bokeh_failed_load) {\n",
       "      console.log(\"Bokeh: BokehJS failed to load within specified timeout.\");\n",
       "      root._bokeh_failed_load = true;\n",
       "    } else if (force !== true) {\n",
       "      var cell = $(document.getElementById(\"f237b517-6050-4c59-acbe-cc9d5b25b6c1\")).parents('.cell').data().cell;\n",
       "      cell.output_area.append_execute_result(NB_LOAD_WARNING)\n",
       "    }\n",
       "\n",
       "  }\n",
       "\n",
       "  if (root._bokeh_is_loading === 0) {\n",
       "    console.log(\"Bokeh: BokehJS loaded, going straight to plotting\");\n",
       "    run_inline_js();\n",
       "  } else {\n",
       "    load_libs(js_urls, function() {\n",
       "      console.log(\"Bokeh: BokehJS plotting callback run at\", now());\n",
       "      run_inline_js();\n",
       "    });\n",
       "  }\n",
       "}(window));"
      ],
      "application/vnd.bokehjs_load.v0+json": "\n(function(root) {\n  function now() {\n    return new Date();\n  }\n\n  var force = true;\n\n  if (typeof (root._bokeh_onload_callbacks) === \"undefined\" || force === true) {\n    root._bokeh_onload_callbacks = [];\n    root._bokeh_is_loading = undefined;\n  }\n\n  \n\n  \n  if (typeof (root._bokeh_timeout) === \"undefined\" || force === true) {\n    root._bokeh_timeout = Date.now() + 5000;\n    root._bokeh_failed_load = false;\n  }\n\n  var NB_LOAD_WARNING = {'data': {'text/html':\n     \"<div style='background-color: #fdd'>\\n\"+\n     \"<p>\\n\"+\n     \"BokehJS does not appear to have successfully loaded. If loading BokehJS from CDN, this \\n\"+\n     \"may be due to a slow or bad network connection. Possible fixes:\\n\"+\n     \"</p>\\n\"+\n     \"<ul>\\n\"+\n     \"<li>re-rerun `output_notebook()` to attempt to load from CDN again, or</li>\\n\"+\n     \"<li>use INLINE resources instead, as so:</li>\\n\"+\n     \"</ul>\\n\"+\n     \"<code>\\n\"+\n     \"from bokeh.resources import INLINE\\n\"+\n     \"output_notebook(resources=INLINE)\\n\"+\n     \"</code>\\n\"+\n     \"</div>\"}};\n\n  function display_loaded() {\n    var el = document.getElementById(\"f237b517-6050-4c59-acbe-cc9d5b25b6c1\");\n    if (el != null) {\n      el.textContent = \"BokehJS is loading...\";\n    }\n    if (root.Bokeh !== undefined) {\n      if (el != null) {\n        el.textContent = \"BokehJS \" + root.Bokeh.version + \" successfully loaded.\";\n      }\n    } else if (Date.now() < root._bokeh_timeout) {\n      setTimeout(display_loaded, 100)\n    }\n  }\n\n\n  function run_callbacks() {\n    try {\n      root._bokeh_onload_callbacks.forEach(function(callback) { callback() });\n    }\n    finally {\n      delete root._bokeh_onload_callbacks\n    }\n    console.info(\"Bokeh: all callbacks have finished\");\n  }\n\n  function load_libs(js_urls, callback) {\n    root._bokeh_onload_callbacks.push(callback);\n    if (root._bokeh_is_loading > 0) {\n      console.log(\"Bokeh: BokehJS is being loaded, scheduling callback at\", now());\n      return null;\n    }\n    if (js_urls == null || js_urls.length === 0) {\n      run_callbacks();\n      return null;\n    }\n    console.log(\"Bokeh: BokehJS not loaded, scheduling load and callback at\", now());\n    root._bokeh_is_loading = js_urls.length;\n    for (var i = 0; i < js_urls.length; i++) {\n      var url = js_urls[i];\n      var s = document.createElement('script');\n      s.src = url;\n      s.async = false;\n      s.onreadystatechange = s.onload = function() {\n        root._bokeh_is_loading--;\n        if (root._bokeh_is_loading === 0) {\n          console.log(\"Bokeh: all BokehJS libraries loaded\");\n          run_callbacks()\n        }\n      };\n      s.onerror = function() {\n        console.warn(\"failed to load library \" + url);\n      };\n      console.log(\"Bokeh: injecting script tag for BokehJS library: \", url);\n      document.getElementsByTagName(\"head\")[0].appendChild(s);\n    }\n  };var element = document.getElementById(\"f237b517-6050-4c59-acbe-cc9d5b25b6c1\");\n  if (element == null) {\n    console.log(\"Bokeh: ERROR: autoload.js configured with elementid 'f237b517-6050-4c59-acbe-cc9d5b25b6c1' but no matching script tag was found. \")\n    return false;\n  }\n\n  var js_urls = [\"https://cdn.pydata.org/bokeh/release/bokeh-0.12.10.min.js\", \"https://cdn.pydata.org/bokeh/release/bokeh-widgets-0.12.10.min.js\", \"https://cdn.pydata.org/bokeh/release/bokeh-tables-0.12.10.min.js\", \"https://cdn.pydata.org/bokeh/release/bokeh-gl-0.12.10.min.js\"];\n\n  var inline_js = [\n    function(Bokeh) {\n      Bokeh.set_log_level(\"info\");\n    },\n    \n    function(Bokeh) {\n      \n    },\n    function(Bokeh) {\n      console.log(\"Bokeh: injecting CSS: https://cdn.pydata.org/bokeh/release/bokeh-0.12.10.min.css\");\n      Bokeh.embed.inject_css(\"https://cdn.pydata.org/bokeh/release/bokeh-0.12.10.min.css\");\n      console.log(\"Bokeh: injecting CSS: https://cdn.pydata.org/bokeh/release/bokeh-widgets-0.12.10.min.css\");\n      Bokeh.embed.inject_css(\"https://cdn.pydata.org/bokeh/release/bokeh-widgets-0.12.10.min.css\");\n      console.log(\"Bokeh: injecting CSS: https://cdn.pydata.org/bokeh/release/bokeh-tables-0.12.10.min.css\");\n      Bokeh.embed.inject_css(\"https://cdn.pydata.org/bokeh/release/bokeh-tables-0.12.10.min.css\");\n    }\n  ];\n\n  function run_inline_js() {\n    \n    if ((root.Bokeh !== undefined) || (force === true)) {\n      for (var i = 0; i < inline_js.length; i++) {\n        inline_js[i].call(root, root.Bokeh);\n      }if (force === true) {\n        display_loaded();\n      }} else if (Date.now() < root._bokeh_timeout) {\n      setTimeout(run_inline_js, 100);\n    } else if (!root._bokeh_failed_load) {\n      console.log(\"Bokeh: BokehJS failed to load within specified timeout.\");\n      root._bokeh_failed_load = true;\n    } else if (force !== true) {\n      var cell = $(document.getElementById(\"f237b517-6050-4c59-acbe-cc9d5b25b6c1\")).parents('.cell').data().cell;\n      cell.output_area.append_execute_result(NB_LOAD_WARNING)\n    }\n\n  }\n\n  if (root._bokeh_is_loading === 0) {\n    console.log(\"Bokeh: BokehJS loaded, going straight to plotting\");\n    run_inline_js();\n  } else {\n    load_libs(js_urls, function() {\n      console.log(\"Bokeh: BokehJS plotting callback run at\", now());\n      run_inline_js();\n    });\n  }\n}(window));"
     },
     "metadata": {},
     "output_type": "display_data"
    }
   ],
   "source": [
    "from bokeh.io import show, output_notebook\n",
    "from bokeh.plotting import figure, ColumnDataSource\n",
    "from bokeh.models import HoverTool, ResetTool, PanTool, WheelZoomTool, SaveTool\n",
    "output_notebook()"
   ]
  },
  {
   "cell_type": "code",
   "execution_count": 408,
   "metadata": {},
   "outputs": [
    {
     "data": {
      "text/html": [
       "\n",
       "<div class=\"bk-root\">\n",
       "    <div class=\"bk-plotdiv\" id=\"5bec4383-b6e9-4d6b-818f-15a5a00ad5aa\"></div>\n",
       "</div>"
      ]
     },
     "metadata": {},
     "output_type": "display_data"
    },
    {
     "data": {
      "application/javascript": [
       "(function(root) {\n",
       "  function embed_document(root) {\n",
       "    var docs_json = {\"05497428-73aa-4de8-8b21-a3279f220a90\":{\"roots\":{\"references\":[{\"attributes\":{\"formatter\":{\"id\":\"7e05ab29-1592-4235-a0a1-dbef51f5be8c\",\"type\":\"BasicTickFormatter\"},\"plot\":{\"id\":\"39555d61-805e-40fd-ae26-66cd118b52fb\",\"subtype\":\"Figure\",\"type\":\"Plot\"},\"ticker\":{\"id\":\"18c11f7d-e5fd-4caa-9852-2ca7d8d83e14\",\"type\":\"BasicTicker\"}},\"id\":\"4361b4cf-17fb-47bf-bb68-ba9a1a211967\",\"type\":\"LinearAxis\"},{\"attributes\":{},\"id\":\"3bf2285f-08ee-4efa-aed9-35dd5183960b\",\"type\":\"ResetTool\"},{\"attributes\":{},\"id\":\"18c11f7d-e5fd-4caa-9852-2ca7d8d83e14\",\"type\":\"BasicTicker\"},{\"attributes\":{\"formatter\":{\"id\":\"20ebfca8-eab4-4b58-867d-15c4e2364e88\",\"type\":\"BasicTickFormatter\"},\"plot\":{\"id\":\"39555d61-805e-40fd-ae26-66cd118b52fb\",\"subtype\":\"Figure\",\"type\":\"Plot\"},\"ticker\":{\"id\":\"5fcfae56-b827-43ba-8db0-e9e636d96abc\",\"type\":\"BasicTicker\"}},\"id\":\"4f4d42dd-1bd9-4ae7-9d7e-15475bc89aca\",\"type\":\"LinearAxis\"},{\"attributes\":{},\"id\":\"5fcfae56-b827-43ba-8db0-e9e636d96abc\",\"type\":\"BasicTicker\"},{\"attributes\":{\"callback\":null,\"column_names\":[\"x\",\"y\",\"name\",\"color\",\"rtscore\"],\"data\":{\"color\":[\"#cdff00\",\"#38ff00\",\"#43ff00\",\"#2eff00\",\"#57ff00\",\"#1aff00\",\"#43ff00\",\"#ff4d00\",\"#ff4300\",\"#4dff00\",\"#71ff00\",\"#4dff00\",\"#29ff00\",\"#24ff00\",\"#24ff00\",\"#fff100\",\"#14ff00\",\"#6cff00\",\"#ff5700\",\"#3dff00\",\"#33ff00\",\"#ffae00\",\"#61ff00\",\"#00ff00\",\"#2eff00\",\"#8fff00\",\"#1aff00\",\"#66ff00\",\"#a4ff00\",\"#b8ff00\",\"#0aff00\",\"#fbff00\",\"#1aff00\",\"#a9ff00\",\"#57ff00\",\"#3dff00\",\"#cdff00\"],\"name\":[\"Independence Day (a.k.a. ID4) (1996)\",\"Spider-Man (2002)\",\"Matrix, The (1999)\",\"Shawshank Redemption, The (1994)\",\"American History X (1998)\",\"Wild Strawberries (Smultronst\\u00e4llet) (1957)\",\"Control (2007)\",\"Miss Congeniality 2: Armed and Fabulous (2005)\",\"Just My Luck (2006)\",\"Santa Sangre (1989)\",\"Videodrome (1983)\",\"Billy Elliot (2000)\",\"Pride (2014)\",\"Jurassic Park (1993)\",\"Star Wars: Episode IV - A New Hope (1977)\",\"Princess Diaries, The (2001)\",\"Schindler's List (1993)\",\"Fight Club (1999)\",\"New York Ripper, The (Squartatore di New York, Lo) (1982)\",\"American Beauty (1999)\",\"City of God (Cidade de Deus) (2002)\",\"Battleship (2012)\",\"Take Care of My Cat (Goyangileul butaghae) (2001)\",\"Terminator, The (1984)\",\"Edge of Tomorrow (2014)\",\"Forrest Gump (1994)\",\"King's Speech, The (2010)\",\"Life Is Beautiful (La Vita \\u00e8 bella) (1997)\",\"Stage Fright (Deliria) (1987)\",\"Ichi the Killer (Koroshiya 1) (2001)\",\"Brazil (1985)\",\"Fountain, The (2006)\",\"Accused, The (1988)\",\"Time to Kill, A (1996)\",\"Ghost Writer, The (2010)\",\"Superbad (2007)\",\"American Pie (1999)\"],\"rtscore\":[0.6,0.89,0.87,0.91,0.83,0.95,0.87,0.15,0.13,0.85,0.78,0.85,0.92,0.93,0.93,0.47,0.96,0.79,0.17,0.88,0.9,0.34,0.81,1.0,0.91,0.72,0.95,0.8,0.68,0.64,0.98,0.51,0.95,0.67,0.83,0.88,0.6],\"x\":[1.9563192464706578,2.423473011939733,6.166922994976296,8.263266304963047,8.40728222825496,7.467585235072493,7.309527270150404,0.2763807327027906,0.09133591026512636,5.478011932785142,4.335738415983889,5.1125848951296575,5.350205221235813,3.467061184601558,5.283249654357827,0.7511985315999713,8.012862850827632,8.448732889671703,2.6281793776486384,8.594701228394438,8.8628556999511,0.07895014805738113,2.5587249561975716,4.887597829601467,4.356287831804951,6.080402888934181,6.351129429131261,6.6083529028357635,4.417500015444916,4.314339943618697,6.342243226893646,5.78340028448389,5.784931428017211,3.755509495583607,5.439232132618228,3.6911395441109196,2.212503735032812],\"y\":[-7.004651322298654,-6.5683617061531665,-8.288756869341015,-5.84697935868207,-4.8791047963082335,-1.0961272811702436,-1.8150512541562585,-2.2894303250116423,-1.8303448652081356,-1.8601570872829658,-1.8528059086619626,-2.220114087389773,-1.8469216704740612,-7.283029689024392,-7.576582963071958,-2.300994940111546,-4.795991450586857,-5.661292452125195,-2.995109243900947,-3.1185938681355103,-4.32291045516863,-4.9514078492758085,0.21770525613205652,-7.444349465494818,-7.076629257758824,-5.029462539700735,-3.7401245085837167,-3.5359042615520417,-2.826596727515738,-2.5413593613637606,-3.240371167874715,-2.8005467589011497,-3.4826050275184945,-3.808230047148003,-3.722982094802205,-2.7906872889413794,-3.643259300308142]}},\"id\":\"ede18667-62fd-485f-962b-5e046d34f93b\",\"type\":\"ColumnDataSource\"},{\"attributes\":{},\"id\":\"fb913d1b-f9d0-4ae3-bfae-51dc897ec05c\",\"type\":\"WheelZoomTool\"},{\"attributes\":{\"dimension\":1,\"plot\":{\"id\":\"39555d61-805e-40fd-ae26-66cd118b52fb\",\"subtype\":\"Figure\",\"type\":\"Plot\"},\"ticker\":{\"id\":\"5fcfae56-b827-43ba-8db0-e9e636d96abc\",\"type\":\"BasicTicker\"}},\"id\":\"4c33205d-6a02-4ea6-8716-052196b47413\",\"type\":\"Grid\"},{\"attributes\":{\"callback\":null,\"tooltips\":[[\"Name\",\"@name\"],[\"RT Score\",\"@rtscore\"]]},\"id\":\"09977441-adfb-4355-ac3e-baf8cbad92e9\",\"type\":\"HoverTool\"},{\"attributes\":{\"data_source\":{\"id\":\"ede18667-62fd-485f-962b-5e046d34f93b\",\"type\":\"ColumnDataSource\"},\"glyph\":{\"id\":\"8da90ef4-1e0c-4367-907a-23994b7118a1\",\"type\":\"Circle\"},\"hover_glyph\":null,\"muted_glyph\":null,\"nonselection_glyph\":{\"id\":\"a699ac42-d0f6-4dd2-86b3-f7fbcc195ef8\",\"type\":\"Circle\"},\"selection_glyph\":null,\"view\":{\"id\":\"22bc3e5f-f6b7-4334-96be-385d65197a2f\",\"type\":\"CDSView\"}},\"id\":\"1e973374-beed-4a40-9bb6-523c71d404f1\",\"type\":\"GlyphRenderer\"},{\"attributes\":{},\"id\":\"aea1de04-42c5-47e3-b3aa-37a914e4d08c\",\"type\":\"PanTool\"},{\"attributes\":{\"fill_alpha\":{\"value\":0.1},\"fill_color\":{\"value\":\"#1f77b4\"},\"line_alpha\":{\"value\":0.1},\"line_color\":{\"value\":\"#1f77b4\"},\"size\":{\"units\":\"screen\",\"value\":15},\"x\":{\"field\":\"x\"},\"y\":{\"field\":\"y\"}},\"id\":\"a699ac42-d0f6-4dd2-86b3-f7fbcc195ef8\",\"type\":\"Circle\"},{\"attributes\":{\"below\":[{\"id\":\"4361b4cf-17fb-47bf-bb68-ba9a1a211967\",\"type\":\"LinearAxis\"}],\"left\":[{\"id\":\"4f4d42dd-1bd9-4ae7-9d7e-15475bc89aca\",\"type\":\"LinearAxis\"}],\"plot_height\":480,\"plot_width\":720,\"renderers\":[{\"id\":\"4361b4cf-17fb-47bf-bb68-ba9a1a211967\",\"type\":\"LinearAxis\"},{\"id\":\"c880a26f-95f3-42f1-8bb6-3dfeff68eedf\",\"type\":\"Grid\"},{\"id\":\"4f4d42dd-1bd9-4ae7-9d7e-15475bc89aca\",\"type\":\"LinearAxis\"},{\"id\":\"4c33205d-6a02-4ea6-8716-052196b47413\",\"type\":\"Grid\"},{\"id\":\"1e973374-beed-4a40-9bb6-523c71d404f1\",\"type\":\"GlyphRenderer\"}],\"title\":{\"id\":\"34668e2c-b363-4be3-bdcd-c864889b0f82\",\"type\":\"Title\"},\"toolbar\":{\"id\":\"d48c5824-dba2-4a7b-996f-89772c69d2e5\",\"type\":\"Toolbar\"},\"x_range\":{\"id\":\"5da214d1-3f51-4efc-830b-a5ae5937a172\",\"type\":\"DataRange1d\"},\"x_scale\":{\"id\":\"31e4c90e-c7de-4fe7-ad11-8f2f50195d4b\",\"type\":\"LinearScale\"},\"y_range\":{\"id\":\"2a40c328-a99b-487d-9bcc-3128bcc85487\",\"type\":\"DataRange1d\"},\"y_scale\":{\"id\":\"86cc3244-9710-4d3e-9685-426a0fb77689\",\"type\":\"LinearScale\"}},\"id\":\"39555d61-805e-40fd-ae26-66cd118b52fb\",\"subtype\":\"Figure\",\"type\":\"Plot\"},{\"attributes\":{\"source\":{\"id\":\"ede18667-62fd-485f-962b-5e046d34f93b\",\"type\":\"ColumnDataSource\"}},\"id\":\"22bc3e5f-f6b7-4334-96be-385d65197a2f\",\"type\":\"CDSView\"},{\"attributes\":{},\"id\":\"0bdc92eb-7b71-4549-a119-757835bee272\",\"type\":\"SaveTool\"},{\"attributes\":{},\"id\":\"7e05ab29-1592-4235-a0a1-dbef51f5be8c\",\"type\":\"BasicTickFormatter\"},{\"attributes\":{\"plot\":null,\"text\":\"Mouse over the dots\"},\"id\":\"34668e2c-b363-4be3-bdcd-c864889b0f82\",\"type\":\"Title\"},{\"attributes\":{},\"id\":\"20ebfca8-eab4-4b58-867d-15c4e2364e88\",\"type\":\"BasicTickFormatter\"},{\"attributes\":{\"callback\":null},\"id\":\"5da214d1-3f51-4efc-830b-a5ae5937a172\",\"type\":\"DataRange1d\"},{\"attributes\":{\"fill_alpha\":{\"value\":0.8},\"fill_color\":{\"field\":\"color\"},\"line_alpha\":{\"value\":0.8},\"line_color\":{\"field\":\"color\"},\"size\":{\"units\":\"screen\",\"value\":15},\"x\":{\"field\":\"x\"},\"y\":{\"field\":\"y\"}},\"id\":\"8da90ef4-1e0c-4367-907a-23994b7118a1\",\"type\":\"Circle\"},{\"attributes\":{\"active_drag\":\"auto\",\"active_inspect\":\"auto\",\"active_scroll\":\"auto\",\"active_tap\":\"auto\",\"tools\":[{\"id\":\"09977441-adfb-4355-ac3e-baf8cbad92e9\",\"type\":\"HoverTool\"},{\"id\":\"3bf2285f-08ee-4efa-aed9-35dd5183960b\",\"type\":\"ResetTool\"},{\"id\":\"aea1de04-42c5-47e3-b3aa-37a914e4d08c\",\"type\":\"PanTool\"},{\"id\":\"fb913d1b-f9d0-4ae3-bfae-51dc897ec05c\",\"type\":\"WheelZoomTool\"},{\"id\":\"0bdc92eb-7b71-4549-a119-757835bee272\",\"type\":\"SaveTool\"}]},\"id\":\"d48c5824-dba2-4a7b-996f-89772c69d2e5\",\"type\":\"Toolbar\"},{\"attributes\":{\"callback\":null},\"id\":\"2a40c328-a99b-487d-9bcc-3128bcc85487\",\"type\":\"DataRange1d\"},{\"attributes\":{},\"id\":\"31e4c90e-c7de-4fe7-ad11-8f2f50195d4b\",\"type\":\"LinearScale\"},{\"attributes\":{},\"id\":\"86cc3244-9710-4d3e-9685-426a0fb77689\",\"type\":\"LinearScale\"},{\"attributes\":{\"plot\":{\"id\":\"39555d61-805e-40fd-ae26-66cd118b52fb\",\"subtype\":\"Figure\",\"type\":\"Plot\"},\"ticker\":{\"id\":\"18c11f7d-e5fd-4caa-9852-2ca7d8d83e14\",\"type\":\"BasicTicker\"}},\"id\":\"c880a26f-95f3-42f1-8bb6-3dfeff68eedf\",\"type\":\"Grid\"}],\"root_ids\":[\"39555d61-805e-40fd-ae26-66cd118b52fb\"]},\"title\":\"Bokeh Application\",\"version\":\"0.12.10\"}};\n",
       "    var render_items = [{\"docid\":\"05497428-73aa-4de8-8b21-a3279f220a90\",\"elementid\":\"5bec4383-b6e9-4d6b-818f-15a5a00ad5aa\",\"modelid\":\"39555d61-805e-40fd-ae26-66cd118b52fb\",\"notebook_comms_target\":\"08bc39ba-7b82-46ad-abf1-3f23aa2d5a07\"}];\n",
       "\n",
       "    root.Bokeh.embed.embed_items(docs_json, render_items);\n",
       "  }\n",
       "\n",
       "  if (root.Bokeh !== undefined) {\n",
       "    embed_document(root);\n",
       "  } else {\n",
       "    var attempts = 0;\n",
       "    var timer = setInterval(function(root) {\n",
       "      if (root.Bokeh !== undefined) {\n",
       "        embed_document(root);\n",
       "        clearInterval(timer);\n",
       "      }\n",
       "      attempts++;\n",
       "      if (attempts > 100) {\n",
       "        console.log(\"Bokeh: ERROR: Unable to embed document because BokehJS library is missing\")\n",
       "        clearInterval(timer);\n",
       "      }\n",
       "    }, 10, root)\n",
       "  }\n",
       "})(window);"
      ],
      "application/vnd.bokehjs_exec.v0+json": ""
     },
     "metadata": {
      "application/vnd.bokehjs_exec.v0+json": {
       "id": "39555d61-805e-40fd-ae26-66cd118b52fb"
      }
     },
     "output_type": "display_data"
    },
    {
     "data": {
      "text/html": [
       "<p><code>&lt;Bokeh Notebook handle for <strong>In[10]</strong>&gt;</code></p>"
      ],
      "text/plain": [
       "<bokeh.io.notebook.CommsHandle at 0x7f3b7e19f080>"
      ]
     },
     "execution_count": 408,
     "metadata": {},
     "output_type": "execute_result"
    }
   ],
   "source": [
    "# Continuous colors\n",
    "from matplotlib.colors import rgb2hex \n",
    "cmap = plt.get_cmap('viridis')\n",
    "\n",
    "def to_red_green(val):\n",
    "    val = val * 100\n",
    "    red = 255 if val<50 else round(256 - (val-50)*5.12)\n",
    "    green = 255 if val>50 else round((val)*5.12)\n",
    "    return rgb2hex([red/255, green/255, 0])\n",
    "\n",
    "source = ColumnDataSource(\n",
    "    data={\n",
    "        \"x\": projections[0],\n",
    "        \"y\": projections[1],\n",
    "        \"name\": [x[1] for x in selected_movies],\n",
    "        \"color\": [to_red_green(x[2]) for x in selected_movies],\n",
    "        \"rtscore\": [x[2] for x in selected_movies]\n",
    "    })\n",
    "\n",
    "hover = HoverTool(\n",
    "    tooltips=[\n",
    "        (\"Name\", \"@name\"),\n",
    "        (\"RT Score\", \"@rtscore\")\n",
    "    ])\n",
    "tools = [hover, ResetTool(), PanTool(), WheelZoomTool(), SaveTool()]\n",
    "\n",
    "p = figure(plot_width=720, plot_height=480, tools=tools, title=\"Mouse over the dots\")\n",
    "p.circle(\"x\", \"y\", source=source, size=15, color=\"color\", alpha=0.8)\n",
    "show(p, notebook_handle=True)"
   ]
  },
  {
   "cell_type": "markdown",
   "metadata": {},
   "source": [
    "on the right are the top rated and well produced films, vs to the left there are films considered 'lame'. The lower half contains fast-paced films with action and cgi, while those to the top represent the ones more related to emotions (romance, drama type)"
   ]
  },
  {
   "cell_type": "code",
   "execution_count": 411,
   "metadata": {},
   "outputs": [
    {
     "data": {
      "text/html": [
       "\n",
       "<div class=\"bk-root\">\n",
       "    <div class=\"bk-plotdiv\" id=\"03c7db41-1f68-4362-848b-752829253485\"></div>\n",
       "</div>"
      ]
     },
     "metadata": {},
     "output_type": "display_data"
    },
    {
     "data": {
      "application/javascript": [
       "(function(root) {\n",
       "  function embed_document(root) {\n",
       "    var docs_json = {\"fa00f178-51bc-4aaa-9231-bda69e0c1322\":{\"roots\":{\"references\":[{\"attributes\":{\"active_drag\":\"auto\",\"active_inspect\":\"auto\",\"active_scroll\":\"auto\",\"active_tap\":\"auto\",\"tools\":[{\"id\":\"c2349144-fb44-42ef-b260-67816ea2598a\",\"type\":\"HoverTool\"},{\"id\":\"084e93dc-94af-4d77-aec6-1b301c949b52\",\"type\":\"ResetTool\"},{\"id\":\"df16bcab-a2f3-4ca5-87d9-3a52e16fef1d\",\"type\":\"PanTool\"},{\"id\":\"e9312723-0286-4f52-96e1-81a396ddf416\",\"type\":\"WheelZoomTool\"},{\"id\":\"208f987c-a26c-4a75-9a56-9264c3876eea\",\"type\":\"SaveTool\"}]},\"id\":\"6a0edfa1-8e0d-4467-bc74-81cae30037b9\",\"type\":\"Toolbar\"},{\"attributes\":{\"callback\":null},\"id\":\"1f14d031-51b1-4aef-a78e-4befdd0b34aa\",\"type\":\"DataRange1d\"},{\"attributes\":{},\"id\":\"16cbae1f-caee-4e0d-808a-352b42c874ac\",\"type\":\"LinearScale\"},{\"attributes\":{},\"id\":\"87def7db-c848-4ee2-8d22-c87296b562e7\",\"type\":\"LinearScale\"},{\"attributes\":{},\"id\":\"e9312723-0286-4f52-96e1-81a396ddf416\",\"type\":\"WheelZoomTool\"},{\"attributes\":{\"plot\":{\"id\":\"4e4a3345-7198-41fb-b39f-e94074579558\",\"subtype\":\"Figure\",\"type\":\"Plot\"},\"ticker\":{\"id\":\"d96a89de-a80d-47bf-ba34-83ec69af6636\",\"type\":\"BasicTicker\"}},\"id\":\"90fea984-7b58-496b-b5bb-3ed949a4b98a\",\"type\":\"Grid\"},{\"attributes\":{},\"id\":\"084e93dc-94af-4d77-aec6-1b301c949b52\",\"type\":\"ResetTool\"},{\"attributes\":{\"formatter\":{\"id\":\"b92c3f98-cfce-469f-ac48-6be3c869d682\",\"type\":\"BasicTickFormatter\"},\"plot\":{\"id\":\"4e4a3345-7198-41fb-b39f-e94074579558\",\"subtype\":\"Figure\",\"type\":\"Plot\"},\"ticker\":{\"id\":\"d96a89de-a80d-47bf-ba34-83ec69af6636\",\"type\":\"BasicTicker\"}},\"id\":\"5f153a96-13cd-4c02-b90b-aed995b2f0d1\",\"type\":\"LinearAxis\"},{\"attributes\":{},\"id\":\"d96a89de-a80d-47bf-ba34-83ec69af6636\",\"type\":\"BasicTicker\"},{\"attributes\":{\"formatter\":{\"id\":\"8d170f9d-0c34-45c6-81de-4f9012237183\",\"type\":\"BasicTickFormatter\"},\"plot\":{\"id\":\"4e4a3345-7198-41fb-b39f-e94074579558\",\"subtype\":\"Figure\",\"type\":\"Plot\"},\"ticker\":{\"id\":\"e6f43bf1-3258-4335-89f4-70c459b444e5\",\"type\":\"BasicTicker\"}},\"id\":\"6b64c05c-982b-4f44-8ff5-e48c56d93297\",\"type\":\"LinearAxis\"},{\"attributes\":{\"callback\":null,\"column_names\":[\"x\",\"y\",\"name\",\"color\",\"rtscore\"],\"data\":{\"color\":[\"#cdff00\",\"#38ff00\",\"#43ff00\",\"#2eff00\",\"#57ff00\",\"#1aff00\",\"#43ff00\",\"#ff4d00\",\"#ff4300\",\"#4dff00\",\"#71ff00\",\"#4dff00\",\"#29ff00\",\"#24ff00\",\"#24ff00\",\"#fff100\",\"#14ff00\",\"#6cff00\",\"#ff5700\",\"#3dff00\",\"#33ff00\",\"#ffae00\",\"#61ff00\",\"#00ff00\",\"#2eff00\",\"#8fff00\",\"#1aff00\",\"#66ff00\",\"#a4ff00\",\"#b8ff00\",\"#0aff00\",\"#fbff00\",\"#1aff00\",\"#a9ff00\",\"#57ff00\",\"#3dff00\",\"#cdff00\"],\"name\":[\"Independence Day (a.k.a. ID4) (1996)\",\"Spider-Man (2002)\",\"Matrix, The (1999)\",\"Shawshank Redemption, The (1994)\",\"American History X (1998)\",\"Wild Strawberries (Smultronst\\u00e4llet) (1957)\",\"Control (2007)\",\"Miss Congeniality 2: Armed and Fabulous (2005)\",\"Just My Luck (2006)\",\"Santa Sangre (1989)\",\"Videodrome (1983)\",\"Billy Elliot (2000)\",\"Pride (2014)\",\"Jurassic Park (1993)\",\"Star Wars: Episode IV - A New Hope (1977)\",\"Princess Diaries, The (2001)\",\"Schindler's List (1993)\",\"Fight Club (1999)\",\"New York Ripper, The (Squartatore di New York, Lo) (1982)\",\"American Beauty (1999)\",\"City of God (Cidade de Deus) (2002)\",\"Battleship (2012)\",\"Take Care of My Cat (Goyangileul butaghae) (2001)\",\"Terminator, The (1984)\",\"Edge of Tomorrow (2014)\",\"Forrest Gump (1994)\",\"King's Speech, The (2010)\",\"Life Is Beautiful (La Vita \\u00e8 bella) (1997)\",\"Stage Fright (Deliria) (1987)\",\"Ichi the Killer (Koroshiya 1) (2001)\",\"Brazil (1985)\",\"Fountain, The (2006)\",\"Accused, The (1988)\",\"Time to Kill, A (1996)\",\"Ghost Writer, The (2010)\",\"Superbad (2007)\",\"American Pie (1999)\"],\"rtscore\":[0.6,0.89,0.87,0.91,0.83,0.95,0.87,0.15,0.13,0.85,0.78,0.85,0.92,0.93,0.93,0.47,0.96,0.79,0.17,0.88,0.9,0.34,0.81,1.0,0.91,0.72,0.95,0.8,0.68,0.64,0.98,0.51,0.95,0.67,0.83,0.88,0.6],\"x\":[1.3477094296114247,1.1466536140168722,0.06540027614853622,2.3814906196633343,0.77001451353775,-0.0017043662969550358,0.3488672996291403,0.6901592800131933,0.7641943270843591,-3.2812904718010847,-3.1185996271340457,2.859494116987138,2.978701844788657,1.5916127462871823,1.6349595391363172,1.9258102245070887,3.070744328210314,-1.4503355943197804,-3.1462326874463815,0.43122931916473456,-0.07887585515552731,0.0873180906979656,-0.0749403651008384,0.014971042610038482,0.9285844528432695,4.081018115756555,3.738500634754204,3.370334187821202,-3.549848865951846,-3.20140193239014,-1.6343672919969685,-0.47627749310438094,0.7186698318789375,1.0522067589179573,-0.9114424251725385,0.1579003432773431,0.6119302215404241],\"y\":[2.228539981802336,1.3438247817924793,3.6017260400157887,1.3196544880177,-1.2099595247586468,2.612819866580775,1.2698813924967525,0.021155428956504324,-0.07620055199989051,1.9354402922732903,1.2677962119198622,0.6661979997640213,-0.3362450162940084,2.61119136015863,3.691589468229196,-0.09088626460267266,0.21364359883711379,1.011467390575038,-0.44244165917461653,0.8323023201991699,0.2689986987718691,2.1111077438318717,1.355488133594633,2.1608214731723017,2.3773161365518822,1.516339719216617,-0.041005161963273196,1.5325324997241527,0.058685932486364195,-0.06551610945064368,3.6645601105290617,4.274082500964733,-2.390825830516963,-1.9237821163122044,-1.1754826972464476,-0.6608958399634796,-0.9483018547443113]}},\"id\":\"b782585c-c5ae-4341-8b86-a94c4e1a0e6c\",\"type\":\"ColumnDataSource\"},{\"attributes\":{},\"id\":\"e6f43bf1-3258-4335-89f4-70c459b444e5\",\"type\":\"BasicTicker\"},{\"attributes\":{\"callback\":null,\"tooltips\":[[\"Name\",\"@name\"],[\"RT Score\",\"@rtscore\"]]},\"id\":\"c2349144-fb44-42ef-b260-67816ea2598a\",\"type\":\"HoverTool\"},{\"attributes\":{\"dimension\":1,\"plot\":{\"id\":\"4e4a3345-7198-41fb-b39f-e94074579558\",\"subtype\":\"Figure\",\"type\":\"Plot\"},\"ticker\":{\"id\":\"e6f43bf1-3258-4335-89f4-70c459b444e5\",\"type\":\"BasicTicker\"}},\"id\":\"3ad0748e-411a-4671-9184-b8ddbbf005bc\",\"type\":\"Grid\"},{\"attributes\":{},\"id\":\"df16bcab-a2f3-4ca5-87d9-3a52e16fef1d\",\"type\":\"PanTool\"},{\"attributes\":{\"data_source\":{\"id\":\"b782585c-c5ae-4341-8b86-a94c4e1a0e6c\",\"type\":\"ColumnDataSource\"},\"glyph\":{\"id\":\"9db8d357-486d-4d82-bbbc-07c0639a70a9\",\"type\":\"Circle\"},\"hover_glyph\":null,\"muted_glyph\":null,\"nonselection_glyph\":{\"id\":\"8c2246d0-2cb6-4195-b4d3-606a84848d4a\",\"type\":\"Circle\"},\"selection_glyph\":null,\"view\":{\"id\":\"ef291f7f-8b19-4ffb-a370-34e352ade795\",\"type\":\"CDSView\"}},\"id\":\"9589d6b6-0265-42d2-9877-a4b9c5e2474e\",\"type\":\"GlyphRenderer\"},{\"attributes\":{\"below\":[{\"id\":\"5f153a96-13cd-4c02-b90b-aed995b2f0d1\",\"type\":\"LinearAxis\"}],\"left\":[{\"id\":\"6b64c05c-982b-4f44-8ff5-e48c56d93297\",\"type\":\"LinearAxis\"}],\"plot_height\":480,\"plot_width\":720,\"renderers\":[{\"id\":\"5f153a96-13cd-4c02-b90b-aed995b2f0d1\",\"type\":\"LinearAxis\"},{\"id\":\"90fea984-7b58-496b-b5bb-3ed949a4b98a\",\"type\":\"Grid\"},{\"id\":\"6b64c05c-982b-4f44-8ff5-e48c56d93297\",\"type\":\"LinearAxis\"},{\"id\":\"3ad0748e-411a-4671-9184-b8ddbbf005bc\",\"type\":\"Grid\"},{\"id\":\"9589d6b6-0265-42d2-9877-a4b9c5e2474e\",\"type\":\"GlyphRenderer\"}],\"title\":{\"id\":\"de58f65f-f682-44c4-a18c-54db19c0db36\",\"type\":\"Title\"},\"toolbar\":{\"id\":\"6a0edfa1-8e0d-4467-bc74-81cae30037b9\",\"type\":\"Toolbar\"},\"x_range\":{\"id\":\"2b4462e6-d77e-4329-80f6-9f8a8e3b41e3\",\"type\":\"DataRange1d\"},\"x_scale\":{\"id\":\"16cbae1f-caee-4e0d-808a-352b42c874ac\",\"type\":\"LinearScale\"},\"y_range\":{\"id\":\"1f14d031-51b1-4aef-a78e-4befdd0b34aa\",\"type\":\"DataRange1d\"},\"y_scale\":{\"id\":\"87def7db-c848-4ee2-8d22-c87296b562e7\",\"type\":\"LinearScale\"}},\"id\":\"4e4a3345-7198-41fb-b39f-e94074579558\",\"subtype\":\"Figure\",\"type\":\"Plot\"},{\"attributes\":{\"fill_alpha\":{\"value\":0.1},\"fill_color\":{\"value\":\"#1f77b4\"},\"line_alpha\":{\"value\":0.1},\"line_color\":{\"value\":\"#1f77b4\"},\"size\":{\"units\":\"screen\",\"value\":15},\"x\":{\"field\":\"x\"},\"y\":{\"field\":\"y\"}},\"id\":\"8c2246d0-2cb6-4195-b4d3-606a84848d4a\",\"type\":\"Circle\"},{\"attributes\":{\"source\":{\"id\":\"b782585c-c5ae-4341-8b86-a94c4e1a0e6c\",\"type\":\"ColumnDataSource\"}},\"id\":\"ef291f7f-8b19-4ffb-a370-34e352ade795\",\"type\":\"CDSView\"},{\"attributes\":{},\"id\":\"208f987c-a26c-4a75-9a56-9264c3876eea\",\"type\":\"SaveTool\"},{\"attributes\":{},\"id\":\"b92c3f98-cfce-469f-ac48-6be3c869d682\",\"type\":\"BasicTickFormatter\"},{\"attributes\":{\"plot\":null,\"text\":\"Mouse over the dots\"},\"id\":\"de58f65f-f682-44c4-a18c-54db19c0db36\",\"type\":\"Title\"},{\"attributes\":{},\"id\":\"8d170f9d-0c34-45c6-81de-4f9012237183\",\"type\":\"BasicTickFormatter\"},{\"attributes\":{\"callback\":null},\"id\":\"2b4462e6-d77e-4329-80f6-9f8a8e3b41e3\",\"type\":\"DataRange1d\"},{\"attributes\":{\"fill_alpha\":{\"value\":0.8},\"fill_color\":{\"field\":\"color\"},\"line_alpha\":{\"value\":0.8},\"line_color\":{\"field\":\"color\"},\"size\":{\"units\":\"screen\",\"value\":15},\"x\":{\"field\":\"x\"},\"y\":{\"field\":\"y\"}},\"id\":\"9db8d357-486d-4d82-bbbc-07c0639a70a9\",\"type\":\"Circle\"}],\"root_ids\":[\"4e4a3345-7198-41fb-b39f-e94074579558\"]},\"title\":\"Bokeh Application\",\"version\":\"0.12.10\"}};\n",
       "    var render_items = [{\"docid\":\"fa00f178-51bc-4aaa-9231-bda69e0c1322\",\"elementid\":\"03c7db41-1f68-4362-848b-752829253485\",\"modelid\":\"4e4a3345-7198-41fb-b39f-e94074579558\",\"notebook_comms_target\":\"66c223e3-e554-4d9b-9780-53b5457d22b4\"}];\n",
       "\n",
       "    root.Bokeh.embed.embed_items(docs_json, render_items);\n",
       "  }\n",
       "\n",
       "  if (root.Bokeh !== undefined) {\n",
       "    embed_document(root);\n",
       "  } else {\n",
       "    var attempts = 0;\n",
       "    var timer = setInterval(function(root) {\n",
       "      if (root.Bokeh !== undefined) {\n",
       "        embed_document(root);\n",
       "        clearInterval(timer);\n",
       "      }\n",
       "      attempts++;\n",
       "      if (attempts > 100) {\n",
       "        console.log(\"Bokeh: ERROR: Unable to embed document because BokehJS library is missing\")\n",
       "        clearInterval(timer);\n",
       "      }\n",
       "    }, 10, root)\n",
       "  }\n",
       "})(window);"
      ],
      "application/vnd.bokehjs_exec.v0+json": ""
     },
     "metadata": {
      "application/vnd.bokehjs_exec.v0+json": {
       "id": "4e4a3345-7198-41fb-b39f-e94074579558"
      }
     },
     "output_type": "display_data"
    },
    {
     "data": {
      "text/html": [
       "<p><code>&lt;Bokeh Notebook handle for <strong>In[10]</strong>&gt;</code></p>"
      ],
      "text/plain": [
       "<bokeh.io.notebook.CommsHandle at 0x7f3b7e154780>"
      ]
     },
     "execution_count": 411,
     "metadata": {},
     "output_type": "execute_result"
    }
   ],
   "source": [
    "# Continuous colors\n",
    "from matplotlib.colors import rgb2hex \n",
    "cmap = plt.get_cmap('viridis')\n",
    "\n",
    "def to_red_green(val):\n",
    "    val = val * 100\n",
    "    red = 255 if val<50 else round(256 - (val-50)*5.12)\n",
    "    green = 255 if val>50 else round((val)*5.12)\n",
    "    return rgb2hex([red/255, green/255, 0])\n",
    "\n",
    "source = ColumnDataSource(\n",
    "    data={\n",
    "        \"x\": projections[2],\n",
    "        \"y\": projections[3],\n",
    "        \"name\": [x[1] for x in selected_movies],\n",
    "        \"color\": [to_red_green(x[2]) for x in selected_movies],\n",
    "        \"rtscore\": [x[2] for x in selected_movies]\n",
    "    })\n",
    "\n",
    "hover = HoverTool(\n",
    "    tooltips=[\n",
    "        (\"Name\", \"@name\"),\n",
    "        (\"RT Score\", \"@rtscore\")\n",
    "    ])\n",
    "tools = [hover, ResetTool(), PanTool(), WheelZoomTool(), SaveTool()]\n",
    "\n",
    "p = figure(plot_width=720, plot_height=480, tools=tools, title=\"Mouse over the dots\")\n",
    "p.circle(\"x\", \"y\", source=source, size=15, color=\"color\", alpha=0.8)\n",
    "show(p, notebook_handle=True)"
   ]
  }
 ],
 "metadata": {
  "anaconda-cloud": {},
  "kernelspec": {
   "display_name": "Python 3",
   "language": "python",
   "name": "python3"
  },
  "language_info": {
   "codemirror_mode": {
    "name": "ipython",
    "version": 3
   },
   "file_extension": ".py",
   "mimetype": "text/x-python",
   "name": "python",
   "nbconvert_exporter": "python",
   "pygments_lexer": "ipython3",
   "version": "3.6.3"
  }
 },
 "nbformat": 4,
 "nbformat_minor": 1
}
