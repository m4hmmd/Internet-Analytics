{
 "cells": [
  {
   "cell_type": "markdown",
   "metadata": {},
   "source": [
    "# Networks: structure, evolution & processes\n",
    "**Internet Analytics - Lab 2**\n",
    "\n",
    "---\n",
    "\n",
    "**Group:** *B*\n",
    "\n",
    "**Names:**\n",
    "\n",
    "* *Keijiro Tajima*\n",
    "* *Mahammad Shirinov*\n",
    "* *Stephen Zhao*\n",
    "\n",
    "---\n",
    "\n",
    "#### Instructions\n",
    "\n",
    "*This is a template for part 2 of the lab. Clearly write your answers, comments and interpretations in Markodown cells. Don't forget that you can add $\\LaTeX$ equations in these cells. Feel free to add or remove any cell.*\n",
    "\n",
    "*Please properly comment your code. Code readability will be considered for grading. To avoid long cells of codes in the notebook, you can also embed long python functions and classes in a separate module. Don’t forget to hand in your module if that is the case. In multiple exercises, you are required to come up with your own method to solve various problems. Be creative and clearly motivate and explain your methods. Creativity and clarity will be considered for grading.*"
   ]
  },
  {
   "cell_type": "markdown",
   "metadata": {},
   "source": [
    "---\n",
    "\n",
    "## 2.2 Network sampling\n",
    "\n",
    "#### Exercise 2.7: Random walk on the Facebook network"
   ]
  },
  {
   "cell_type": "code",
   "execution_count": 1,
   "metadata": {
    "collapsed": true
   },
   "outputs": [],
   "source": [
    "import requests\n",
    "import random\n",
    "# Base url of the API\n",
    "URL_TEMPLATE = 'http://iccluster040.iccluster.epfl.ch:5050/v1.0/facebook?user={user_id}'\n",
    "node_0 = \"f30ff3966f16ed62f5165a229a19b319\"\n",
    "\n",
    "def sample_age (s, N):\n",
    "    age_sum = 0\n",
    "    age_sum_weighted = 0\n",
    "    sum_of_weights = 0\n",
    "    current_node_id = s\n",
    "    for i in range(N):\n",
    "        # The actual url to call \n",
    "        url = URL_TEMPLATE.format(user_id=current_node_id)\n",
    "        # Execute the HTTP Get request\n",
    "        response = requests.get(url)\n",
    "        # Format the json response as a Python dict\n",
    "        data = response.json()\n",
    "        age_sum += data['age']\n",
    "        \n",
    "        # For Exercise 2.8: weight the age by the inverse of degree of the node\n",
    "        age_sum_weighted += data['age']/len(data['friends'])\n",
    "        sum_of_weights += 1/len(data['friends'])\n",
    "        \n",
    "        # next jump\n",
    "        current_node_id = random.choice(data['friends'])\n",
    "        \n",
    "    avg = age_sum/N\n",
    "    avg_weighted = age_sum_weighted/sum_of_weights\n",
    "    \n",
    "    return avg, avg_weighted"
   ]
  },
  {
   "cell_type": "markdown",
   "metadata": {},
   "source": [
    "###### Random Walker on Facebook"
   ]
  },
  {
   "cell_type": "markdown",
   "metadata": {},
   "source": [
    "We visited 2000 nodes for the following estimation, which gives results mostly in the range [21, 24]."
   ]
  },
  {
   "cell_type": "code",
   "execution_count": 2,
   "metadata": {},
   "outputs": [
    {
     "name": "stdout",
     "output_type": "stream",
     "text": [
      "Average age over 2000 users: 23.2355\n"
     ]
    }
   ],
   "source": [
    "number_of_users = 2000\n",
    "print(\"Average age over {} users:\".format(number_of_users), sample_age(node_0, number_of_users)[0])"
   ]
  },
  {
   "cell_type": "markdown",
   "metadata": {},
   "source": [
    "#### Exercise 2.8"
   ]
  },
  {
   "cell_type": "markdown",
   "metadata": {},
   "source": [
    "The above estimation was a far cry from the real average age of Facebook users. In particular, the average estimate is between 21 and 24; this partly stems from a bias of the random walk in this particular graph toward younger users. Since younger people have more friends compared to old people, and those friends are also young on average, a random walk tends to spend most of its time on nodes corresponding to young users.\n",
    "To diminish this effect and get a better estimate, we try to control how much a person's age contributes to the average. We do this by weighing a node's age by the inverse of its degree. This might look as if 'unpopular people matter more in the average', but in reality, since we're not taking the real average across all the nodes and only sampling it using a random walk, this evens out the random walk's amplification of popular nodes' age values."
   ]
  },
  {
   "cell_type": "markdown",
   "metadata": {},
   "source": [
    "*Note that the code to compute the weighted average was included in the sample_age function definition above*"
   ]
  },
  {
   "cell_type": "code",
   "execution_count": 3,
   "metadata": {},
   "outputs": [
    {
     "name": "stdout",
     "output_type": "stream",
     "text": [
      "Average age over 2000 users: 43.8934139594184\n"
     ]
    }
   ],
   "source": [
    "number_of_users = 2000\n",
    "print(\"Average age over {} users:\".format(number_of_users), sample_age(node_0, number_of_users)[1])"
   ]
  },
  {
   "cell_type": "markdown",
   "metadata": {},
   "source": [
    "Indeed, we do get more realistic results now. Next, we plot the results over time."
   ]
  },
  {
   "cell_type": "code",
   "execution_count": 4,
   "metadata": {
    "collapsed": true
   },
   "outputs": [],
   "source": [
    "import matplotlib.pyplot as plt\n",
    "import math"
   ]
  },
  {
   "cell_type": "code",
   "execution_count": 5,
   "metadata": {
    "collapsed": true
   },
   "outputs": [],
   "source": [
    "# Compute averages over samples of size [3^1..3^8]\n",
    "n = 1\n",
    "sample_age_sample = {}\n",
    "sample_age_sample_weighted = {}\n",
    "for i in range(8):\n",
    "    n *= 3\n",
    "    sample_age_sample[n], sample_age_sample_weighted[n] = sample_age(node_0, n)"
   ]
  },
  {
   "cell_type": "code",
   "execution_count": 6,
   "metadata": {},
   "outputs": [
    {
     "data": {
      "image/png": "[encoded data removed]",
      "text/plain": [
       "<matplotlib.figure.Figure at 0x7f9340f59780>"
      ]
     },
     "metadata": {},
     "output_type": "display_data"
    }
   ],
   "source": [
    "x = [1, 2, 3, 4, 5, 6, 7, 8]\n",
    "plt.plot(x, sample_age_sample.values())\n",
    "plt.plot(x, sample_age_sample_weighted.values())\n",
    "plt.xlabel('sample size = 3^n')\n",
    "plt.ylabel('average age')\n",
    "plt.show()"
   ]
  }
 ],
 "metadata": {
  "kernelspec": {
   "display_name": "Python 3",
   "language": "python",
   "name": "python3"
  },
  "language_info": {
   "codemirror_mode": {
    "name": "ipython",
    "version": 3
   },
   "file_extension": ".py",
   "mimetype": "text/x-python",
   "name": "python",
   "nbconvert_exporter": "python",
   "pygments_lexer": "ipython3",
   "version": "3.6.3"
  }
 },
 "nbformat": 4,
 "nbformat_minor": 2
}
