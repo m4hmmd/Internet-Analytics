{
 "cells": [
  {
   "cell_type": "markdown",
   "metadata": {},
   "source": [
    "# Lab 1 - Python \n",
    "\n",
    "\n",
    "According to Wikipedia, [Python] is a widely used interpreted, high-level programming language used for general-purpose programming. It has a design philosophy which emphasizes code readability (notably using whitespace indentation to delimit code blocks rather than curly braces or keywords), and a syntax which allows programmers to express concepts in fewer lines of code than possible in languages such as C++ or Java. \n",
    "\n",
    "Let us first look at the characteristics of the language:\n",
    "\n",
    "-   **General purpose**: not built for a particular usage, it works as well for scientific computing as for web and application development. It features high-level data structures and supports multiple paradigms: procedural, object-oriented and functional.\n",
    "\n",
    "-   **Elegant syntax**: easy-to-read and intuitive code, easy-to-learn minimalistic syntax, quick to write (low boilerplate / verbosity), maintainability scales well with size of projects.\n",
    "\n",
    "-   **Expressive language**: fewer lines of code, fewer bugs, easier to maintain.\n",
    "\n",
    "Some technical details:\n",
    "\n",
    "-   **Dynamically typed**: no need to define the type of variables, function arguments or return types.\n",
    "\n",
    "-   **Automatic memory management** (garbage collector): no need to explicitly allocate and deallocate memory for variables and data arrays. No memory leak bugs.\n",
    "\n",
    "-   **Interpreted**: No need to compile the code. The Python interpreter reads and executes the python code directly. It also means that a single Python source runs anywhere a runtime is available, like on Windows, Mac, Linux and in the Cloud.\n",
    "\n",
    "A couple of advantages:\n",
    "\n",
    "-   **Ease of programming**: it is very intuitive to write Python code, minimizing the time required to develop, debug and maintain the code.\n",
    "\n",
    "-   **Well-designed language**: it encourages many good programming practices, such as modularity, object-oriented programmed, good system for packaging, large open-source community, integrated documentation, among many ofthers.\n",
    "\n",
    "And some disadvantages:\n",
    "\n",
    "-   **Two versions**: there are two versions of Python in general use: 2 and 3. While Python 3 is now well adopted, some libraries or legacy code still only support Python 2 leading sometimes to incompatibility. In this class, we will use Python 3.5.\n",
    "\n",
    "-   **Slow execution**: due to its interpreted and dynamic nature, the execution of Python code can be slow compared to compiled statically typed programming languages, such as C and Fortran.\n",
    "\n",
    "-   **No compiler**: there is no compiler to catch your errors. Solutions include unit / integration tests or the use of a [linter] such as [pyflakes], [Pylint] or [PyChecker]. [Flake8] combines static analysis with style checking.\n",
    "\n",
    "  [Python]: https://en.wikipedia.org/wiki/Python_(programming_language)\n",
    "  [linter]: https://en.wikipedia.org/wiki/Lint_%28software%29\n",
    "  [pyflakes]: https://pypi.python.org/pypi/pyflakes\n",
    "  [Pylint]: https://www.pylint.org\n",
    "  [PyChecker]: http://pychecker.sourceforge.net\n",
    "  [Flake8]: https://pypi.python.org/pypi/flake8\n",
    "  \n",
    "Finally, a general tip: Python is really easy to read, and libraries always provide in-code as well as on-line documentation that you should read. \"[*Read the doc*](https://docs.python.org/3.5/)\" should be your moto when coding in Python.\n",
    "\n",
    "Now, let us start playing around!\n"
   ]
  },
  {
   "cell_type": "markdown",
   "metadata": {},
   "source": [
    "## Indentation\n",
    "\n",
    "The very first thing to know is that Python is an **indent-based** language meaning that blocks are delimited by the indentation of the code (and not by the curly brackets `{}`, as it is the case in Java or C++ for instance). \n",
    "\n",
    "You can run the following cell by focusing it (e.g., click on the cell) and doing `CTRL-Enter` (to leave the focus on the cell) or `SHIFT-Enter` (to focus the next cell). You should get and error. Try to fix it!"
   ]
  },
  {
   "cell_type": "code",
   "execution_count": null,
   "metadata": {},
   "outputs": [],
   "source": [
    "a = 1\n",
    "    b = 2\n",
    "a + b"
   ]
  },
  {
   "cell_type": "markdown",
   "metadata": {},
   "source": [
    "## Variables\n",
    "\n",
    "Variables are easily set. No need to specify any type. For instance, fill the following cell with your name and your sciper number:"
   ]
  },
  {
   "cell_type": "code",
   "execution_count": null,
   "metadata": {
    "collapsed": true
   },
   "outputs": [],
   "source": [
    "my_name = \"YOURNAME\"\n",
    "my_sciper = 123456"
   ]
  },
  {
   "cell_type": "markdown",
   "metadata": {
    "collapsed": true
   },
   "source": [
    "## Weak Typing\n",
    "\n",
    "Python is a weakly typed programming language. If you are used to Java, you know that you have to specify the type of your variables. In Python, you do not need to do that, and types can be mixed. For instance here we can store fruits (`str`), numbers (`float` and `int`) and students in a `list`:\n"
   ]
  },
  {
   "cell_type": "code",
   "execution_count": null,
   "metadata": {},
   "outputs": [],
   "source": [
    "fruits_and_numbers = [\"Apple\", 3.141593, \"Cherry\", 4]"
   ]
  },
  {
   "cell_type": "markdown",
   "metadata": {},
   "source": [
    "You can easily `append` elements to the list. Append your sciper to the list."
   ]
  },
  {
   "cell_type": "code",
   "execution_count": null,
   "metadata": {},
   "outputs": [],
   "source": [
    "fruits_and_numbers.append(my_name)\n",
    "fruits_and_numbers.COMPLETE"
   ]
  },
  {
   "cell_type": "markdown",
   "metadata": {},
   "source": [
    "You can learn more about [built-in types](https://docs.python.org/3.5/library/stdtypes.html)."
   ]
  },
  {
   "cell_type": "markdown",
   "metadata": {},
   "source": [
    "## For\n",
    "\n",
    "You can go through a `list` using `for` loops. Remember that they behave like `foreach` by default. In this cell, we use the `print` [built-in function](https://docs.python.org/3.5/library/functions.html)."
   ]
  },
  {
   "cell_type": "code",
   "execution_count": null,
   "metadata": {},
   "outputs": [],
   "source": [
    "for item in fruits_and_numbers:\n",
    "    print(item)"
   ]
  },
  {
   "cell_type": "markdown",
   "metadata": {},
   "source": [
    "## If\n",
    "\n",
    "An `if` statement is also pretty straight forward. The `elif` and `else` statements are optional."
   ]
  },
  {
   "cell_type": "code",
   "execution_count": null,
   "metadata": {},
   "outputs": [],
   "source": [
    "for item in fruits_and_numbers:\n",
    "    if type(item) is int and item == my_sciper:\n",
    "        print(item, \"is your sciper number\")\n",
    "    elif type(item) is int:\n",
    "        print(item, \"is an integer\")\n",
    "    elif type(item) is float:\n",
    "        print(item, \"is a float\")\n",
    "    else:\n",
    "        print(item, \"might be a string\")"
   ]
  },
  {
   "cell_type": "markdown",
   "metadata": {},
   "source": [
    "### Functions\n",
    "\n",
    "As many modern language, Python allows to define functions that can be called later in your code. A function is denoted by the `def` keyword. It can take *positional* (or *required*) arguments as well as *keyword* (or *optional*) arguments. Keyword arguments are optional and a default value is given in the function definition. "
   ]
  },
  {
   "cell_type": "code",
   "execution_count": null,
   "metadata": {},
   "outputs": [],
   "source": [
    "def shout(sentence, louder=False):\n",
    "    if not louder:\n",
    "        print(sentence.upper())\n",
    "    else:\n",
    "        print(sentence.upper() + \"!!!\")"
   ]
  },
  {
   "cell_type": "markdown",
   "metadata": {},
   "source": [
    "The following three lines are equivalent:"
   ]
  },
  {
   "cell_type": "code",
   "execution_count": null,
   "metadata": {},
   "outputs": [],
   "source": [
    "shout(\"you shall not pass\")\n",
    "shout(\"fly you fools\", louder=False)\n",
    "shout(sentence=\"my precious\", louder=False)"
   ]
  },
  {
   "cell_type": "markdown",
   "metadata": {},
   "source": [
    "Try to shout your name `louder`."
   ]
  },
  {
   "cell_type": "code",
   "execution_count": null,
   "metadata": {},
   "outputs": [],
   "source": [
    "shout(FILL HERE)"
   ]
  },
  {
   "cell_type": "markdown",
   "metadata": {},
   "source": [
    "## Import\n",
    "\n",
    "[Modules](https://docs.python.org/3/tutorial/modules.html) in Python are files where variables, functions and classes are defined. They can then be imported in other modules (or scripts). Python comes with a [standard library](https://docs.python.org/3.5/library/) containing a lot of useful modules that you are likely to make use of. For instance, we use here the `listdir()` function from the [operating system](https://docs.python.org/3.5/library/os.html) library."
   ]
  },
  {
   "cell_type": "code",
   "execution_count": null,
   "metadata": {},
   "outputs": [],
   "source": [
    "import os\n",
    "\n",
    "os.listdir()"
   ]
  },
  {
   "cell_type": "markdown",
   "metadata": {},
   "source": [
    "You can also define your own modules, and import them in other files or notebooks. This is very useful if you want to modularize your code for clarity, efficiency, readability and bug-proof code. For instance here, we have a file named `internet_analytics.py` in the `notebooks/modules` folder (check it!) which contains some functions (`describe()` in this case)."
   ]
  },
  {
   "cell_type": "code",
   "execution_count": null,
   "metadata": {},
   "outputs": [],
   "source": [
    "from modules import internet_analytics\n",
    "\n",
    "internet_analytics.describe()"
   ]
  },
  {
   "cell_type": "markdown",
   "metadata": {},
   "source": [
    "You can import the whole module or just part of it, such as one function of interest."
   ]
  },
  {
   "cell_type": "code",
   "execution_count": null,
   "metadata": {},
   "outputs": [],
   "source": [
    "from modules.internet_analytics import solution_to_final_exam\n",
    "\n",
    "solution_to_final_exam()"
   ]
  },
  {
   "cell_type": "markdown",
   "metadata": {},
   "source": [
    "## Going Further\n",
    "\n",
    "You now have a brief overview of Python. For a more complete introduction, you should take a look at [the Python tutorial](https://docs.python.org/3/tutorial/index.html). Here is an overview of this document:\n",
    "\n",
    "* Skim through Sections 1-3 to get an idea of the Python syntax if you never used it\n",
    "* Pay a little more attention to Section 4, especially\n",
    "\t* Section 4.2 on `for` loops, as they behave like `foreach` by default, which may be disturbing if you are more acoutumed to coding in lower level languages.\n",
    "\t* Section 4.7 on functions, default argument values and named arguments, as they are a real pleasure to use (compared to traditional, order-based arguments) once you are used to it.\n",
    "* Section 5 on Data Structures, especially how to use `list`s, `dictionary`s and `tuple`s if you have not used a language with those concepts before.\n",
    "* You can keep Sections 6-9 on `module`s, `IO`, `Exception`s and `Object`s for later - when you know you will be needing it.\n",
    "* Section 10 on the standard library and [the standard library index](https://docs.python.org/3/library/index.html) are worth a quick scroll to see what's available.\n",
    "* Do not bother with Sections 11-16 for now.\n",
    "\n",
    "Some additional ressources can be found here:\n",
    "\n",
    "* Some exercises: http://www.learnpython.org/\n",
    "* More exercises: https://learnpythonthehardway.org/book/index.html \n",
    "* A Python tour of Data Science (a source of inspiration for this lab): https://github.com/mdeff/python_tour_of_data_science"
   ]
  }
 ],
 "metadata": {
  "kernelspec": {
   "display_name": "Python 3",
   "language": "python",
   "name": "python3"
  },
  "language_info": {
   "codemirror_mode": {
    "name": "ipython",
    "version": 3
   },
   "file_extension": ".py",
   "mimetype": "text/x-python",
   "name": "python",
   "nbconvert_exporter": "python",
   "pygments_lexer": "ipython3",
   "version": "3.6.3"
  }
 },
 "nbformat": 4,
 "nbformat_minor": 2
}
