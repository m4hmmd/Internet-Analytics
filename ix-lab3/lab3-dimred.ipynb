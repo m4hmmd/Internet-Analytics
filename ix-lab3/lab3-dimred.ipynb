{
 "cells": [
  {
   "cell_type": "markdown",
   "metadata": {},
   "source": [
    "# Lab 3 — dimensionality reduction"
   ]
  },
  {
   "cell_type": "code",
   "execution_count": 2,
   "metadata": {
    "collapsed": true
   },
   "outputs": [],
   "source": [
    "import json\n",
    "import matplotlib.pyplot as plt\n",
    "import numpy as np\n",
    "from pyspark.mllib.linalg.distributed import RowMatrix\n",
    "from operator import itemgetter\n",
    "import pickle\n",
    "\n",
    "%matplotlib inline\n",
    "plt.style.use(\"ggplot\")"
   ]
  },
  {
   "cell_type": "code",
   "execution_count": 3,
   "metadata": {},
   "outputs": [
    {
     "name": "stdout",
     "output_type": "stream",
     "text": [
      "{\"tagId\": 1127, \"tag\": \"zombie\"}\r\n",
      "{\"tagId\": 1128, \"tag\": \"zombies\"}\r\n"
     ]
    }
   ],
   "source": [
    "!hdfs dfs -cat /ix/ml-20m/genome-tags.txt | tail -n 2"
   ]
  },
  {
   "cell_type": "code",
   "execution_count": 4,
   "metadata": {},
   "outputs": [
    {
     "name": "stdout",
     "output_type": "stream",
     "text": [
      "{\"genres\": [\"(no genres listed)\"], \"movieId\": 131260, \"title\": \"Rentun Ruusu (2001)\"}\r\n",
      "{\"genres\": [\"Adventure\", \"Fantasy\", \"Horror\"], \"movieId\": 131262, \"title\": \"Innocence (2014)\"}\r\n"
     ]
    }
   ],
   "source": [
    "!hdfs dfs -cat /ix/ml-20m/movies.txt | tail -n 2"
   ]
  },
  {
   "cell_type": "code",
   "execution_count": 5,
   "metadata": {
    "collapsed": true
   },
   "outputs": [],
   "source": [
    "data = sc.textFile(\"/ix/ml-20m/genome-tags.txt\").map(json.loads)\n",
    "tag2name = dict(data.map(itemgetter(\"tagId\", \"tag\")).collect())"
   ]
  },
  {
   "cell_type": "markdown",
   "metadata": {},
   "source": [
    "### Playing with data"
   ]
  },
  {
   "cell_type": "code",
   "execution_count": 6,
   "metadata": {},
   "outputs": [
    {
     "data": {
      "text/plain": [
       "[{'tag': '007', 'tagId': 1},\n",
       " {'tag': '007 (series)', 'tagId': 2},\n",
       " {'tag': '18th century', 'tagId': 3},\n",
       " {'tag': '1920s', 'tagId': 4},\n",
       " {'tag': '1930s', 'tagId': 5},\n",
       " {'tag': '1950s', 'tagId': 6},\n",
       " {'tag': '1960s', 'tagId': 7},\n",
       " {'tag': '1970s', 'tagId': 8},\n",
       " {'tag': '1980s', 'tagId': 9},\n",
       " {'tag': '19th century', 'tagId': 10}]"
      ]
     },
     "execution_count": 6,
     "metadata": {},
     "output_type": "execute_result"
    }
   ],
   "source": [
    "data.take(10)"
   ]
  },
  {
   "cell_type": "code",
   "execution_count": 6,
   "metadata": {
    "collapsed": true
   },
   "outputs": [],
   "source": [
    "movies = sc.textFile(\"/ix/ml-20m/movies.txt\").map(json.loads)"
   ]
  },
  {
   "cell_type": "code",
   "execution_count": 7,
   "metadata": {},
   "outputs": [
    {
     "data": {
      "text/plain": [
       "[{'genres': ['Adventure', 'Animation', 'Children', 'Comedy', 'Fantasy'],\n",
       "  'movieId': 1,\n",
       "  'title': 'Toy Story (1995)'},\n",
       " {'genres': ['Adventure', 'Children', 'Fantasy'],\n",
       "  'movieId': 2,\n",
       "  'title': 'Jumanji (1995)'},\n",
       " {'genres': ['Comedy', 'Romance'],\n",
       "  'movieId': 3,\n",
       "  'title': 'Grumpier Old Men (1995)'},\n",
       " {'genres': ['Comedy', 'Drama', 'Romance'],\n",
       "  'movieId': 4,\n",
       "  'title': 'Waiting to Exhale (1995)'},\n",
       " {'genres': ['Comedy'],\n",
       "  'movieId': 5,\n",
       "  'title': 'Father of the Bride Part II (1995)'},\n",
       " {'genres': ['Action', 'Crime', 'Thriller'],\n",
       "  'movieId': 6,\n",
       "  'title': 'Heat (1995)'},\n",
       " {'genres': ['Comedy', 'Romance'], 'movieId': 7, 'title': 'Sabrina (1995)'},\n",
       " {'genres': ['Adventure', 'Children'],\n",
       "  'movieId': 8,\n",
       "  'title': 'Tom and Huck (1995)'},\n",
       " {'genres': ['Action'], 'movieId': 9, 'title': 'Sudden Death (1995)'},\n",
       " {'genres': ['Action', 'Adventure', 'Thriller'],\n",
       "  'movieId': 10,\n",
       "  'title': 'GoldenEye (1995)'}]"
      ]
     },
     "execution_count": 7,
     "metadata": {},
     "output_type": "execute_result"
    }
   ],
   "source": [
    "movies.take(10)"
   ]
  },
  {
   "cell_type": "code",
   "execution_count": 8,
   "metadata": {},
   "outputs": [
    {
     "data": {
      "text/plain": [
       "27278"
      ]
     },
     "execution_count": 8,
     "metadata": {},
     "output_type": "execute_result"
    }
   ],
   "source": [
    "movies.count()"
   ]
  },
  {
   "cell_type": "code",
   "execution_count": 9,
   "metadata": {
    "collapsed": true
   },
   "outputs": [],
   "source": [
    "genres_count = movies.flatMap(lambda x: x['genres'])"
   ]
  },
  {
   "cell_type": "code",
   "execution_count": 10,
   "metadata": {
    "collapsed": true
   },
   "outputs": [],
   "source": [
    "genres_count = genres_count.distinct()"
   ]
  },
  {
   "cell_type": "code",
   "execution_count": 11,
   "metadata": {},
   "outputs": [
    {
     "data": {
      "text/plain": [
       "['Children',\n",
       " 'Fantasy',\n",
       " 'Romance',\n",
       " 'Drama',\n",
       " 'Action',\n",
       " 'Thriller',\n",
       " 'Horror',\n",
       " 'Sci-Fi',\n",
       " 'IMAX',\n",
       " 'Documentary']"
      ]
     },
     "execution_count": 11,
     "metadata": {},
     "output_type": "execute_result"
    }
   ],
   "source": [
    "genres_count.take(10)"
   ]
  },
  {
   "cell_type": "code",
   "execution_count": 12,
   "metadata": {},
   "outputs": [
    {
     "data": {
      "text/plain": [
       "20"
      ]
     },
     "execution_count": 12,
     "metadata": {},
     "output_type": "execute_result"
    }
   ],
   "source": [
    "genres_count.count()"
   ]
  },
  {
   "cell_type": "code",
   "execution_count": 13,
   "metadata": {},
   "outputs": [
    {
     "name": "stdout",
     "output_type": "stream",
     "text": [
      "1128\n"
     ]
    }
   ],
   "source": [
    "number_of_tags = data.count()\n",
    "print(number_of_tags)"
   ]
  },
  {
   "cell_type": "code",
   "execution_count": 14,
   "metadata": {},
   "outputs": [
    {
     "data": {
      "text/plain": [
       "[{'tag': '007', 'tagId': 1},\n",
       " {'tag': '007 (series)', 'tagId': 2},\n",
       " {'tag': '18th century', 'tagId': 3},\n",
       " {'tag': '1920s', 'tagId': 4},\n",
       " {'tag': '1930s', 'tagId': 5},\n",
       " {'tag': '1950s', 'tagId': 6},\n",
       " {'tag': '1960s', 'tagId': 7},\n",
       " {'tag': '1970s', 'tagId': 8},\n",
       " {'tag': '1980s', 'tagId': 9},\n",
       " {'tag': '19th century', 'tagId': 10},\n",
       " {'tag': '3d', 'tagId': 11},\n",
       " {'tag': '70mm', 'tagId': 12},\n",
       " {'tag': '80s', 'tagId': 13},\n",
       " {'tag': '9/11', 'tagId': 14},\n",
       " {'tag': 'aardman', 'tagId': 15},\n",
       " {'tag': 'aardman studios', 'tagId': 16},\n",
       " {'tag': 'abortion', 'tagId': 17},\n",
       " {'tag': 'absurd', 'tagId': 18},\n",
       " {'tag': 'action', 'tagId': 19},\n",
       " {'tag': 'action packed', 'tagId': 20}]"
      ]
     },
     "execution_count": 14,
     "metadata": {},
     "output_type": "execute_result"
    }
   ],
   "source": [
    "data.take(20)"
   ]
  },
  {
   "cell_type": "code",
   "execution_count": 312,
   "metadata": {},
   "outputs": [
    {
     "data": {
      "text/plain": [
       "'007'"
      ]
     },
     "execution_count": 312,
     "metadata": {},
     "output_type": "execute_result"
    }
   ],
   "source": [
    "tag2name[1]"
   ]
  },
  {
   "cell_type": "code",
   "execution_count": 7,
   "metadata": {
    "collapsed": true
   },
   "outputs": [],
   "source": [
    "tag_scores = sc.textFile(\"/ix/ml-20m/genome-scores.txt\").map(json.loads)"
   ]
  },
  {
   "cell_type": "code",
   "execution_count": 17,
   "metadata": {},
   "outputs": [
    {
     "data": {
      "text/plain": [
       "[{'movieId': 1, 'relevance': 0.025000000000000022, 'tagId': 1},\n",
       " {'movieId': 1, 'relevance': 0.025000000000000022, 'tagId': 2},\n",
       " {'movieId': 1, 'relevance': 0.057750000000000024, 'tagId': 3},\n",
       " {'movieId': 1, 'relevance': 0.09675, 'tagId': 4},\n",
       " {'movieId': 1, 'relevance': 0.14675, 'tagId': 5},\n",
       " {'movieId': 1, 'relevance': 0.21700000000000003, 'tagId': 6},\n",
       " {'movieId': 1, 'relevance': 0.067, 'tagId': 7},\n",
       " {'movieId': 1, 'relevance': 0.26275000000000004, 'tagId': 8},\n",
       " {'movieId': 1, 'relevance': 0.262, 'tagId': 9},\n",
       " {'movieId': 1, 'relevance': 0.03199999999999997, 'tagId': 10}]"
      ]
     },
     "execution_count": 17,
     "metadata": {},
     "output_type": "execute_result"
    }
   ],
   "source": [
    "tag_scores.take(10)"
   ]
  },
  {
   "cell_type": "code",
   "execution_count": 18,
   "metadata": {},
   "outputs": [
    {
     "data": {
      "text/plain": [
       "11709768"
      ]
     },
     "execution_count": 18,
     "metadata": {},
     "output_type": "execute_result"
    }
   ],
   "source": [
    "tag_scores.count()"
   ]
  },
  {
   "cell_type": "code",
   "execution_count": 8,
   "metadata": {
    "collapsed": true
   },
   "outputs": [],
   "source": [
    "tag_counts = tag_scores.map(lambda a: (a['movieId'], 1))"
   ]
  },
  {
   "cell_type": "code",
   "execution_count": 9,
   "metadata": {
    "collapsed": true
   },
   "outputs": [],
   "source": [
    "tag_counts = tag_counts.reduceByKey(lambda x,y: x+y)"
   ]
  },
  {
   "cell_type": "code",
   "execution_count": 21,
   "metadata": {},
   "outputs": [
    {
     "data": {
      "text/plain": [
       "[(6, 1128),\n",
       " (12, 1128),\n",
       " (18, 1128),\n",
       " (24, 1128),\n",
       " (30, 1128),\n",
       " (36, 1128),\n",
       " (42, 1128),\n",
       " (48, 1128),\n",
       " (54, 1128),\n",
       " (60, 1128)]"
      ]
     },
     "execution_count": 21,
     "metadata": {},
     "output_type": "execute_result"
    }
   ],
   "source": [
    "tag_counts.take(10)"
   ]
  },
  {
   "cell_type": "code",
   "execution_count": 22,
   "metadata": {},
   "outputs": [
    {
     "data": {
      "text/plain": [
       "10381"
      ]
     },
     "execution_count": 22,
     "metadata": {},
     "output_type": "execute_result"
    }
   ],
   "source": [
    "tag_counts.count()"
   ]
  },
  {
   "cell_type": "markdown",
   "metadata": {},
   "source": [
    "only 10381 out of 27278 movies have tags o_0"
   ]
  },
  {
   "cell_type": "code",
   "execution_count": 10,
   "metadata": {
    "collapsed": true
   },
   "outputs": [],
   "source": [
    "ratings = sc.textFile(\"/ix/ml-20m/ratings.txt\").map(json.loads)"
   ]
  },
  {
   "cell_type": "code",
   "execution_count": 24,
   "metadata": {},
   "outputs": [
    {
     "data": {
      "text/plain": [
       "[{'movieId': 2, 'rating': 3.5, 'timestamp': 1112486027, 'userId': 1},\n",
       " {'movieId': 29, 'rating': 3.5, 'timestamp': 1112484676, 'userId': 1},\n",
       " {'movieId': 32, 'rating': 3.5, 'timestamp': 1112484819, 'userId': 1},\n",
       " {'movieId': 47, 'rating': 3.5, 'timestamp': 1112484727, 'userId': 1},\n",
       " {'movieId': 50, 'rating': 3.5, 'timestamp': 1112484580, 'userId': 1},\n",
       " {'movieId': 112, 'rating': 3.5, 'timestamp': 1094785740, 'userId': 1},\n",
       " {'movieId': 151, 'rating': 4.0, 'timestamp': 1094785734, 'userId': 1},\n",
       " {'movieId': 223, 'rating': 4.0, 'timestamp': 1112485573, 'userId': 1},\n",
       " {'movieId': 253, 'rating': 4.0, 'timestamp': 1112484940, 'userId': 1},\n",
       " {'movieId': 260, 'rating': 4.0, 'timestamp': 1112484826, 'userId': 1}]"
      ]
     },
     "execution_count": 24,
     "metadata": {},
     "output_type": "execute_result"
    }
   ],
   "source": [
    "ratings.take(10)"
   ]
  },
  {
   "cell_type": "code",
   "execution_count": 25,
   "metadata": {},
   "outputs": [
    {
     "data": {
      "text/plain": [
       "20000263"
      ]
     },
     "execution_count": 25,
     "metadata": {},
     "output_type": "execute_result"
    }
   ],
   "source": [
    "ratings.count()"
   ]
  },
  {
   "cell_type": "code",
   "execution_count": 11,
   "metadata": {
    "collapsed": true
   },
   "outputs": [],
   "source": [
    "movie_name_lengths = movies.map(lambda x: x['title'])"
   ]
  },
  {
   "cell_type": "code",
   "execution_count": 412,
   "metadata": {
    "scrolled": true
   },
   "outputs": [
    {
     "data": {
      "text/plain": [
       "['Godzilla, Mothra, and King Ghidorah: Giant Monsters All-Out Attack (Gojira, Mosura, Kingu Gidorâ: Daikaijû sôkôgeki) (Godzilla, Mothra and King Ghidorah: Giant Monsters All-Out Attack) (2001)',\n",
       " \"Dragon Ball Z the Movie: The World's Strongest (a.k.a. Dragon Ball Z: The Strongest Guy in The World) (Doragon bôru Z: Kono yo de ichiban tsuyoi yatsu) (1990)\",\n",
       " 'Strange Behaviour of Sexually Mature City Slickers at Mating Season, The (Das merkwürdige Verhalten geschlechtsreifer Großstädter zur Paarungszeit) (1998)',\n",
       " 'Dragon Ball Z: Bardock - The Father of Goku (Doragon bôru Z: Tatta hitori no saishuu kessen - Furiiza ni itonda Z senshi Kakarotto no chichi) (1990)',\n",
       " 'Revolutionary Girl Utena: Adolescence of Utena (a.k.a. Revolutionary Girl Utena the Movie) (Shoujo kakumei Utena: Adolescence mokushiroku) (1999)']"
      ]
     },
     "execution_count": 412,
     "metadata": {},
     "output_type": "execute_result"
    }
   ],
   "source": [
    "movie_name_lengths.takeOrdered(5, lambda x: -len(x))"
   ]
  },
  {
   "cell_type": "markdown",
   "metadata": {},
   "source": [
    "so there are 'holes' in movieIds"
   ]
  },
  {
   "cell_type": "markdown",
   "metadata": {},
   "source": [
    "### Excercise 3.1"
   ]
  },
  {
   "cell_type": "markdown",
   "metadata": {},
   "source": [
    "**Constructing the data matrix**"
   ]
  },
  {
   "cell_type": "code",
   "execution_count": 12,
   "metadata": {
    "collapsed": true
   },
   "outputs": [],
   "source": [
    "# collect all the movies which have tags\n",
    "# this will aslo be used as a way to convert a movieId to the corresponding column in the matrix\n",
    "tagged_movies_list = sorted(tag_scores.map(lambda x: x['movieId']).distinct().collect())"
   ]
  },
  {
   "cell_type": "code",
   "execution_count": 16,
   "metadata": {},
   "outputs": [
    {
     "data": {
      "text/plain": [
       "[1, 2, 3, 4, 5, 6, 7, 8, 9, 10]"
      ]
     },
     "execution_count": 16,
     "metadata": {},
     "output_type": "execute_result"
    }
   ],
   "source": [
    "tagged_movies_list[:10]"
   ]
  },
  {
   "cell_type": "code",
   "execution_count": 13,
   "metadata": {
    "collapsed": true
   },
   "outputs": [],
   "source": [
    "# define matrix dimensions\n",
    "M = len(tag2name)\n",
    "N = len(tagged_movies_list)"
   ]
  },
  {
   "cell_type": "code",
   "execution_count": 14,
   "metadata": {},
   "outputs": [
    {
     "name": "stdout",
     "output_type": "stream",
     "text": [
      "1128 10381\n"
     ]
    }
   ],
   "source": [
    "print(M, N)"
   ]
  },
  {
   "cell_type": "code",
   "execution_count": 43,
   "metadata": {
    "collapsed": true
   },
   "outputs": [],
   "source": [
    "# create the matrix (to be filled later)\n",
    "mat = np.zeros((M, N))"
   ]
  },
  {
   "cell_type": "code",
   "execution_count": 15,
   "metadata": {
    "collapsed": true
   },
   "outputs": [],
   "source": [
    "with open(\"mat.pickle\", \"rb\") as f:\n",
    "    mat = pickle.load(f, encoding=\"utf-8\")"
   ]
  },
  {
   "cell_type": "code",
   "execution_count": 79,
   "metadata": {
    "collapsed": true
   },
   "outputs": [],
   "source": [
    "# create a relation mapping movies to lists of tags with their relevances\n",
    "tag_scores_table = tag_scores.map(lambda x: (x['movieId'], {'tagId': x['tagId'], 'relevance': x['relevance']})).groupByKey().collect()"
   ]
  },
  {
   "cell_type": "code",
   "execution_count": 83,
   "metadata": {
    "collapsed": true
   },
   "outputs": [],
   "source": [
    "# fill the matrix\n",
    "for movie_scores in tag_scores_table:\n",
    "    movieId = movie_scores[0]\n",
    "    for tag in movie_scores[1]:\n",
    "        tagId = tag['tagId']\n",
    "        relevance = tag['relevance']\n",
    "        mat[tagId-1][tagged_movies_list.index(movieId)] = relevance\n",
    "    "
   ]
  },
  {
   "cell_type": "code",
   "execution_count": 84,
   "metadata": {},
   "outputs": [
    {
     "data": {
      "text/plain": [
       "array([[ 0.025  ,  0.03975,  0.0435 , ...,  0.042  ,  0.05975,  0.05325],\n",
       "       [ 0.025  ,  0.04375,  0.05475, ...,  0.03175,  0.10375,  0.08625],\n",
       "       [ 0.05775,  0.03775,  0.028  , ...,  0.017  ,  0.1785 ,  0.017  ],\n",
       "       ..., \n",
       "       [ 0.03625,  0.01475,  0.0195 , ...,  0.0095 ,  0.51925,  0.01575],\n",
       "       [ 0.07775,  0.09025,  0.097  , ...,  0.0755 ,  0.067  ,  0.1145 ],\n",
       "       [ 0.023  ,  0.01875,  0.0185 , ...,  0.01625,  0.01725,  0.02175]])"
      ]
     },
     "execution_count": 84,
     "metadata": {},
     "output_type": "execute_result"
    }
   ],
   "source": [
    "mat"
   ]
  },
  {
   "cell_type": "markdown",
   "metadata": {},
   "source": [
    "**Variance in dimensions**"
   ]
  },
  {
   "cell_type": "code",
   "execution_count": 109,
   "metadata": {
    "collapsed": true
   },
   "outputs": [],
   "source": [
    "# variance in each dimension\n",
    "variance_in_dimensions = np.var(mat, axis=1)"
   ]
  },
  {
   "cell_type": "code",
   "execution_count": 105,
   "metadata": {},
   "outputs": [
    {
     "name": "stdout",
     "output_type": "stream",
     "text": [
      "[ 0.00489995  0.00374062  0.01184875 ...,  0.01882639  0.01105271\n",
      "  0.00657968]\n"
     ]
    }
   ],
   "source": [
    "print (variance_in_dimensions)"
   ]
  },
  {
   "cell_type": "code",
   "execution_count": 110,
   "metadata": {},
   "outputs": [
    {
     "data": {
      "image/png": "[encoded data removed]",
      "text/plain": [
       "<matplotlib.figure.Figure at 0x7f3bf477bef0>"
      ]
     },
     "metadata": {},
     "output_type": "display_data"
    }
   ],
   "source": [
    "plt.figure(figsize=(8, 6))\n",
    "plt.scatter(variance_in_dimensions, list(tag2name))\n",
    "plt.title(\"Variance in different dimensions (tags)\")\n",
    "plt.xlabel(\"variance\")\n",
    "plt.ylabel(\"tagId\")\n",
    "plt.show()"
   ]
  },
  {
   "cell_type": "markdown",
   "metadata": {},
   "source": [
    "**Covariance Matrix**"
   ]
  },
  {
   "cell_type": "code",
   "execution_count": 16,
   "metadata": {
    "collapsed": true
   },
   "outputs": [],
   "source": [
    "cov_mat = np.cov(mat)"
   ]
  },
  {
   "cell_type": "code",
   "execution_count": 5,
   "metadata": {
    "collapsed": true
   },
   "outputs": [],
   "source": [
    "eig_values, eig_vectors = np.linalg.eigh(cov_mat)\n",
    "eig_values = np.flip(eig_values, axis=0) # to have them in descending order\n",
    "eig_vectors = np.flip(eig_vectors, axis=1)"
   ]
  },
  {
   "cell_type": "code",
   "execution_count": 18,
   "metadata": {},
   "outputs": [
    {
     "data": {
      "image/png": "[encoded data removed]",
      "text/plain": [
       "<matplotlib.figure.Figure at 0x7f4c1a6ec208>"
      ]
     },
     "metadata": {},
     "output_type": "display_data"
    }
   ],
   "source": [
    "plt.figure(figsize=(12, 6))\n",
    "plt.loglog(eig_values)\n",
    "plt.title(\"Eigenvalues of the covariance matrix, in decreasing order\")\n",
    "plt.ylabel(\"ln(Eigenvalue)\")\n",
    "plt.show()"
   ]
  },
  {
   "cell_type": "code",
   "execution_count": 20,
   "metadata": {
    "collapsed": true
   },
   "outputs": [],
   "source": [
    "total = sum(eig_values)\n",
    "captured_variability = [eigv/total*100 for eigv in eig_values]\n",
    "cum_captured_variability = np.cumsum(captured_variability).tolist()"
   ]
  },
  {
   "cell_type": "code",
   "execution_count": 21,
   "metadata": {
    "scrolled": false
   },
   "outputs": [
    {
     "name": "stdout",
     "output_type": "stream",
     "text": [
      "[16.09984018236562, 23.242154927609604, 29.066372780783365, 32.938315441861505, 36.363256627599206, 39.13679716269937, 41.83488808944758, 44.15748964614456, 46.15445365987529, 47.84370176444964, 49.36874596327928, 50.735851701850905, 52.0359409396258, 53.25084172910521, 54.37777277609013, 55.41492257023864, 56.40872215355756, 57.30108086542617, 58.10408638274457, 58.87277009833421, 59.57852338467013, 60.236618920890365, 60.8766154687838, 61.46232196927872, 62.01345142280321, 62.52886198499363, 63.016720518374534, 63.48996457292495, 63.94634794989435, 64.38422008458683, 64.8015603953651, 65.19958207236014, 65.58932990126416, 65.95269353174798, 66.3108379971456, 66.65145090563249, 66.98488598691523, 67.31049352864947, 67.6242129171575, 67.9338933748402, 68.2276505818317, 68.51789165664485, 68.79842435039133, 69.0732890799885, 69.33381118898085, 69.59054653343307, 69.84284646445137, 70.08436219864724, 70.32328442853435, 70.55417177386325]\n"
     ]
    }
   ],
   "source": [
    "print(cum_captured_variability[:50])"
   ]
  },
  {
   "cell_type": "code",
   "execution_count": 261,
   "metadata": {},
   "outputs": [
    {
     "name": "stdout",
     "output_type": "stream",
     "text": [
      "36\n"
     ]
    }
   ],
   "source": [
    "twothirds = [i for i in range(1,len(cum_captured_variability)) if cum_captured_variability[i] > 200/3 and cum_captured_variability[i-1] < 200/3][0]\n",
    "print(twothirds)"
   ]
  },
  {
   "cell_type": "markdown",
   "metadata": {},
   "source": [
    "** Let's see how much variability we can capture as we increase the number of Principal Components**"
   ]
  },
  {
   "cell_type": "code",
   "execution_count": 224,
   "metadata": {},
   "outputs": [
    {
     "data": {
      "image/png": "[encoded data removed]",
      "text/plain": [
       "<matplotlib.figure.Figure at 0x7f3be37b5c18>"
      ]
     },
     "metadata": {},
     "output_type": "display_data"
    }
   ],
   "source": [
    "plt.figure(figsize=(10,6))\n",
    "plt.plot(range(len(cum_captured_variability)), cum_captured_variability)\n",
    "plt.title(\"PCA Stats\")\n",
    "plt.xticks(np.arange(0, 1200, step=100))\n",
    "plt.xlabel(\"Number of Principal components\")\n",
    "plt.ylabel(\"Captured Variability (%)\")\n",
    "plt.show()"
   ]
  },
  {
   "cell_type": "code",
   "execution_count": 235,
   "metadata": {
    "collapsed": true
   },
   "outputs": [],
   "source": [
    "sample_points = [5, 15, 35, 60, 80, 100, 200]\n",
    "sample_captured_variability = [cum_captured_variability[x-1] for x in sample_points]"
   ]
  },
  {
   "cell_type": "code",
   "execution_count": 236,
   "metadata": {},
   "outputs": [
    {
     "data": {
      "image/png": "[encoded data removed]",
      "text/plain": [
       "<matplotlib.figure.Figure at 0x7f3be38d7c18>"
      ]
     },
     "metadata": {},
     "output_type": "display_data"
    }
   ],
   "source": [
    "plt.figure(figsize=(15,6))\n",
    "plt.title(\"PCA Stats\")\n",
    "plt.bar(sample_points, sample_captured_variability, width=4)\n",
    "plt.xticks(sample_points)\n",
    "plt.yticks(sample_captured_variability)\n",
    "plt.xlabel(\"Number of Principal components\")\n",
    "plt.ylabel(\"Captured Variability (%)\")\n",
    "plt.show()"
   ]
  },
  {
   "cell_type": "markdown",
   "metadata": {},
   "source": [
    "** Observations **"
   ]
  },
  {
   "cell_type": "markdown",
   "metadata": {},
   "source": [
    "Looking at the variance of in each dimension across movies, we can see that the variance for a lot of dimensions is very low (for instance, a vast chunk of tags have variance less than 4 times the variance of the tag with the largest variance). So these dimensions are much less relevant in differentiating movies."
   ]
  },
  {
   "cell_type": "markdown",
   "metadata": {},
   "source": [
    "Analysis shows that using the first 36 principal components already captures 2/3 of the variability in the data, compared to 1128 dimensions that we had before, so this is a good way to reduce dimension of our data."
   ]
  },
  {
   "cell_type": "markdown",
   "metadata": {},
   "source": [
    "### Excercise 3.2"
   ]
  },
  {
   "cell_type": "code",
   "execution_count": 8,
   "metadata": {},
   "outputs": [
    {
     "name": "stdout",
     "output_type": "stream",
     "text": [
      "Principal Direction 1\n",
      "               Highest                                          Lowest\n",
      "talky                                0.104587     predictable               -0.083331\n",
      "social commentary                    0.101853     so bad it's funny         -0.068450\n",
      "criterion                            0.101389     bad plot                  -0.065058\n",
      "imdb top 250                         0.099906     silly                     -0.061452\n",
      "great acting                         0.098764     silly fun                 -0.060956\n",
      "drama                                0.098425     horrible                  -0.054783\n",
      "oscar (best directing)               0.097419     franchise                 -0.053759\n",
      "bleak                                0.096656     lame                      -0.046250\n",
      "dramatic                             0.096186     big budget                -0.045794\n",
      "cinematography                       0.095898     comedy                    -0.045540\n",
      "----------------------------\n",
      "Principal Direction 2\n",
      "               Highest                                          Lowest\n",
      "intimate                             0.105640     action                    -0.165869\n",
      "relationships                        0.087637     special effects           -0.123227\n",
      "criterion                            0.073061     big budget                -0.122260\n",
      "melancholic                          0.067270     chase                     -0.120449\n",
      "loneliness                           0.066820     fast paced                -0.118282\n",
      "golden palm                          0.065693     suspense                  -0.118274\n",
      "meditative                           0.057899     good action               -0.111628\n",
      "art house                            0.052799     plot                      -0.108356\n",
      "melancholy                           0.050488     pg-13                     -0.107317\n",
      "sexual                               0.048188     action packed             -0.106653\n",
      "----------------------------\n",
      "Principal Direction 3\n",
      "               Highest                                          Lowest\n",
      "feel-good                            0.109304     horror                    -0.116760\n",
      "sentimental                          0.107691     weird                     -0.116052\n",
      "love story                           0.105752     creepy                    -0.108169\n",
      "heartwarming                         0.104573     splatter                  -0.107639\n",
      "touching                             0.101823     stylish                   -0.098411\n",
      "romantic                             0.098457     cult classic              -0.096496\n",
      "sweet                                0.094701     disturbing                -0.096220\n",
      "courage                              0.092427     violence                  -0.094341\n",
      "girlie movie                         0.092092     cult film                 -0.093566\n",
      "feel good movie                      0.090080     dark                      -0.092990\n",
      "----------------------------\n",
      "Principal Direction 4\n",
      "               Highest                                          Lowest\n",
      "visual                               0.140783     corruption                -0.115534\n",
      "visually stunning                    0.135280     crime                     -0.111708\n",
      "imagination                          0.117299     murder                    -0.103648\n",
      "sci-fi                               0.115642     police investigation      -0.078892\n",
      "scifi                                0.114379     thriller                  -0.075740\n",
      "visually appealing                   0.113219     suspense                  -0.074581\n",
      "science fiction                      0.105389     violence                  -0.070704\n",
      "sci fi                               0.103665     police corruption         -0.068487\n",
      "special effects                      0.103361     gangsters                 -0.067389\n",
      "beautifully filmed                   0.099971     manipulation              -0.066855\n",
      "----------------------------\n",
      "Principal Direction 5\n",
      "               Highest                                          Lowest\n",
      "thriller                             0.088307     comedy                    -0.219641\n",
      "conspiracy                           0.077809     funny                     -0.188340\n",
      "secrets                              0.077050     hilarious                 -0.157748\n",
      "suspenseful                          0.071277     goofy                     -0.156777\n",
      "tense                                0.070646     humorous                  -0.156534\n",
      "mystery                              0.069755     humor                     -0.131104\n",
      "suspense                             0.066642     very funny                -0.125578\n",
      "investigation                        0.064039     cult classic              -0.116184\n",
      "murder mystery                       0.063398     quotable                  -0.107744\n",
      "betrayal                             0.062186     funny as hell             -0.103001\n",
      "----------------------------\n"
     ]
    }
   ],
   "source": [
    "first_five_eig_vectors = eig_vectors.T[:5]\n",
    "for i, princ_dir in enumerate(first_five_eig_vectors):\n",
    "    sorted_coordinates = princ_dir.argsort()\n",
    "    highest10 = sorted_coordinates[-10:][::-1]\n",
    "    lowest10 = sorted_coordinates[:10]\n",
    "    print(\"Principal Direction\", i+1)\n",
    "    print(\"               Highest {:40s} Lowest\".format(\"\"))\n",
    "    for i in range(10):\n",
    "        [tag2name[tag+1] for tag in np.where(princ_dir == max(princ_dir))[0]]\n",
    "        print(\"{:25s}{:20f}{:5}{:20s}{:15f}\".format(tag2name[highest10[i]+1], princ_dir[highest10[i]], \"\", tag2name[lowest10[i]+1], princ_dir[lowest10[i]]))\n",
    "    print(\"----------------------------\")"
   ]
  },
  {
   "cell_type": "markdown",
   "metadata": {},
   "source": [
    "#### Concepts"
   ]
  },
  {
   "cell_type": "markdown",
   "metadata": {},
   "source": [
    "The top 10 and low 10 tags in each component do indeed tend to describe a more general concept. \n",
    "\n",
    "In Principal Direction 1, top 10 tags describe a well-done, highly rated movie, whereas the lowest 10 tags describe a poorly done movie, not liked by anyone. Similarly, <br/>\n",
    "in Principal Direction 2, top 10: slow and with a lot of feelings involved; lowest 10: fast-paced action <br/>\n",
    "in Principal Direction 3, top 10: emotional and positive; lowest 10: dark<br/>\n",
    "in Principal Direction 4, top 10: science fiction; lowest 10: detective (unlikely to have CGI, only real-life frames)<br/>\n",
    "in Principal Direction 5, top 10: mystery, suspense (serious); lowest 10: funny"
   ]
  },
  {
   "cell_type": "code",
   "execution_count": 371,
   "metadata": {
    "collapsed": true
   },
   "outputs": [],
   "source": [
    "tags_in_5_dimensions = {}\n",
    "for tag in tag2name:\n",
    "    coords = [princ_dir[tag-1] for princ_dir in first_five_eig_vectors]\n",
    "    tags_in_5_dimensions[tag2name[tag]] = coords"
   ]
  },
  {
   "cell_type": "code",
   "execution_count": 376,
   "metadata": {
    "collapsed": true
   },
   "outputs": [],
   "source": [
    "pickle_out = open(\"tags_in_5_dimensions.pickle\",\"wb\")\n",
    "pickle.dump(tags_in_5_dimensions, pickle_out)\n",
    "pickle_out.close()"
   ]
  },
  {
   "cell_type": "code",
   "execution_count": 377,
   "metadata": {
    "collapsed": true
   },
   "outputs": [],
   "source": [
    "pickle_out = open(\"mat.pickle\",\"wb\")\n",
    "pickle.dump(mat, pickle_out)\n",
    "pickle_out.close()"
   ]
  },
  {
   "cell_type": "markdown",
   "metadata": {},
   "source": [
    "### Excercise 3.3"
   ]
  },
  {
   "cell_type": "code",
   "execution_count": 9,
   "metadata": {
    "collapsed": true
   },
   "outputs": [],
   "source": [
    "with open(\"selected-movies.pickle\", \"rb\") as f:\n",
    "    selected_movies = pickle.load(f, encoding=\"utf-8\")"
   ]
  },
  {
   "cell_type": "code",
   "execution_count": 10,
   "metadata": {
    "collapsed": true
   },
   "outputs": [],
   "source": [
    "selected_movies = list(selected_movies)"
   ]
  },
  {
   "cell_type": "code",
   "execution_count": 383,
   "metadata": {},
   "outputs": [
    {
     "data": {
      "text/plain": [
       "[(780, 'Independence Day (a.k.a. ID4) (1996)', 0.6),\n",
       " (5349, 'Spider-Man (2002)', 0.89),\n",
       " (2571, 'Matrix, The (1999)', 0.87),\n",
       " (318, 'Shawshank Redemption, The (1994)', 0.91),\n",
       " (2329, 'American History X (1998)', 0.83),\n",
       " (5147, 'Wild Strawberries (Smultronstället) (1957)', 0.95),\n",
       " (55444, 'Control (2007)', 0.87),\n",
       " (32296, 'Miss Congeniality 2: Armed and Fabulous (2005)', 0.15),\n",
       " (43930, 'Just My Luck (2006)', 0.13),\n",
       " (4658, 'Santa Sangre (1989)', 0.85),\n",
       " (6774, 'Videodrome (1983)', 0.78),\n",
       " (3967, 'Billy Elliot (2000)', 0.85),\n",
       " (114028, 'Pride (2014)', 0.92),\n",
       " (480, 'Jurassic Park (1993)', 0.93),\n",
       " (260, 'Star Wars: Episode IV - A New Hope (1977)', 0.93),\n",
       " (4700, 'Princess Diaries, The (2001)', 0.47),\n",
       " (527, \"Schindler's List (1993)\", 0.96),\n",
       " (2959, 'Fight Club (1999)', 0.79),\n",
       " (6132, 'New York Ripper, The (Squartatore di New York, Lo) (1982)', 0.17),\n",
       " (2858, 'American Beauty (1999)', 0.88),\n",
       " (6016, 'City of God (Cidade de Deus) (2002)', 0.9),\n",
       " (94018, 'Battleship (2012)', 0.34),\n",
       " (5687, 'Take Care of My Cat (Goyangileul butaghae) (2001)', 0.81),\n",
       " (1240, 'Terminator, The (1984)', 1.0),\n",
       " (111759, 'Edge of Tomorrow (2014)', 0.91),\n",
       " (356, 'Forrest Gump (1994)', 0.72),\n",
       " (81845, \"King's Speech, The (2010)\", 0.95),\n",
       " (2324, 'Life Is Beautiful (La Vita è bella) (1997)', 0.8),\n",
       " (5163, 'Stage Fright (Deliria) (1987)', 0.68),\n",
       " (7235, 'Ichi the Killer (Koroshiya 1) (2001)', 0.64),\n",
       " (1199, 'Brazil (1985)', 0.98),\n",
       " (48043, 'Fountain, The (2006)', 0.51),\n",
       " (4465, 'Accused, The (1988)', 0.95),\n",
       " (805, 'Time to Kill, A (1996)', 0.67),\n",
       " (74545, 'Ghost Writer, The (2010)', 0.83),\n",
       " (54503, 'Superbad (2007)', 0.88),\n",
       " (2706, 'American Pie (1999)', 0.6)]"
      ]
     },
     "execution_count": 383,
     "metadata": {},
     "output_type": "execute_result"
    }
   ],
   "source": [
    "selected_movies"
   ]
  },
  {
   "cell_type": "code",
   "execution_count": 17,
   "metadata": {
    "collapsed": true
   },
   "outputs": [],
   "source": [
    "# compute projections of selected movies on the principal directions\n",
    "projections = [\n",
    "    [np.dot(mat[:, tagged_movies_list.index(movie[0])], first_five_eig_vectors[i]) for movie in selected_movies] for i in range(5)\n",
    "]"
   ]
  },
  {
   "cell_type": "code",
   "execution_count": 18,
   "metadata": {},
   "outputs": [
    {
     "data": {
      "text/html": [
       "\n",
       "    <div class=\"bk-root\">\n",
       "        <a href=\"https://bokeh.pydata.org\" target=\"_blank\" class=\"bk-logo bk-logo-small bk-logo-notebook\"></a>\n",
       "        <span id=\"56eeb4ae-26a5-4a66-b01f-dca32d4b2a31\">Loading BokehJS ...</span>\n",
       "    </div>"
      ]
     },
     "metadata": {},
     "output_type": "display_data"
    },
    {
     "data": {
      "application/javascript": [
       "\n",
       "(function(root) {\n",
       "  function now() {\n",
       "    return new Date();\n",
       "  }\n",
       "\n",
       "  var force = true;\n",
       "\n",
       "  if (typeof (root._bokeh_onload_callbacks) === \"undefined\" || force === true) {\n",
       "    root._bokeh_onload_callbacks = [];\n",
       "    root._bokeh_is_loading = undefined;\n",
       "  }\n",
       "\n",
       "  var JS_MIME_TYPE = 'application/javascript';\n",
       "  var HTML_MIME_TYPE = 'text/html';\n",
       "  var EXEC_MIME_TYPE = 'application/vnd.bokehjs_exec.v0+json';\n",
       "  var CLASS_NAME = 'output_bokeh rendered_html';\n",
       "\n",
       "  /**\n",
       "   * Render data to the DOM node\n",
       "   */\n",
       "  function render(props, node) {\n",
       "    var script = document.createElement(\"script\");\n",
       "    node.appendChild(script);\n",
       "  }\n",
       "\n",
       "  /**\n",
       "   * Handle when an output is cleared or removed\n",
       "   */\n",
       "  function handleClearOutput(event, handle) {\n",
       "    var cell = handle.cell;\n",
       "\n",
       "    var id = cell.output_area._bokeh_element_id;\n",
       "    var server_id = cell.output_area._bokeh_server_id;\n",
       "    // Clean up Bokeh references\n",
       "    if (id !== undefined) {\n",
       "      Bokeh.index[id].model.document.clear();\n",
       "      delete Bokeh.index[id];\n",
       "    }\n",
       "\n",
       "    if (server_id !== undefined) {\n",
       "      // Clean up Bokeh references\n",
       "      var cmd = \"from bokeh.io.state import curstate; print(curstate().uuid_to_server['\" + server_id + \"'].get_sessions()[0].document.roots[0]._id)\";\n",
       "      cell.notebook.kernel.execute(cmd, {\n",
       "        iopub: {\n",
       "          output: function(msg) {\n",
       "            var element_id = msg.content.text.trim();\n",
       "            Bokeh.index[element_id].model.document.clear();\n",
       "            delete Bokeh.index[element_id];\n",
       "          }\n",
       "        }\n",
       "      });\n",
       "      // Destroy server and session\n",
       "      var cmd = \"import bokeh.io.notebook as ion; ion.destroy_server('\" + server_id + \"')\";\n",
       "      cell.notebook.kernel.execute(cmd);\n",
       "    }\n",
       "  }\n",
       "\n",
       "  /**\n",
       "   * Handle when a new output is added\n",
       "   */\n",
       "  function handleAddOutput(event, handle) {\n",
       "    var output_area = handle.output_area;\n",
       "    var output = handle.output;\n",
       "\n",
       "    // limit handleAddOutput to display_data with EXEC_MIME_TYPE content only\n",
       "    if ((output.output_type != \"display_data\") || (!output.data.hasOwnProperty(EXEC_MIME_TYPE))) {\n",
       "      return\n",
       "    }\n",
       "\n",
       "    var toinsert = output_area.element.find(`.${CLASS_NAME.split(' ')[0]}`);\n",
       "\n",
       "    if (output.metadata[EXEC_MIME_TYPE][\"id\"] !== undefined) {\n",
       "      toinsert[0].firstChild.textContent = output.data[JS_MIME_TYPE];\n",
       "      // store reference to embed id on output_area\n",
       "      output_area._bokeh_element_id = output.metadata[EXEC_MIME_TYPE][\"id\"];\n",
       "    }\n",
       "    if (output.metadata[EXEC_MIME_TYPE][\"server_id\"] !== undefined) {\n",
       "      var bk_div = document.createElement(\"div\");\n",
       "      bk_div.innerHTML = output.data[HTML_MIME_TYPE];\n",
       "      var script_attrs = bk_div.children[0].attributes;\n",
       "      for (var i = 0; i < script_attrs.length; i++) {\n",
       "        toinsert[0].firstChild.setAttribute(script_attrs[i].name, script_attrs[i].value);\n",
       "      }\n",
       "      // store reference to server id on output_area\n",
       "      output_area._bokeh_server_id = output.metadata[EXEC_MIME_TYPE][\"server_id\"];\n",
       "    }\n",
       "  }\n",
       "\n",
       "  function register_renderer(events, OutputArea) {\n",
       "\n",
       "    function append_mime(data, metadata, element) {\n",
       "      // create a DOM node to render to\n",
       "      var toinsert = this.create_output_subarea(\n",
       "        metadata,\n",
       "        CLASS_NAME,\n",
       "        EXEC_MIME_TYPE\n",
       "      );\n",
       "      this.keyboard_manager.register_events(toinsert);\n",
       "      // Render to node\n",
       "      var props = {data: data, metadata: metadata[EXEC_MIME_TYPE]};\n",
       "      render(props, toinsert[0]);\n",
       "      element.append(toinsert);\n",
       "      return toinsert\n",
       "    }\n",
       "\n",
       "    /* Handle when an output is cleared or removed */\n",
       "    events.on('clear_output.CodeCell', handleClearOutput);\n",
       "    events.on('delete.Cell', handleClearOutput);\n",
       "\n",
       "    /* Handle when a new output is added */\n",
       "    events.on('output_added.OutputArea', handleAddOutput);\n",
       "\n",
       "    /**\n",
       "     * Register the mime type and append_mime function with output_area\n",
       "     */\n",
       "    OutputArea.prototype.register_mime_type(EXEC_MIME_TYPE, append_mime, {\n",
       "      /* Is output safe? */\n",
       "      safe: true,\n",
       "      /* Index of renderer in `output_area.display_order` */\n",
       "      index: 0\n",
       "    });\n",
       "  }\n",
       "\n",
       "  // register the mime type if in Jupyter Notebook environment and previously unregistered\n",
       "  if (root.Jupyter !== undefined) {\n",
       "    var events = require('base/js/events');\n",
       "    var OutputArea = require('notebook/js/outputarea').OutputArea;\n",
       "\n",
       "    if (OutputArea.prototype.mime_types().indexOf(EXEC_MIME_TYPE) == -1) {\n",
       "      register_renderer(events, OutputArea);\n",
       "    }\n",
       "  }\n",
       "\n",
       "  \n",
       "  if (typeof (root._bokeh_timeout) === \"undefined\" || force === true) {\n",
       "    root._bokeh_timeout = Date.now() + 5000;\n",
       "    root._bokeh_failed_load = false;\n",
       "  }\n",
       "\n",
       "  var NB_LOAD_WARNING = {'data': {'text/html':\n",
       "     \"<div style='background-color: #fdd'>\\n\"+\n",
       "     \"<p>\\n\"+\n",
       "     \"BokehJS does not appear to have successfully loaded. If loading BokehJS from CDN, this \\n\"+\n",
       "     \"may be due to a slow or bad network connection. Possible fixes:\\n\"+\n",
       "     \"</p>\\n\"+\n",
       "     \"<ul>\\n\"+\n",
       "     \"<li>re-rerun `output_notebook()` to attempt to load from CDN again, or</li>\\n\"+\n",
       "     \"<li>use INLINE resources instead, as so:</li>\\n\"+\n",
       "     \"</ul>\\n\"+\n",
       "     \"<code>\\n\"+\n",
       "     \"from bokeh.resources import INLINE\\n\"+\n",
       "     \"output_notebook(resources=INLINE)\\n\"+\n",
       "     \"</code>\\n\"+\n",
       "     \"</div>\"}};\n",
       "\n",
       "  function display_loaded() {\n",
       "    var el = document.getElementById(\"56eeb4ae-26a5-4a66-b01f-dca32d4b2a31\");\n",
       "    if (el != null) {\n",
       "      el.textContent = \"BokehJS is loading...\";\n",
       "    }\n",
       "    if (root.Bokeh !== undefined) {\n",
       "      if (el != null) {\n",
       "        el.textContent = \"BokehJS \" + root.Bokeh.version + \" successfully loaded.\";\n",
       "      }\n",
       "    } else if (Date.now() < root._bokeh_timeout) {\n",
       "      setTimeout(display_loaded, 100)\n",
       "    }\n",
       "  }\n",
       "\n",
       "\n",
       "  function run_callbacks() {\n",
       "    try {\n",
       "      root._bokeh_onload_callbacks.forEach(function(callback) { callback() });\n",
       "    }\n",
       "    finally {\n",
       "      delete root._bokeh_onload_callbacks\n",
       "    }\n",
       "    console.info(\"Bokeh: all callbacks have finished\");\n",
       "  }\n",
       "\n",
       "  function load_libs(js_urls, callback) {\n",
       "    root._bokeh_onload_callbacks.push(callback);\n",
       "    if (root._bokeh_is_loading > 0) {\n",
       "      console.log(\"Bokeh: BokehJS is being loaded, scheduling callback at\", now());\n",
       "      return null;\n",
       "    }\n",
       "    if (js_urls == null || js_urls.length === 0) {\n",
       "      run_callbacks();\n",
       "      return null;\n",
       "    }\n",
       "    console.log(\"Bokeh: BokehJS not loaded, scheduling load and callback at\", now());\n",
       "    root._bokeh_is_loading = js_urls.length;\n",
       "    for (var i = 0; i < js_urls.length; i++) {\n",
       "      var url = js_urls[i];\n",
       "      var s = document.createElement('script');\n",
       "      s.src = url;\n",
       "      s.async = false;\n",
       "      s.onreadystatechange = s.onload = function() {\n",
       "        root._bokeh_is_loading--;\n",
       "        if (root._bokeh_is_loading === 0) {\n",
       "          console.log(\"Bokeh: all BokehJS libraries loaded\");\n",
       "          run_callbacks()\n",
       "        }\n",
       "      };\n",
       "      s.onerror = function() {\n",
       "        console.warn(\"failed to load library \" + url);\n",
       "      };\n",
       "      console.log(\"Bokeh: injecting script tag for BokehJS library: \", url);\n",
       "      document.getElementsByTagName(\"head\")[0].appendChild(s);\n",
       "    }\n",
       "  };var element = document.getElementById(\"56eeb4ae-26a5-4a66-b01f-dca32d4b2a31\");\n",
       "  if (element == null) {\n",
       "    console.log(\"Bokeh: ERROR: autoload.js configured with elementid '56eeb4ae-26a5-4a66-b01f-dca32d4b2a31' but no matching script tag was found. \")\n",
       "    return false;\n",
       "  }\n",
       "\n",
       "  var js_urls = [\"https://cdn.pydata.org/bokeh/release/bokeh-0.12.10.min.js\", \"https://cdn.pydata.org/bokeh/release/bokeh-widgets-0.12.10.min.js\", \"https://cdn.pydata.org/bokeh/release/bokeh-tables-0.12.10.min.js\", \"https://cdn.pydata.org/bokeh/release/bokeh-gl-0.12.10.min.js\"];\n",
       "\n",
       "  var inline_js = [\n",
       "    function(Bokeh) {\n",
       "      Bokeh.set_log_level(\"info\");\n",
       "    },\n",
       "    \n",
       "    function(Bokeh) {\n",
       "      \n",
       "    },\n",
       "    function(Bokeh) {\n",
       "      console.log(\"Bokeh: injecting CSS: https://cdn.pydata.org/bokeh/release/bokeh-0.12.10.min.css\");\n",
       "      Bokeh.embed.inject_css(\"https://cdn.pydata.org/bokeh/release/bokeh-0.12.10.min.css\");\n",
       "      console.log(\"Bokeh: injecting CSS: https://cdn.pydata.org/bokeh/release/bokeh-widgets-0.12.10.min.css\");\n",
       "      Bokeh.embed.inject_css(\"https://cdn.pydata.org/bokeh/release/bokeh-widgets-0.12.10.min.css\");\n",
       "      console.log(\"Bokeh: injecting CSS: https://cdn.pydata.org/bokeh/release/bokeh-tables-0.12.10.min.css\");\n",
       "      Bokeh.embed.inject_css(\"https://cdn.pydata.org/bokeh/release/bokeh-tables-0.12.10.min.css\");\n",
       "    }\n",
       "  ];\n",
       "\n",
       "  function run_inline_js() {\n",
       "    \n",
       "    if ((root.Bokeh !== undefined) || (force === true)) {\n",
       "      for (var i = 0; i < inline_js.length; i++) {\n",
       "        inline_js[i].call(root, root.Bokeh);\n",
       "      }if (force === true) {\n",
       "        display_loaded();\n",
       "      }} else if (Date.now() < root._bokeh_timeout) {\n",
       "      setTimeout(run_inline_js, 100);\n",
       "    } else if (!root._bokeh_failed_load) {\n",
       "      console.log(\"Bokeh: BokehJS failed to load within specified timeout.\");\n",
       "      root._bokeh_failed_load = true;\n",
       "    } else if (force !== true) {\n",
       "      var cell = $(document.getElementById(\"56eeb4ae-26a5-4a66-b01f-dca32d4b2a31\")).parents('.cell').data().cell;\n",
       "      cell.output_area.append_execute_result(NB_LOAD_WARNING)\n",
       "    }\n",
       "\n",
       "  }\n",
       "\n",
       "  if (root._bokeh_is_loading === 0) {\n",
       "    console.log(\"Bokeh: BokehJS loaded, going straight to plotting\");\n",
       "    run_inline_js();\n",
       "  } else {\n",
       "    load_libs(js_urls, function() {\n",
       "      console.log(\"Bokeh: BokehJS plotting callback run at\", now());\n",
       "      run_inline_js();\n",
       "    });\n",
       "  }\n",
       "}(window));"
      ],
      "application/vnd.bokehjs_load.v0+json": "\n(function(root) {\n  function now() {\n    return new Date();\n  }\n\n  var force = true;\n\n  if (typeof (root._bokeh_onload_callbacks) === \"undefined\" || force === true) {\n    root._bokeh_onload_callbacks = [];\n    root._bokeh_is_loading = undefined;\n  }\n\n  \n\n  \n  if (typeof (root._bokeh_timeout) === \"undefined\" || force === true) {\n    root._bokeh_timeout = Date.now() + 5000;\n    root._bokeh_failed_load = false;\n  }\n\n  var NB_LOAD_WARNING = {'data': {'text/html':\n     \"<div style='background-color: #fdd'>\\n\"+\n     \"<p>\\n\"+\n     \"BokehJS does not appear to have successfully loaded. If loading BokehJS from CDN, this \\n\"+\n     \"may be due to a slow or bad network connection. Possible fixes:\\n\"+\n     \"</p>\\n\"+\n     \"<ul>\\n\"+\n     \"<li>re-rerun `output_notebook()` to attempt to load from CDN again, or</li>\\n\"+\n     \"<li>use INLINE resources instead, as so:</li>\\n\"+\n     \"</ul>\\n\"+\n     \"<code>\\n\"+\n     \"from bokeh.resources import INLINE\\n\"+\n     \"output_notebook(resources=INLINE)\\n\"+\n     \"</code>\\n\"+\n     \"</div>\"}};\n\n  function display_loaded() {\n    var el = document.getElementById(\"56eeb4ae-26a5-4a66-b01f-dca32d4b2a31\");\n    if (el != null) {\n      el.textContent = \"BokehJS is loading...\";\n    }\n    if (root.Bokeh !== undefined) {\n      if (el != null) {\n        el.textContent = \"BokehJS \" + root.Bokeh.version + \" successfully loaded.\";\n      }\n    } else if (Date.now() < root._bokeh_timeout) {\n      setTimeout(display_loaded, 100)\n    }\n  }\n\n\n  function run_callbacks() {\n    try {\n      root._bokeh_onload_callbacks.forEach(function(callback) { callback() });\n    }\n    finally {\n      delete root._bokeh_onload_callbacks\n    }\n    console.info(\"Bokeh: all callbacks have finished\");\n  }\n\n  function load_libs(js_urls, callback) {\n    root._bokeh_onload_callbacks.push(callback);\n    if (root._bokeh_is_loading > 0) {\n      console.log(\"Bokeh: BokehJS is being loaded, scheduling callback at\", now());\n      return null;\n    }\n    if (js_urls == null || js_urls.length === 0) {\n      run_callbacks();\n      return null;\n    }\n    console.log(\"Bokeh: BokehJS not loaded, scheduling load and callback at\", now());\n    root._bokeh_is_loading = js_urls.length;\n    for (var i = 0; i < js_urls.length; i++) {\n      var url = js_urls[i];\n      var s = document.createElement('script');\n      s.src = url;\n      s.async = false;\n      s.onreadystatechange = s.onload = function() {\n        root._bokeh_is_loading--;\n        if (root._bokeh_is_loading === 0) {\n          console.log(\"Bokeh: all BokehJS libraries loaded\");\n          run_callbacks()\n        }\n      };\n      s.onerror = function() {\n        console.warn(\"failed to load library \" + url);\n      };\n      console.log(\"Bokeh: injecting script tag for BokehJS library: \", url);\n      document.getElementsByTagName(\"head\")[0].appendChild(s);\n    }\n  };var element = document.getElementById(\"56eeb4ae-26a5-4a66-b01f-dca32d4b2a31\");\n  if (element == null) {\n    console.log(\"Bokeh: ERROR: autoload.js configured with elementid '56eeb4ae-26a5-4a66-b01f-dca32d4b2a31' but no matching script tag was found. \")\n    return false;\n  }\n\n  var js_urls = [\"https://cdn.pydata.org/bokeh/release/bokeh-0.12.10.min.js\", \"https://cdn.pydata.org/bokeh/release/bokeh-widgets-0.12.10.min.js\", \"https://cdn.pydata.org/bokeh/release/bokeh-tables-0.12.10.min.js\", \"https://cdn.pydata.org/bokeh/release/bokeh-gl-0.12.10.min.js\"];\n\n  var inline_js = [\n    function(Bokeh) {\n      Bokeh.set_log_level(\"info\");\n    },\n    \n    function(Bokeh) {\n      \n    },\n    function(Bokeh) {\n      console.log(\"Bokeh: injecting CSS: https://cdn.pydata.org/bokeh/release/bokeh-0.12.10.min.css\");\n      Bokeh.embed.inject_css(\"https://cdn.pydata.org/bokeh/release/bokeh-0.12.10.min.css\");\n      console.log(\"Bokeh: injecting CSS: https://cdn.pydata.org/bokeh/release/bokeh-widgets-0.12.10.min.css\");\n      Bokeh.embed.inject_css(\"https://cdn.pydata.org/bokeh/release/bokeh-widgets-0.12.10.min.css\");\n      console.log(\"Bokeh: injecting CSS: https://cdn.pydata.org/bokeh/release/bokeh-tables-0.12.10.min.css\");\n      Bokeh.embed.inject_css(\"https://cdn.pydata.org/bokeh/release/bokeh-tables-0.12.10.min.css\");\n    }\n  ];\n\n  function run_inline_js() {\n    \n    if ((root.Bokeh !== undefined) || (force === true)) {\n      for (var i = 0; i < inline_js.length; i++) {\n        inline_js[i].call(root, root.Bokeh);\n      }if (force === true) {\n        display_loaded();\n      }} else if (Date.now() < root._bokeh_timeout) {\n      setTimeout(run_inline_js, 100);\n    } else if (!root._bokeh_failed_load) {\n      console.log(\"Bokeh: BokehJS failed to load within specified timeout.\");\n      root._bokeh_failed_load = true;\n    } else if (force !== true) {\n      var cell = $(document.getElementById(\"56eeb4ae-26a5-4a66-b01f-dca32d4b2a31\")).parents('.cell').data().cell;\n      cell.output_area.append_execute_result(NB_LOAD_WARNING)\n    }\n\n  }\n\n  if (root._bokeh_is_loading === 0) {\n    console.log(\"Bokeh: BokehJS loaded, going straight to plotting\");\n    run_inline_js();\n  } else {\n    load_libs(js_urls, function() {\n      console.log(\"Bokeh: BokehJS plotting callback run at\", now());\n      run_inline_js();\n    });\n  }\n}(window));"
     },
     "metadata": {},
     "output_type": "display_data"
    }
   ],
   "source": [
    "from bokeh.io import show, output_notebook\n",
    "from bokeh.plotting import figure, ColumnDataSource\n",
    "from bokeh.models import HoverTool, ResetTool, PanTool, WheelZoomTool, SaveTool\n",
    "output_notebook()"
   ]
  },
  {
   "cell_type": "code",
   "execution_count": 408,
   "metadata": {},
   "outputs": [
    {
     "data": {
      "text/html": [
       "\n",
       "<div class=\"bk-root\">\n",
       "    <div class=\"bk-plotdiv\" id=\"5bec4383-b6e9-4d6b-818f-15a5a00ad5aa\"></div>\n",
       "</div>"
      ]
     },
     "metadata": {},
     "output_type": "display_data"
    },
    {
     "data": {
      "application/javascript": [
       "(function(root) {\n",
       "  function embed_document(root) {\n",
       "    var docs_json = {\"05497428-73aa-4de8-8b21-a3279f220a90\":{\"roots\":{\"references\":[{\"attributes\":{\"formatter\":{\"id\":\"7e05ab29-1592-4235-a0a1-dbef51f5be8c\",\"type\":\"BasicTickFormatter\"},\"plot\":{\"id\":\"39555d61-805e-40fd-ae26-66cd118b52fb\",\"subtype\":\"Figure\",\"type\":\"Plot\"},\"ticker\":{\"id\":\"18c11f7d-e5fd-4caa-9852-2ca7d8d83e14\",\"type\":\"BasicTicker\"}},\"id\":\"4361b4cf-17fb-47bf-bb68-ba9a1a211967\",\"type\":\"LinearAxis\"},{\"attributes\":{},\"id\":\"3bf2285f-08ee-4efa-aed9-35dd5183960b\",\"type\":\"ResetTool\"},{\"attributes\":{},\"id\":\"18c11f7d-e5fd-4caa-9852-2ca7d8d83e14\",\"type\":\"BasicTicker\"},{\"attributes\":{\"formatter\":{\"id\":\"20ebfca8-eab4-4b58-867d-15c4e2364e88\",\"type\":\"BasicTickFormatter\"},\"plot\":{\"id\":\"39555d61-805e-40fd-ae26-66cd118b52fb\",\"subtype\":\"Figure\",\"type\":\"Plot\"},\"ticker\":{\"id\":\"5fcfae56-b827-43ba-8db0-e9e636d96abc\",\"type\":\"BasicTicker\"}},\"id\":\"4f4d42dd-1bd9-4ae7-9d7e-15475bc89aca\",\"type\":\"LinearAxis\"},{\"attributes\":{},\"id\":\"5fcfae56-b827-43ba-8db0-e9e636d96abc\",\"type\":\"BasicTicker\"},{\"attributes\":{\"callback\":null,\"column_names\":[\"x\",\"y\",\"name\",\"color\",\"rtscore\"],\"data\":{\"color\":[\"#cdff00\",\"#38ff00\",\"#43ff00\",\"#2eff00\",\"#57ff00\",\"#1aff00\",\"#43ff00\",\"#ff4d00\",\"#ff4300\",\"#4dff00\",\"#71ff00\",\"#4dff00\",\"#29ff00\",\"#24ff00\",\"#24ff00\",\"#fff100\",\"#14ff00\",\"#6cff00\",\"#ff5700\",\"#3dff00\",\"#33ff00\",\"#ffae00\",\"#61ff00\",\"#00ff00\",\"#2eff00\",\"#8fff00\",\"#1aff00\",\"#66ff00\",\"#a4ff00\",\"#b8ff00\",\"#0aff00\",\"#fbff00\",\"#1aff00\",\"#a9ff00\",\"#57ff00\",\"#3dff00\",\"#cdff00\"],\"name\":[\"Independence Day (a.k.a. ID4) (1996)\",\"Spider-Man (2002)\",\"Matrix, The (1999)\",\"Shawshank Redemption, The (1994)\",\"American History X (1998)\",\"Wild Strawberries (Smultronst\\u00e4llet) (1957)\",\"Control (2007)\",\"Miss Congeniality 2: Armed and Fabulous (2005)\",\"Just My Luck (2006)\",\"Santa Sangre (1989)\",\"Videodrome (1983)\",\"Billy Elliot (2000)\",\"Pride (2014)\",\"Jurassic Park (1993)\",\"Star Wars: Episode IV - A New Hope (1977)\",\"Princess Diaries, The (2001)\",\"Schindler's List (1993)\",\"Fight Club (1999)\",\"New York Ripper, The (Squartatore di New York, Lo) (1982)\",\"American Beauty (1999)\",\"City of God (Cidade de Deus) (2002)\",\"Battleship (2012)\",\"Take Care of My Cat (Goyangileul butaghae) (2001)\",\"Terminator, The (1984)\",\"Edge of Tomorrow (2014)\",\"Forrest Gump (1994)\",\"King's Speech, The (2010)\",\"Life Is Beautiful (La Vita \\u00e8 bella) (1997)\",\"Stage Fright (Deliria) (1987)\",\"Ichi the Killer (Koroshiya 1) (2001)\",\"Brazil (1985)\",\"Fountain, The (2006)\",\"Accused, The (1988)\",\"Time to Kill, A (1996)\",\"Ghost Writer, The (2010)\",\"Superbad (2007)\",\"American Pie (1999)\"],\"rtscore\":[0.6,0.89,0.87,0.91,0.83,0.95,0.87,0.15,0.13,0.85,0.78,0.85,0.92,0.93,0.93,0.47,0.96,0.79,0.17,0.88,0.9,0.34,0.81,1.0,0.91,0.72,0.95,0.8,0.68,0.64,0.98,0.51,0.95,0.67,0.83,0.88,0.6],\"x\":[1.9563192464706578,2.423473011939733,6.166922994976296,8.263266304963047,8.40728222825496,7.467585235072493,7.309527270150404,0.2763807327027906,0.09133591026512636,5.478011932785142,4.335738415983889,5.1125848951296575,5.350205221235813,3.467061184601558,5.283249654357827,0.7511985315999713,8.012862850827632,8.448732889671703,2.6281793776486384,8.594701228394438,8.8628556999511,0.07895014805738113,2.5587249561975716,4.887597829601467,4.356287831804951,6.080402888934181,6.351129429131261,6.6083529028357635,4.417500015444916,4.314339943618697,6.342243226893646,5.78340028448389,5.784931428017211,3.755509495583607,5.439232132618228,3.6911395441109196,2.212503735032812],\"y\":[-7.004651322298654,-6.5683617061531665,-8.288756869341015,-5.84697935868207,-4.8791047963082335,-1.0961272811702436,-1.8150512541562585,-2.2894303250116423,-1.8303448652081356,-1.8601570872829658,-1.8528059086619626,-2.220114087389773,-1.8469216704740612,-7.283029689024392,-7.576582963071958,-2.300994940111546,-4.795991450586857,-5.661292452125195,-2.995109243900947,-3.1185938681355103,-4.32291045516863,-4.9514078492758085,0.21770525613205652,-7.444349465494818,-7.076629257758824,-5.029462539700735,-3.7401245085837167,-3.5359042615520417,-2.826596727515738,-2.5413593613637606,-3.240371167874715,-2.8005467589011497,-3.4826050275184945,-3.808230047148003,-3.722982094802205,-2.7906872889413794,-3.643259300308142]}},\"id\":\"ede18667-62fd-485f-962b-5e046d34f93b\",\"type\":\"ColumnDataSource\"},{\"attributes\":{},\"id\":\"fb913d1b-f9d0-4ae3-bfae-51dc897ec05c\",\"type\":\"WheelZoomTool\"},{\"attributes\":{\"dimension\":1,\"plot\":{\"id\":\"39555d61-805e-40fd-ae26-66cd118b52fb\",\"subtype\":\"Figure\",\"type\":\"Plot\"},\"ticker\":{\"id\":\"5fcfae56-b827-43ba-8db0-e9e636d96abc\",\"type\":\"BasicTicker\"}},\"id\":\"4c33205d-6a02-4ea6-8716-052196b47413\",\"type\":\"Grid\"},{\"attributes\":{\"callback\":null,\"tooltips\":[[\"Name\",\"@name\"],[\"RT Score\",\"@rtscore\"]]},\"id\":\"09977441-adfb-4355-ac3e-baf8cbad92e9\",\"type\":\"HoverTool\"},{\"attributes\":{\"data_source\":{\"id\":\"ede18667-62fd-485f-962b-5e046d34f93b\",\"type\":\"ColumnDataSource\"},\"glyph\":{\"id\":\"8da90ef4-1e0c-4367-907a-23994b7118a1\",\"type\":\"Circle\"},\"hover_glyph\":null,\"muted_glyph\":null,\"nonselection_glyph\":{\"id\":\"a699ac42-d0f6-4dd2-86b3-f7fbcc195ef8\",\"type\":\"Circle\"},\"selection_glyph\":null,\"view\":{\"id\":\"22bc3e5f-f6b7-4334-96be-385d65197a2f\",\"type\":\"CDSView\"}},\"id\":\"1e973374-beed-4a40-9bb6-523c71d404f1\",\"type\":\"GlyphRenderer\"},{\"attributes\":{},\"id\":\"aea1de04-42c5-47e3-b3aa-37a914e4d08c\",\"type\":\"PanTool\"},{\"attributes\":{\"fill_alpha\":{\"value\":0.1},\"fill_color\":{\"value\":\"#1f77b4\"},\"line_alpha\":{\"value\":0.1},\"line_color\":{\"value\":\"#1f77b4\"},\"size\":{\"units\":\"screen\",\"value\":15},\"x\":{\"field\":\"x\"},\"y\":{\"field\":\"y\"}},\"id\":\"a699ac42-d0f6-4dd2-86b3-f7fbcc195ef8\",\"type\":\"Circle\"},{\"attributes\":{\"below\":[{\"id\":\"4361b4cf-17fb-47bf-bb68-ba9a1a211967\",\"type\":\"LinearAxis\"}],\"left\":[{\"id\":\"4f4d42dd-1bd9-4ae7-9d7e-15475bc89aca\",\"type\":\"LinearAxis\"}],\"plot_height\":480,\"plot_width\":720,\"renderers\":[{\"id\":\"4361b4cf-17fb-47bf-bb68-ba9a1a211967\",\"type\":\"LinearAxis\"},{\"id\":\"c880a26f-95f3-42f1-8bb6-3dfeff68eedf\",\"type\":\"Grid\"},{\"id\":\"4f4d42dd-1bd9-4ae7-9d7e-15475bc89aca\",\"type\":\"LinearAxis\"},{\"id\":\"4c33205d-6a02-4ea6-8716-052196b47413\",\"type\":\"Grid\"},{\"id\":\"1e973374-beed-4a40-9bb6-523c71d404f1\",\"type\":\"GlyphRenderer\"}],\"title\":{\"id\":\"34668e2c-b363-4be3-bdcd-c864889b0f82\",\"type\":\"Title\"},\"toolbar\":{\"id\":\"d48c5824-dba2-4a7b-996f-89772c69d2e5\",\"type\":\"Toolbar\"},\"x_range\":{\"id\":\"5da214d1-3f51-4efc-830b-a5ae5937a172\",\"type\":\"DataRange1d\"},\"x_scale\":{\"id\":\"31e4c90e-c7de-4fe7-ad11-8f2f50195d4b\",\"type\":\"LinearScale\"},\"y_range\":{\"id\":\"2a40c328-a99b-487d-9bcc-3128bcc85487\",\"type\":\"DataRange1d\"},\"y_scale\":{\"id\":\"86cc3244-9710-4d3e-9685-426a0fb77689\",\"type\":\"LinearScale\"}},\"id\":\"39555d61-805e-40fd-ae26-66cd118b52fb\",\"subtype\":\"Figure\",\"type\":\"Plot\"},{\"attributes\":{\"source\":{\"id\":\"ede18667-62fd-485f-962b-5e046d34f93b\",\"type\":\"ColumnDataSource\"}},\"id\":\"22bc3e5f-f6b7-4334-96be-385d65197a2f\",\"type\":\"CDSView\"},{\"attributes\":{},\"id\":\"0bdc92eb-7b71-4549-a119-757835bee272\",\"type\":\"SaveTool\"},{\"attributes\":{},\"id\":\"7e05ab29-1592-4235-a0a1-dbef51f5be8c\",\"type\":\"BasicTickFormatter\"},{\"attributes\":{\"plot\":null,\"text\":\"Mouse over the dots\"},\"id\":\"34668e2c-b363-4be3-bdcd-c864889b0f82\",\"type\":\"Title\"},{\"attributes\":{},\"id\":\"20ebfca8-eab4-4b58-867d-15c4e2364e88\",\"type\":\"BasicTickFormatter\"},{\"attributes\":{\"callback\":null},\"id\":\"5da214d1-3f51-4efc-830b-a5ae5937a172\",\"type\":\"DataRange1d\"},{\"attributes\":{\"fill_alpha\":{\"value\":0.8},\"fill_color\":{\"field\":\"color\"},\"line_alpha\":{\"value\":0.8},\"line_color\":{\"field\":\"color\"},\"size\":{\"units\":\"screen\",\"value\":15},\"x\":{\"field\":\"x\"},\"y\":{\"field\":\"y\"}},\"id\":\"8da90ef4-1e0c-4367-907a-23994b7118a1\",\"type\":\"Circle\"},{\"attributes\":{\"active_drag\":\"auto\",\"active_inspect\":\"auto\",\"active_scroll\":\"auto\",\"active_tap\":\"auto\",\"tools\":[{\"id\":\"09977441-adfb-4355-ac3e-baf8cbad92e9\",\"type\":\"HoverTool\"},{\"id\":\"3bf2285f-08ee-4efa-aed9-35dd5183960b\",\"type\":\"ResetTool\"},{\"id\":\"aea1de04-42c5-47e3-b3aa-37a914e4d08c\",\"type\":\"PanTool\"},{\"id\":\"fb913d1b-f9d0-4ae3-bfae-51dc897ec05c\",\"type\":\"WheelZoomTool\"},{\"id\":\"0bdc92eb-7b71-4549-a119-757835bee272\",\"type\":\"SaveTool\"}]},\"id\":\"d48c5824-dba2-4a7b-996f-89772c69d2e5\",\"type\":\"Toolbar\"},{\"attributes\":{\"callback\":null},\"id\":\"2a40c328-a99b-487d-9bcc-3128bcc85487\",\"type\":\"DataRange1d\"},{\"attributes\":{},\"id\":\"31e4c90e-c7de-4fe7-ad11-8f2f50195d4b\",\"type\":\"LinearScale\"},{\"attributes\":{},\"id\":\"86cc3244-9710-4d3e-9685-426a0fb77689\",\"type\":\"LinearScale\"},{\"attributes\":{\"plot\":{\"id\":\"39555d61-805e-40fd-ae26-66cd118b52fb\",\"subtype\":\"Figure\",\"type\":\"Plot\"},\"ticker\":{\"id\":\"18c11f7d-e5fd-4caa-9852-2ca7d8d83e14\",\"type\":\"BasicTicker\"}},\"id\":\"c880a26f-95f3-42f1-8bb6-3dfeff68eedf\",\"type\":\"Grid\"}],\"root_ids\":[\"39555d61-805e-40fd-ae26-66cd118b52fb\"]},\"title\":\"Bokeh Application\",\"version\":\"0.12.10\"}};\n",
       "    var render_items = [{\"docid\":\"05497428-73aa-4de8-8b21-a3279f220a90\",\"elementid\":\"5bec4383-b6e9-4d6b-818f-15a5a00ad5aa\",\"modelid\":\"39555d61-805e-40fd-ae26-66cd118b52fb\",\"notebook_comms_target\":\"08bc39ba-7b82-46ad-abf1-3f23aa2d5a07\"}];\n",
       "\n",
       "    root.Bokeh.embed.embed_items(docs_json, render_items);\n",
       "  }\n",
       "\n",
       "  if (root.Bokeh !== undefined) {\n",
       "    embed_document(root);\n",
       "  } else {\n",
       "    var attempts = 0;\n",
       "    var timer = setInterval(function(root) {\n",
       "      if (root.Bokeh !== undefined) {\n",
       "        embed_document(root);\n",
       "        clearInterval(timer);\n",
       "      }\n",
       "      attempts++;\n",
       "      if (attempts > 100) {\n",
       "        console.log(\"Bokeh: ERROR: Unable to embed document because BokehJS library is missing\")\n",
       "        clearInterval(timer);\n",
       "      }\n",
       "    }, 10, root)\n",
       "  }\n",
       "})(window);"
      ],
      "application/vnd.bokehjs_exec.v0+json": ""
     },
     "metadata": {
      "application/vnd.bokehjs_exec.v0+json": {
       "id": "39555d61-805e-40fd-ae26-66cd118b52fb"
      }
     },
     "output_type": "display_data"
    },
    {
     "data": {
      "text/html": [
       "<p><code>&lt;Bokeh Notebook handle for <strong>In[10]</strong>&gt;</code></p>"
      ],
      "text/plain": [
       "<bokeh.io.notebook.CommsHandle at 0x7f3b7e19f080>"
      ]
     },
     "execution_count": 408,
     "metadata": {},
     "output_type": "execute_result"
    }
   ],
   "source": [
    "# Continuous colors\n",
    "from matplotlib.colors import rgb2hex \n",
    "cmap = plt.get_cmap('viridis')\n",
    "\n",
    "def to_red_green(val):\n",
    "    val = val * 100\n",
    "    red = 255 if val<50 else round(256 - (val-50)*5.12)\n",
    "    green = 255 if val>50 else round((val)*5.12)\n",
    "    return rgb2hex([red/255, green/255, 0])\n",
    "\n",
    "source = ColumnDataSource(\n",
    "    data={\n",
    "        \"x\": projections[0],\n",
    "        \"y\": projections[1],\n",
    "        \"name\": [x[1] for x in selected_movies],\n",
    "        \"color\": [to_red_green(x[2]) for x in selected_movies],\n",
    "        \"rtscore\": [x[2] for x in selected_movies]\n",
    "    })\n",
    "\n",
    "hover = HoverTool(\n",
    "    tooltips=[\n",
    "        (\"Name\", \"@name\"),\n",
    "        (\"RT Score\", \"@rtscore\")\n",
    "    ])\n",
    "tools = [hover, ResetTool(), PanTool(), WheelZoomTool(), SaveTool()]\n",
    "\n",
    "p = figure(plot_width=720, plot_height=480, tools=tools, title=\"Mouse over the dots\")\n",
    "p.circle(\"x\", \"y\", source=source, size=15, color=\"color\", alpha=0.8)\n",
    "show(p, notebook_handle=True)"
   ]
  },
  {
   "cell_type": "markdown",
   "metadata": {},
   "source": [
    "** Analysis **"
   ]
  },
  {
   "cell_type": "markdown",
   "metadata": {},
   "source": [
    "Recall the *concepts* we assigned to each direction in the previous excercise: <br/>\n",
    "In Principal Direction 1, top 10 well-done, highly rated; lowest 10 poorly done, not liked by anyone <br/>\n",
    "in Principal Direction 2, top 10: slow and with a lot of feelings involved; lowest 10: fast-paced action <br/>"
   ]
  },
  {
   "cell_type": "markdown",
   "metadata": {},
   "source": [
    "This suggests that the dots to the right on the plot(movies that have higher coordinates in the first dimension) are well done and positively rated movies, and the ones to the left are silly ones. Likewise, the movies to the top are slow and emotional, and the ones to the bottom are fast-paced action movies. <br/>\n",
    "Indeed, this explain why *Wild Strawberries*, a slow-paced emotional AND widely acclaimed movie is on the top right, *American Beauty*, which has neither a lot of actions nor a lot of feelings, but is highly rated is on the right center, and *The Matrix*, a globally liked action movie is to the bottom right of the plot."
   ]
  },
  {
   "cell_type": "markdown",
   "metadata": {},
   "source": [
    "** How do the PCA directions correlate with the Rotten Tomatoes score? **"
   ]
  },
  {
   "cell_type": "markdown",
   "metadata": {},
   "source": [
    "The only obvious relation is between the RT score and the first principal direction, and this is not surprising, since both RT score and first principal direction 'measure' how well the movies are rated by critics and general public."
   ]
  },
  {
   "cell_type": "markdown",
   "metadata": {},
   "source": [
    "Below is the projection of the selected movies on 2nd and 3rd principal directions."
   ]
  },
  {
   "cell_type": "code",
   "execution_count": 21,
   "metadata": {},
   "outputs": [
    {
     "data": {
      "text/html": [
       "\n",
       "<div class=\"bk-root\">\n",
       "    <div class=\"bk-plotdiv\" id=\"bace030e-0a77-4ccd-91ed-803118d5057a\"></div>\n",
       "</div>"
      ]
     },
     "metadata": {},
     "output_type": "display_data"
    },
    {
     "data": {
      "application/javascript": [
       "(function(root) {\n",
       "  function embed_document(root) {\n",
       "    var docs_json = {\"9d02b645-fb9f-472f-9db6-37e7ecdc5959\":{\"roots\":{\"references\":[{\"attributes\":{},\"id\":\"8cebde16-9943-452e-b4fe-46421693077e\",\"type\":\"BasicTicker\"},{\"attributes\":{\"callback\":null,\"tooltips\":[[\"Name\",\"@name\"],[\"RT Score\",\"@rtscore\"]]},\"id\":\"c6bf8937-3a34-4a87-ae78-9d896beea09f\",\"type\":\"HoverTool\"},{\"attributes\":{\"dimension\":1,\"plot\":{\"id\":\"7f576fac-358a-4be9-bc12-cc713f5b8662\",\"subtype\":\"Figure\",\"type\":\"Plot\"},\"ticker\":{\"id\":\"8cebde16-9943-452e-b4fe-46421693077e\",\"type\":\"BasicTicker\"}},\"id\":\"edeb2b33-e7b4-438e-8227-a1b9dcb3f76f\",\"type\":\"Grid\"},{\"attributes\":{\"data_source\":{\"id\":\"47fa394d-3eba-469e-b7b7-3e54e0f45d0d\",\"type\":\"ColumnDataSource\"},\"glyph\":{\"id\":\"bb8fe5c4-d54c-4f70-9020-e9fd96685963\",\"type\":\"Circle\"},\"hover_glyph\":null,\"muted_glyph\":null,\"nonselection_glyph\":{\"id\":\"972cfa86-da35-4e90-a526-cef8ee67fbb6\",\"type\":\"Circle\"},\"selection_glyph\":null,\"view\":{\"id\":\"ba7f4bd6-e602-4beb-8e01-ebc9bfd5c5e9\",\"type\":\"CDSView\"}},\"id\":\"f9f4a8e9-736b-44eb-b2b5-3d8177712f20\",\"type\":\"GlyphRenderer\"},{\"attributes\":{\"below\":[{\"id\":\"489a3de2-f365-4205-9ad4-2c58e2b87db4\",\"type\":\"LinearAxis\"}],\"left\":[{\"id\":\"e356f3ce-347f-46a2-ae34-e873146274df\",\"type\":\"LinearAxis\"}],\"plot_height\":480,\"plot_width\":720,\"renderers\":[{\"id\":\"489a3de2-f365-4205-9ad4-2c58e2b87db4\",\"type\":\"LinearAxis\"},{\"id\":\"d4060fb1-f63a-431f-a5cc-9a287e1ee938\",\"type\":\"Grid\"},{\"id\":\"e356f3ce-347f-46a2-ae34-e873146274df\",\"type\":\"LinearAxis\"},{\"id\":\"edeb2b33-e7b4-438e-8227-a1b9dcb3f76f\",\"type\":\"Grid\"},{\"id\":\"f9f4a8e9-736b-44eb-b2b5-3d8177712f20\",\"type\":\"GlyphRenderer\"}],\"title\":{\"id\":\"38bf2b3b-17e3-4ec7-8bc0-bf5e6f1d6348\",\"type\":\"Title\"},\"toolbar\":{\"id\":\"46ed4be9-483f-4949-907c-b665abd51945\",\"type\":\"Toolbar\"},\"x_range\":{\"id\":\"eb94dd7b-fed4-40e7-bfca-47a04d381bc2\",\"type\":\"DataRange1d\"},\"x_scale\":{\"id\":\"878d3cf8-6c11-457a-a406-ed8c789270bf\",\"type\":\"LinearScale\"},\"y_range\":{\"id\":\"6d3d65dd-7041-4c70-924b-de960791290b\",\"type\":\"DataRange1d\"},\"y_scale\":{\"id\":\"21a5d6d0-3bba-414a-9856-884399bac270\",\"type\":\"LinearScale\"}},\"id\":\"7f576fac-358a-4be9-bc12-cc713f5b8662\",\"subtype\":\"Figure\",\"type\":\"Plot\"},{\"attributes\":{\"fill_alpha\":{\"value\":0.1},\"fill_color\":{\"value\":\"#1f77b4\"},\"line_alpha\":{\"value\":0.1},\"line_color\":{\"value\":\"#1f77b4\"},\"size\":{\"units\":\"screen\",\"value\":15},\"x\":{\"field\":\"x\"},\"y\":{\"field\":\"y\"}},\"id\":\"972cfa86-da35-4e90-a526-cef8ee67fbb6\",\"type\":\"Circle\"},{\"attributes\":{},\"id\":\"d93a3fe4-bd0b-44f7-b936-fc10671b60b7\",\"type\":\"WheelZoomTool\"},{\"attributes\":{\"source\":{\"id\":\"47fa394d-3eba-469e-b7b7-3e54e0f45d0d\",\"type\":\"ColumnDataSource\"}},\"id\":\"ba7f4bd6-e602-4beb-8e01-ebc9bfd5c5e9\",\"type\":\"CDSView\"},{\"attributes\":{},\"id\":\"761efe12-69de-4ca2-aa30-343c532e3966\",\"type\":\"SaveTool\"},{\"attributes\":{},\"id\":\"4d4935e6-82be-444c-9c5e-8ab13899a21d\",\"type\":\"BasicTickFormatter\"},{\"attributes\":{},\"id\":\"adb3015d-8955-478c-9c4e-e4f2909f908d\",\"type\":\"BasicTickFormatter\"},{\"attributes\":{\"plot\":null,\"text\":\"Mouse over the dots\"},\"id\":\"38bf2b3b-17e3-4ec7-8bc0-bf5e6f1d6348\",\"type\":\"Title\"},{\"attributes\":{\"callback\":null},\"id\":\"eb94dd7b-fed4-40e7-bfca-47a04d381bc2\",\"type\":\"DataRange1d\"},{\"attributes\":{\"fill_alpha\":{\"value\":0.8},\"fill_color\":{\"field\":\"color\"},\"line_alpha\":{\"value\":0.8},\"line_color\":{\"field\":\"color\"},\"size\":{\"units\":\"screen\",\"value\":15},\"x\":{\"field\":\"x\"},\"y\":{\"field\":\"y\"}},\"id\":\"bb8fe5c4-d54c-4f70-9020-e9fd96685963\",\"type\":\"Circle\"},{\"attributes\":{\"active_drag\":\"auto\",\"active_inspect\":\"auto\",\"active_scroll\":\"auto\",\"active_tap\":\"auto\",\"tools\":[{\"id\":\"c6bf8937-3a34-4a87-ae78-9d896beea09f\",\"type\":\"HoverTool\"},{\"id\":\"0a10b3ca-a575-4084-a2a9-40a68d6e99de\",\"type\":\"ResetTool\"},{\"id\":\"f7bb6383-b34b-4779-af2c-fbc33fc792d2\",\"type\":\"PanTool\"},{\"id\":\"d93a3fe4-bd0b-44f7-b936-fc10671b60b7\",\"type\":\"WheelZoomTool\"},{\"id\":\"761efe12-69de-4ca2-aa30-343c532e3966\",\"type\":\"SaveTool\"}]},\"id\":\"46ed4be9-483f-4949-907c-b665abd51945\",\"type\":\"Toolbar\"},{\"attributes\":{\"callback\":null},\"id\":\"6d3d65dd-7041-4c70-924b-de960791290b\",\"type\":\"DataRange1d\"},{\"attributes\":{\"callback\":null,\"column_names\":[\"x\",\"y\",\"name\",\"color\",\"rtscore\"],\"data\":{\"color\":[\"#cdff00\",\"#38ff00\",\"#43ff00\",\"#2eff00\",\"#57ff00\",\"#1aff00\",\"#43ff00\",\"#ff4d00\",\"#ff4300\",\"#4dff00\",\"#71ff00\",\"#4dff00\",\"#29ff00\",\"#24ff00\",\"#24ff00\",\"#fff100\",\"#14ff00\",\"#6cff00\",\"#ff5700\",\"#3dff00\",\"#33ff00\",\"#ffae00\",\"#61ff00\",\"#00ff00\",\"#2eff00\",\"#8fff00\",\"#1aff00\",\"#66ff00\",\"#a4ff00\",\"#b8ff00\",\"#0aff00\",\"#fbff00\",\"#1aff00\",\"#a9ff00\",\"#57ff00\",\"#3dff00\",\"#cdff00\"],\"name\":[\"Independence Day (a.k.a. ID4) (1996)\",\"Spider-Man (2002)\",\"Matrix, The (1999)\",\"Shawshank Redemption, The (1994)\",\"American History X (1998)\",\"Wild Strawberries (Smultronst\\u00e4llet) (1957)\",\"Control (2007)\",\"Miss Congeniality 2: Armed and Fabulous (2005)\",\"Just My Luck (2006)\",\"Santa Sangre (1989)\",\"Videodrome (1983)\",\"Billy Elliot (2000)\",\"Pride (2014)\",\"Jurassic Park (1993)\",\"Star Wars: Episode IV - A New Hope (1977)\",\"Princess Diaries, The (2001)\",\"Schindler's List (1993)\",\"Fight Club (1999)\",\"New York Ripper, The (Squartatore di New York, Lo) (1982)\",\"American Beauty (1999)\",\"City of God (Cidade de Deus) (2002)\",\"Battleship (2012)\",\"Take Care of My Cat (Goyangileul butaghae) (2001)\",\"Terminator, The (1984)\",\"Edge of Tomorrow (2014)\",\"Forrest Gump (1994)\",\"King's Speech, The (2010)\",\"Life Is Beautiful (La Vita \\u00e8 bella) (1997)\",\"Stage Fright (Deliria) (1987)\",\"Ichi the Killer (Koroshiya 1) (2001)\",\"Brazil (1985)\",\"Fountain, The (2006)\",\"Accused, The (1988)\",\"Time to Kill, A (1996)\",\"Ghost Writer, The (2010)\",\"Superbad (2007)\",\"American Pie (1999)\"],\"rtscore\":[0.6,0.89,0.87,0.91,0.83,0.95,0.87,0.15,0.13,0.85,0.78,0.85,0.92,0.93,0.93,0.47,0.96,0.79,0.17,0.88,0.9,0.34,0.81,1.0,0.91,0.72,0.95,0.8,0.68,0.64,0.98,0.51,0.95,0.67,0.83,0.88,0.6],\"x\":[1.3477094296114247,1.1466536140168722,0.06540027614853622,2.3814906196633343,0.77001451353775,-0.0017043662969550358,0.3488672996291403,0.6901592800131933,0.7641943270843591,-3.2812904718010847,-3.1185996271340457,2.859494116987138,2.978701844788657,1.5916127462871823,1.6349595391363172,1.9258102245070887,3.070744328210314,-1.4503355943197804,-3.1462326874463815,0.43122931916473456,-0.07887585515552731,0.0873180906979656,-0.0749403651008384,0.014971042610038482,0.9285844528432695,4.081018115756555,3.738500634754204,3.370334187821202,-3.549848865951846,-3.20140193239014,-1.6343672919969685,-0.47627749310438094,0.7186698318789375,1.0522067589179573,-0.9114424251725385,0.1579003432773431,0.6119302215404241],\"y\":[2.228539981802336,1.3438247817924793,3.6017260400157887,1.3196544880177,-1.2099595247586468,2.612819866580775,1.2698813924967525,0.021155428956504324,-0.07620055199989051,1.9354402922732903,1.2677962119198622,0.6661979997640213,-0.3362450162940084,2.61119136015863,3.691589468229196,-0.09088626460267266,0.21364359883711379,1.011467390575038,-0.44244165917461653,0.8323023201991699,0.2689986987718691,2.1111077438318717,1.355488133594633,2.1608214731723017,2.3773161365518822,1.516339719216617,-0.041005161963273196,1.5325324997241527,0.058685932486364195,-0.06551610945064368,3.6645601105290617,4.274082500964733,-2.390825830516963,-1.9237821163122044,-1.1754826972464476,-0.6608958399634796,-0.9483018547443113]}},\"id\":\"47fa394d-3eba-469e-b7b7-3e54e0f45d0d\",\"type\":\"ColumnDataSource\"},{\"attributes\":{},\"id\":\"878d3cf8-6c11-457a-a406-ed8c789270bf\",\"type\":\"LinearScale\"},{\"attributes\":{},\"id\":\"21a5d6d0-3bba-414a-9856-884399bac270\",\"type\":\"LinearScale\"},{\"attributes\":{},\"id\":\"0a10b3ca-a575-4084-a2a9-40a68d6e99de\",\"type\":\"ResetTool\"},{\"attributes\":{\"plot\":{\"id\":\"7f576fac-358a-4be9-bc12-cc713f5b8662\",\"subtype\":\"Figure\",\"type\":\"Plot\"},\"ticker\":{\"id\":\"841810fb-ec19-4197-b8f5-a5897a8f98f9\",\"type\":\"BasicTicker\"}},\"id\":\"d4060fb1-f63a-431f-a5cc-9a287e1ee938\",\"type\":\"Grid\"},{\"attributes\":{\"formatter\":{\"id\":\"adb3015d-8955-478c-9c4e-e4f2909f908d\",\"type\":\"BasicTickFormatter\"},\"plot\":{\"id\":\"7f576fac-358a-4be9-bc12-cc713f5b8662\",\"subtype\":\"Figure\",\"type\":\"Plot\"},\"ticker\":{\"id\":\"841810fb-ec19-4197-b8f5-a5897a8f98f9\",\"type\":\"BasicTicker\"}},\"id\":\"489a3de2-f365-4205-9ad4-2c58e2b87db4\",\"type\":\"LinearAxis\"},{\"attributes\":{},\"id\":\"f7bb6383-b34b-4779-af2c-fbc33fc792d2\",\"type\":\"PanTool\"},{\"attributes\":{},\"id\":\"841810fb-ec19-4197-b8f5-a5897a8f98f9\",\"type\":\"BasicTicker\"},{\"attributes\":{\"formatter\":{\"id\":\"4d4935e6-82be-444c-9c5e-8ab13899a21d\",\"type\":\"BasicTickFormatter\"},\"plot\":{\"id\":\"7f576fac-358a-4be9-bc12-cc713f5b8662\",\"subtype\":\"Figure\",\"type\":\"Plot\"},\"ticker\":{\"id\":\"8cebde16-9943-452e-b4fe-46421693077e\",\"type\":\"BasicTicker\"}},\"id\":\"e356f3ce-347f-46a2-ae34-e873146274df\",\"type\":\"LinearAxis\"}],\"root_ids\":[\"7f576fac-358a-4be9-bc12-cc713f5b8662\"]},\"title\":\"Bokeh Application\",\"version\":\"0.12.10\"}};\n",
       "    var render_items = [{\"docid\":\"9d02b645-fb9f-472f-9db6-37e7ecdc5959\",\"elementid\":\"bace030e-0a77-4ccd-91ed-803118d5057a\",\"modelid\":\"7f576fac-358a-4be9-bc12-cc713f5b8662\",\"notebook_comms_target\":\"443a3e2c-daf6-470d-b19e-455edcc31ce5\"}];\n",
       "\n",
       "    root.Bokeh.embed.embed_items(docs_json, render_items);\n",
       "  }\n",
       "\n",
       "  if (root.Bokeh !== undefined) {\n",
       "    embed_document(root);\n",
       "  } else {\n",
       "    var attempts = 0;\n",
       "    var timer = setInterval(function(root) {\n",
       "      if (root.Bokeh !== undefined) {\n",
       "        embed_document(root);\n",
       "        clearInterval(timer);\n",
       "      }\n",
       "      attempts++;\n",
       "      if (attempts > 100) {\n",
       "        console.log(\"Bokeh: ERROR: Unable to embed document because BokehJS library is missing\")\n",
       "        clearInterval(timer);\n",
       "      }\n",
       "    }, 10, root)\n",
       "  }\n",
       "})(window);"
      ],
      "application/vnd.bokehjs_exec.v0+json": ""
     },
     "metadata": {
      "application/vnd.bokehjs_exec.v0+json": {
       "id": "7f576fac-358a-4be9-bc12-cc713f5b8662"
      }
     },
     "output_type": "display_data"
    },
    {
     "data": {
      "text/html": [
       "<p><code>&lt;Bokeh Notebook handle for <strong>In[21]</strong>&gt;</code></p>"
      ],
      "text/plain": [
       "<bokeh.io.notebook.CommsHandle at 0x7f259a15ce10>"
      ]
     },
     "execution_count": 21,
     "metadata": {},
     "output_type": "execute_result"
    }
   ],
   "source": [
    "# Continuous colors\n",
    "from matplotlib.colors import rgb2hex \n",
    "cmap = plt.get_cmap('viridis')\n",
    "\n",
    "def to_red_green(val):\n",
    "    val = val * 100\n",
    "    red = 255 if val<50 else round(256 - (val-50)*5.12)\n",
    "    green = 255 if val>50 else round((val)*5.12)\n",
    "    return rgb2hex([red/255, green/255, 0])\n",
    "\n",
    "source = ColumnDataSource(\n",
    "    data={\n",
    "        \"x\": projections[2],\n",
    "        \"y\": projections[3],\n",
    "        \"name\": [x[1] for x in selected_movies],\n",
    "        \"color\": [to_red_green(x[2]) for x in selected_movies],\n",
    "        \"rtscore\": [x[2] for x in selected_movies]\n",
    "    })\n",
    "\n",
    "hover = HoverTool(\n",
    "    tooltips=[\n",
    "        (\"Name\", \"@name\"),\n",
    "        (\"RT Score\", \"@rtscore\")\n",
    "    ])\n",
    "tools = [hover, ResetTool(), PanTool(), WheelZoomTool(), SaveTool()]\n",
    "\n",
    "p = figure(plot_width=720, plot_height=480, tools=tools, title=\"Mouse over the dots\")\n",
    "p.circle(\"x\", \"y\", source=source, size=15, color=\"color\", alpha=0.8)\n",
    "show(p, notebook_handle=True)"
   ]
  }
 ],
 "metadata": {
  "anaconda-cloud": {},
  "kernelspec": {
   "display_name": "Python 3",
   "language": "python",
   "name": "python3"
  },
  "language_info": {
   "codemirror_mode": {
    "name": "ipython",
    "version": 3
   },
   "file_extension": ".py",
   "mimetype": "text/x-python",
   "name": "python",
   "nbconvert_exporter": "python",
   "pygments_lexer": "ipython3",
   "version": "3.6.3"
  }
 },
 "nbformat": 4,
 "nbformat_minor": 1
}
